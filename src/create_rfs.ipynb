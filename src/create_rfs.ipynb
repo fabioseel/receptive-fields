{
 "cells": [
  {
   "cell_type": "code",
   "execution_count": 1,
   "metadata": {},
   "outputs": [],
   "source": [
    "from util.activation_visualization import effective_receptive_field, rescaleZeroOne\n",
    "from receptive_fields.util.experiment_setup import open_experiment\n",
    "from torch.utils.data import DataLoader\n",
    "\n",
    "import torch\n",
    "import numpy as np\n",
    "import os\n",
    "import imageio as iio"
   ]
  },
  {
   "cell_type": "code",
   "execution_count": 2,
   "metadata": {},
   "outputs": [
    {
     "name": "stdout",
     "output_type": "stream",
     "text": [
      "Files already downloaded and verified\n",
      "Sequential(\n",
      "  (0): Conv2d(3, 32, kernel_size=(3, 3), stride=(1, 1))\n",
      "  (1): ELU(alpha=1.0, inplace=True)\n",
      "  (2): AvgPool2d(kernel_size=2, stride=2, padding=0)\n",
      "  (3): Conv2d(32, 1, kernel_size=(3, 3), stride=(1, 1))\n",
      "  (4): ELU(alpha=1.0, inplace=True)\n",
      "  (5): AvgPool2d(kernel_size=2, stride=2, padding=0)\n",
      "  (6): Conv2d(1, 32, kernel_size=(3, 3), stride=(1, 1))\n",
      "  (7): ELU(alpha=1.0, inplace=True)\n",
      "  (8): AvgPool2d(kernel_size=2, stride=2, padding=0)\n",
      "  (9): Conv2d(32, 32, kernel_size=(3, 3), stride=(1, 1))\n",
      "  (10): ELU(alpha=1.0, inplace=True)\n",
      "  (11): AdaptiveAvgPool2d(output_size=[4, 6])\n",
      ")\n"
     ]
    },
    {
     "name": "stderr",
     "output_type": "stream",
     "text": [
      "100%|██████████| 32/32 [00:07<00:00,  4.03it/s]\n",
      "100%|██████████| 32/32 [00:00<00:00, 188.86it/s]\n",
      "100%|██████████| 32/32 [00:00<00:00, 259.87it/s]\n",
      "100%|██████████| 1/1 [00:00<00:00,  3.41it/s]\n",
      "100%|██████████| 1/1 [00:00<00:00, 346.89it/s]\n",
      "100%|██████████| 1/1 [00:00<00:00, 104.83it/s]\n",
      "100%|██████████| 32/32 [00:00<00:00, 367.02it/s]\n",
      "100%|██████████| 32/32 [00:00<00:00, 436.06it/s]\n",
      "100%|██████████| 32/32 [00:00<00:00, 422.27it/s]\n",
      "100%|██████████| 32/32 [00:00<00:00, 136.21it/s]\n",
      "100%|██████████| 32/32 [00:00<00:00, 443.72it/s]\n",
      "100%|██████████| 32/32 [00:00<00:00, 74.15it/s]\n"
     ]
    },
    {
     "name": "stdout",
     "output_type": "stream",
     "text": [
      "Sequential(\n",
      "  (0): Conv2d(3, 32, kernel_size=(3, 3), stride=(1, 1))\n",
      "  (1): ELU(alpha=1.0, inplace=True)\n",
      "  (2): AvgPool2d(kernel_size=3, stride=3, padding=0)\n",
      "  (3): Conv2d(32, 1, kernel_size=(3, 3), stride=(1, 1))\n",
      "  (4): ELU(alpha=1.0, inplace=True)\n",
      "  (5): AvgPool2d(kernel_size=3, stride=3, padding=0)\n",
      "  (6): Conv2d(1, 32, kernel_size=(3, 3), stride=(1, 1))\n",
      "  (7): ELU(alpha=1.0, inplace=True)\n",
      "  (8): AvgPool2d(kernel_size=3, stride=3, padding=0)\n",
      "  (9): Conv2d(32, 32, kernel_size=(3, 3), stride=(1, 1))\n",
      "  (10): ELU(alpha=1.0, inplace=True)\n",
      "  (11): AdaptiveAvgPool2d(output_size=[4, 6])\n",
      ")\n"
     ]
    },
    {
     "name": "stderr",
     "output_type": "stream",
     "text": [
      "100%|██████████| 32/32 [00:00<00:00, 1125.51it/s]\n",
      "100%|██████████| 32/32 [00:00<00:00, 674.85it/s]\n",
      "100%|██████████| 32/32 [00:00<00:00, 488.30it/s]\n",
      "100%|██████████| 1/1 [00:00<00:00, 170.56it/s]\n",
      "100%|██████████| 1/1 [00:00<00:00, 319.52it/s]\n",
      "100%|██████████| 1/1 [00:00<00:00, 98.68it/s]\n",
      "100%|██████████| 32/32 [00:00<00:00, 436.23it/s]\n",
      "100%|██████████| 32/32 [00:00<00:00, 662.64it/s]\n",
      "100%|██████████| 32/32 [00:00<00:00, 583.19it/s]\n",
      "100%|██████████| 32/32 [00:00<00:00, 266.12it/s]\n",
      "100%|██████████| 32/32 [00:00<00:00, 513.84it/s]\n",
      "100%|██████████| 32/32 [00:00<00:00, 411.55it/s]\n"
     ]
    },
    {
     "name": "stdout",
     "output_type": "stream",
     "text": [
      "Files already downloaded and verified\n",
      "Sequential(\n",
      "  (0): Conv2d(3, 32, kernel_size=(5, 5), stride=(1, 1))\n",
      "  (1): ELU(alpha=1.0, inplace=True)\n",
      "  (2): AvgPool2d(kernel_size=2, stride=2, padding=0)\n",
      "  (3): Conv2d(32, 1, kernel_size=(5, 5), stride=(1, 1))\n",
      "  (4): ELU(alpha=1.0, inplace=True)\n",
      "  (5): AvgPool2d(kernel_size=2, stride=2, padding=0)\n",
      "  (6): Conv2d(1, 32, kernel_size=(5, 5), stride=(1, 1))\n",
      "  (7): ELU(alpha=1.0, inplace=True)\n",
      "  (8): AvgPool2d(kernel_size=2, stride=2, padding=0)\n",
      "  (9): Conv2d(32, 32, kernel_size=(5, 5), stride=(1, 1))\n",
      "  (10): ELU(alpha=1.0, inplace=True)\n",
      "  (11): AdaptiveAvgPool2d(output_size=[4, 6])\n",
      ")\n"
     ]
    },
    {
     "name": "stderr",
     "output_type": "stream",
     "text": [
      "100%|██████████| 32/32 [00:00<00:00, 783.18it/s]\n",
      "100%|██████████| 32/32 [00:00<00:00, 743.00it/s]\n",
      "100%|██████████| 32/32 [00:00<00:00, 669.74it/s]\n",
      "100%|██████████| 1/1 [00:00<00:00, 135.03it/s]\n",
      "100%|██████████| 1/1 [00:00<00:00, 544.93it/s]\n",
      "100%|██████████| 1/1 [00:00<00:00, 153.99it/s]\n",
      "100%|██████████| 32/32 [00:00<00:00, 428.21it/s]\n",
      "100%|██████████| 32/32 [00:00<00:00, 510.24it/s]\n",
      "100%|██████████| 32/32 [00:00<00:00, 439.60it/s]\n",
      "100%|██████████| 32/32 [00:00<00:00, 405.15it/s]\n",
      "100%|██████████| 32/32 [00:00<00:00, 479.81it/s]\n",
      "100%|██████████| 32/32 [00:00<00:00, 520.70it/s]\n"
     ]
    },
    {
     "name": "stdout",
     "output_type": "stream",
     "text": [
      "Files already downloaded and verified\n",
      "Sequential(\n",
      "  (0): Conv2d(3, 32, kernel_size=(5, 5), stride=(1, 1))\n",
      "  (1): ELU(alpha=1.0, inplace=True)\n",
      "  (2): AvgPool2d(kernel_size=3, stride=3, padding=0)\n",
      "  (3): Conv2d(32, 1, kernel_size=(5, 5), stride=(1, 1))\n",
      "  (4): ELU(alpha=1.0, inplace=True)\n",
      "  (5): AvgPool2d(kernel_size=3, stride=3, padding=0)\n",
      "  (6): Conv2d(1, 32, kernel_size=(5, 5), stride=(1, 1))\n",
      "  (7): ELU(alpha=1.0, inplace=True)\n",
      "  (8): AvgPool2d(kernel_size=3, stride=3, padding=0)\n",
      "  (9): Conv2d(32, 32, kernel_size=(5, 5), stride=(1, 1))\n",
      "  (10): ELU(alpha=1.0, inplace=True)\n",
      "  (11): AdaptiveAvgPool2d(output_size=[4, 6])\n",
      ")\n"
     ]
    },
    {
     "name": "stderr",
     "output_type": "stream",
     "text": [
      "100%|██████████| 32/32 [00:00<00:00, 1479.90it/s]\n",
      "100%|██████████| 32/32 [00:00<00:00, 1072.58it/s]\n",
      "100%|██████████| 32/32 [00:00<00:00, 1069.67it/s]\n",
      "100%|██████████| 1/1 [00:00<00:00, 243.36it/s]\n",
      "100%|██████████| 1/1 [00:00<00:00, 547.42it/s]\n",
      "100%|██████████| 1/1 [00:00<00:00, 172.99it/s]\n",
      "100%|██████████| 32/32 [00:00<00:00, 589.42it/s]\n",
      "100%|██████████| 32/32 [00:00<00:00, 661.21it/s]\n",
      "100%|██████████| 32/32 [00:00<00:00, 553.18it/s]\n",
      "100%|██████████| 32/32 [00:00<00:00, 406.18it/s]\n",
      "100%|██████████| 32/32 [00:00<00:00, 373.50it/s]\n",
      "100%|██████████| 32/32 [00:00<00:00, 335.21it/s]\n"
     ]
    },
    {
     "name": "stdout",
     "output_type": "stream",
     "text": [
      "Sequential(\n",
      "  (0): Conv2d(3, 32, kernel_size=(5, 5), stride=(1, 1))\n",
      "  (1): ELU(alpha=1.0, inplace=True)\n",
      "  (2): AvgPool2d(kernel_size=3, stride=3, padding=0)\n",
      "  (3): Conv2d(32, 1, kernel_size=(5, 5), stride=(1, 1))\n",
      "  (4): ELU(alpha=1.0, inplace=True)\n",
      "  (5): AvgPool2d(kernel_size=3, stride=3, padding=0)\n",
      "  (6): Conv2d(1, 32, kernel_size=(5, 5), stride=(1, 1))\n",
      "  (7): ELU(alpha=1.0, inplace=True)\n",
      "  (8): AvgPool2d(kernel_size=3, stride=3, padding=0)\n",
      "  (9): Conv2d(32, 32, kernel_size=(5, 5), stride=(1, 1))\n",
      "  (10): ELU(alpha=1.0, inplace=True)\n",
      "  (11): AdaptiveAvgPool2d(output_size=[4, 6])\n",
      ")\n"
     ]
    },
    {
     "name": "stderr",
     "output_type": "stream",
     "text": [
      "100%|██████████| 32/32 [00:00<00:00, 1431.09it/s]\n",
      "100%|██████████| 32/32 [00:00<00:00, 1357.83it/s]\n",
      "100%|██████████| 32/32 [00:00<00:00, 1189.69it/s]\n",
      "100%|██████████| 1/1 [00:00<00:00, 674.98it/s]\n",
      "100%|██████████| 1/1 [00:00<00:00, 692.47it/s]\n",
      "100%|██████████| 1/1 [00:00<00:00, 709.34it/s]\n",
      "100%|██████████| 32/32 [00:00<00:00, 554.81it/s]\n",
      "100%|██████████| 32/32 [00:00<00:00, 534.38it/s]\n",
      "100%|██████████| 32/32 [00:00<00:00, 460.51it/s]\n",
      "100%|██████████| 32/32 [00:00<00:00, 402.95it/s]\n",
      "100%|██████████| 32/32 [00:00<00:00, 397.35it/s]\n",
      "/tmp/ipykernel_19251/2612950444.py:48: RuntimeWarning: invalid value encountered in cast\n",
      "  rf = ((rescaleZeroOne(rf).numpy())*255).astype(np.uint8)\n",
      "100%|██████████| 32/32 [00:00<00:00, 359.16it/s]\n"
     ]
    },
    {
     "name": "stdout",
     "output_type": "stream",
     "text": [
      "Sequential(\n",
      "  (0): Conv2d(3, 32, kernel_size=(7, 7), stride=(1, 1))\n",
      "  (1): ELU(alpha=1.0, inplace=True)\n",
      "  (2): AvgPool2d(kernel_size=2, stride=2, padding=0)\n",
      "  (3): Conv2d(32, 1, kernel_size=(7, 7), stride=(1, 1))\n",
      "  (4): ELU(alpha=1.0, inplace=True)\n",
      "  (5): AvgPool2d(kernel_size=2, stride=2, padding=0)\n",
      "  (6): Conv2d(1, 32, kernel_size=(7, 7), stride=(1, 1))\n",
      "  (7): ELU(alpha=1.0, inplace=True)\n",
      "  (8): AvgPool2d(kernel_size=2, stride=2, padding=0)\n",
      "  (9): Conv2d(32, 32, kernel_size=(7, 7), stride=(1, 1))\n",
      "  (10): ELU(alpha=1.0, inplace=True)\n",
      "  (11): AdaptiveAvgPool2d(output_size=[4, 6])\n",
      ")\n"
     ]
    },
    {
     "name": "stderr",
     "output_type": "stream",
     "text": [
      "100%|██████████| 32/32 [00:00<00:00, 282.58it/s]\n",
      "100%|██████████| 32/32 [00:00<00:00, 671.58it/s]\n",
      "100%|██████████| 32/32 [00:00<00:00, 558.95it/s]\n",
      "100%|██████████| 1/1 [00:00<00:00,  1.96it/s]\n",
      "100%|██████████| 1/1 [00:00<00:00, 315.57it/s]\n",
      "100%|██████████| 1/1 [00:00<00:00, 124.78it/s]\n",
      "100%|██████████| 32/32 [00:00<00:00, 370.12it/s]\n",
      "100%|██████████| 32/32 [00:00<00:00, 486.53it/s]\n",
      "100%|██████████| 32/32 [00:00<00:00, 433.43it/s]\n",
      "100%|██████████| 32/32 [00:00<00:00, 166.63it/s]\n",
      "100%|██████████| 32/32 [00:00<00:00, 333.14it/s]\n",
      "100%|██████████| 32/32 [00:00<00:00, 405.78it/s]\n"
     ]
    },
    {
     "name": "stdout",
     "output_type": "stream",
     "text": [
      "Files already downloaded and verified\n",
      "Sequential(\n",
      "  (0): Conv2d(3, 32, kernel_size=(7, 7), stride=(1, 1), padding=(1, 1))\n",
      "  (1): ELU(alpha=1.0, inplace=True)\n",
      "  (2): AvgPool2d(kernel_size=3, stride=3, padding=0)\n",
      "  (3): Conv2d(32, 1, kernel_size=(7, 7), stride=(1, 1), padding=(1, 1))\n",
      "  (4): ELU(alpha=1.0, inplace=True)\n",
      "  (5): AvgPool2d(kernel_size=3, stride=3, padding=0)\n",
      "  (6): Conv2d(1, 32, kernel_size=(7, 7), stride=(1, 1), padding=(1, 1))\n",
      "  (7): ELU(alpha=1.0, inplace=True)\n",
      "  (8): AvgPool2d(kernel_size=3, stride=3, padding=0)\n",
      "  (9): Conv2d(32, 32, kernel_size=(7, 7), stride=(1, 1), padding=(1, 1))\n",
      "  (10): ELU(alpha=1.0, inplace=True)\n",
      "  (11): AdaptiveAvgPool2d(output_size=[4, 6])\n",
      ")\n"
     ]
    },
    {
     "name": "stderr",
     "output_type": "stream",
     "text": [
      "100%|██████████| 32/32 [00:00<00:00, 1009.73it/s]\n",
      "100%|██████████| 32/32 [00:00<00:00, 873.30it/s]\n",
      "100%|██████████| 32/32 [00:00<00:00, 824.37it/s]\n",
      "100%|██████████| 1/1 [00:00<00:00, 203.37it/s]\n",
      "100%|██████████| 1/1 [00:00<00:00, 468.11it/s]\n",
      "100%|██████████| 1/1 [00:00<00:00, 163.75it/s]\n",
      "100%|██████████| 32/32 [00:00<00:00, 402.92it/s]\n",
      "100%|██████████| 32/32 [00:00<00:00, 508.32it/s]\n",
      "100%|██████████| 32/32 [00:00<00:00, 441.98it/s]\n",
      "100%|██████████| 32/32 [00:00<00:00, 256.63it/s]\n",
      "100%|██████████| 32/32 [00:00<00:00, 261.42it/s]\n",
      "100%|██████████| 32/32 [00:00<00:00, 275.54it/s]\n"
     ]
    },
    {
     "name": "stdout",
     "output_type": "stream",
     "text": [
      "Sequential(\n",
      "  (0): Conv2d(3, 32, kernel_size=(7, 7), stride=(1, 1), padding=(1, 1))\n",
      "  (1): ELU(alpha=1.0, inplace=True)\n",
      "  (2): AvgPool2d(kernel_size=3, stride=3, padding=0)\n",
      "  (3): Conv2d(32, 1, kernel_size=(7, 7), stride=(1, 1), padding=(1, 1))\n",
      "  (4): ELU(alpha=1.0, inplace=True)\n",
      "  (5): AvgPool2d(kernel_size=3, stride=3, padding=0)\n",
      "  (6): Conv2d(1, 32, kernel_size=(7, 7), stride=(1, 1), padding=(1, 1))\n",
      "  (7): ELU(alpha=1.0, inplace=True)\n",
      "  (8): AvgPool2d(kernel_size=3, stride=3, padding=0)\n",
      "  (9): Conv2d(32, 32, kernel_size=(7, 7), stride=(1, 1), padding=(1, 1))\n",
      "  (10): ELU(alpha=1.0, inplace=True)\n",
      "  (11): AdaptiveAvgPool2d(output_size=[4, 6])\n",
      ")\n"
     ]
    },
    {
     "name": "stderr",
     "output_type": "stream",
     "text": [
      "100%|██████████| 32/32 [00:00<00:00, 1245.88it/s]\n",
      "100%|██████████| 32/32 [00:00<00:00, 1302.63it/s]\n",
      "100%|██████████| 32/32 [00:00<00:00, 1273.01it/s]\n",
      "100%|██████████| 1/1 [00:00<00:00, 611.15it/s]\n",
      "100%|██████████| 1/1 [00:00<00:00, 664.92it/s]\n",
      "100%|██████████| 1/1 [00:00<00:00, 633.01it/s]\n",
      "100%|██████████| 32/32 [00:00<00:00, 641.14it/s]\n",
      "100%|██████████| 32/32 [00:00<00:00, 621.38it/s]\n",
      "100%|██████████| 32/32 [00:00<00:00, 589.85it/s]\n",
      "100%|██████████| 32/32 [00:00<00:00, 278.60it/s]\n",
      "100%|██████████| 32/32 [00:00<00:00, 288.61it/s]\n",
      "100%|██████████| 32/32 [00:00<00:00, 284.14it/s]\n"
     ]
    },
    {
     "name": "stdout",
     "output_type": "stream",
     "text": [
      "Sequential(\n",
      "  (0): Conv2d(3, 32, kernel_size=(3, 3), stride=(3, 3))\n",
      "  (1): ELU(alpha=1.0, inplace=True)\n",
      "  (2): Conv2d(32, 1, kernel_size=(3, 3), stride=(3, 3))\n",
      "  (3): ELU(alpha=1.0, inplace=True)\n",
      "  (4): Conv2d(1, 32, kernel_size=(3, 3), stride=(3, 3))\n",
      "  (5): ELU(alpha=1.0, inplace=True)\n",
      "  (6): Conv2d(32, 32, kernel_size=(3, 3), stride=(3, 3))\n",
      "  (7): ELU(alpha=1.0, inplace=True)\n",
      "  (8): AdaptiveAvgPool2d(output_size=[4, 6])\n",
      ")\n"
     ]
    },
    {
     "name": "stderr",
     "output_type": "stream",
     "text": [
      "100%|██████████| 32/32 [00:00<00:00, 1112.23it/s]\n",
      "100%|██████████| 32/32 [00:00<00:00, 1071.98it/s]\n",
      "100%|██████████| 1/1 [00:00<00:00,  9.29it/s]\n",
      "100%|██████████| 1/1 [00:00<00:00, 462.85it/s]\n",
      "100%|██████████| 32/32 [00:00<00:00, 410.65it/s]\n",
      "100%|██████████| 32/32 [00:00<00:00, 602.51it/s]\n",
      "100%|██████████| 32/32 [00:00<00:00, 432.73it/s]\n",
      "100%|██████████| 32/32 [00:00<00:00, 426.45it/s]\n",
      "100%|██████████| 32/32 [00:00<00:00, 418.74it/s]\n"
     ]
    },
    {
     "name": "stdout",
     "output_type": "stream",
     "text": [
      "Files already downloaded and verified\n",
      "Sequential(\n",
      "  (0): Conv2d(3, 32, kernel_size=(5, 5), stride=(2, 2))\n",
      "  (1): ELU(alpha=1.0, inplace=True)\n",
      "  (2): Conv2d(32, 1, kernel_size=(5, 5), stride=(2, 2))\n",
      "  (3): ELU(alpha=1.0, inplace=True)\n",
      "  (4): Conv2d(1, 32, kernel_size=(5, 5), stride=(2, 2))\n",
      "  (5): ELU(alpha=1.0, inplace=True)\n",
      "  (6): Conv2d(32, 32, kernel_size=(5, 5), stride=(2, 2))\n",
      "  (7): ELU(alpha=1.0, inplace=True)\n",
      "  (8): AdaptiveAvgPool2d(output_size=[4, 6])\n",
      ")\n"
     ]
    },
    {
     "name": "stderr",
     "output_type": "stream",
     "text": [
      "100%|██████████| 32/32 [00:00<00:00, 821.69it/s]\n",
      "100%|██████████| 32/32 [00:00<00:00, 825.68it/s]\n",
      "100%|██████████| 1/1 [00:00<00:00, 180.63it/s]\n",
      "100%|██████████| 1/1 [00:00<00:00, 488.28it/s]\n",
      "100%|██████████| 32/32 [00:00<00:00, 402.17it/s]\n",
      "100%|██████████| 32/32 [00:00<00:00, 490.14it/s]\n",
      "100%|██████████| 32/32 [00:00<00:00, 354.79it/s]\n",
      "100%|██████████| 32/32 [00:00<00:00, 400.74it/s]\n",
      "100%|██████████| 32/32 [00:00<00:00, 401.02it/s]\n"
     ]
    },
    {
     "name": "stdout",
     "output_type": "stream",
     "text": [
      "Files already downloaded and verified\n",
      "Sequential(\n",
      "  (0): Conv2d(3, 32, kernel_size=(5, 5), stride=(3, 3), padding=(1, 1))\n",
      "  (1): ELU(alpha=1.0, inplace=True)\n",
      "  (2): Conv2d(32, 1, kernel_size=(5, 5), stride=(3, 3), padding=(1, 1))\n",
      "  (3): ELU(alpha=1.0, inplace=True)\n",
      "  (4): Conv2d(1, 32, kernel_size=(5, 5), stride=(3, 3), padding=(1, 1))\n",
      "  (5): ELU(alpha=1.0, inplace=True)\n",
      "  (6): Conv2d(32, 32, kernel_size=(5, 5), stride=(3, 3), padding=(1, 1))\n",
      "  (7): ELU(alpha=1.0, inplace=True)\n",
      "  (8): AdaptiveAvgPool2d(output_size=[4, 6])\n",
      ")\n"
     ]
    },
    {
     "name": "stderr",
     "output_type": "stream",
     "text": [
      "100%|██████████| 32/32 [00:00<00:00, 865.94it/s]\n",
      "100%|██████████| 32/32 [00:00<00:00, 739.70it/s]\n",
      "100%|██████████| 1/1 [00:00<00:00, 130.81it/s]\n",
      "100%|██████████| 1/1 [00:00<00:00, 472.65it/s]\n",
      "100%|██████████| 32/32 [00:00<00:00, 403.80it/s]\n",
      "100%|██████████| 32/32 [00:00<00:00, 426.30it/s]\n",
      "100%|██████████| 32/32 [00:00<00:00, 295.84it/s]\n",
      "100%|██████████| 32/32 [00:00<00:00, 408.48it/s]\n",
      "100%|██████████| 32/32 [00:00<00:00, 421.33it/s]\n"
     ]
    },
    {
     "name": "stdout",
     "output_type": "stream",
     "text": [
      "Sequential(\n",
      "  (0): Conv2d(3, 32, kernel_size=(5, 5), stride=(4, 4), padding=(3, 3))\n",
      "  (1): ELU(alpha=1.0, inplace=True)\n",
      "  (2): Conv2d(32, 1, kernel_size=(5, 5), stride=(4, 4), padding=(3, 3))\n",
      "  (3): ELU(alpha=1.0, inplace=True)\n",
      "  (4): Conv2d(1, 32, kernel_size=(5, 5), stride=(4, 4), padding=(3, 3))\n",
      "  (5): ELU(alpha=1.0, inplace=True)\n",
      "  (6): Conv2d(32, 32, kernel_size=(5, 5), stride=(4, 4), padding=(3, 3))\n",
      "  (7): ELU(alpha=1.0, inplace=True)\n",
      "  (8): AdaptiveAvgPool2d(output_size=[4, 6])\n",
      ")\n"
     ]
    },
    {
     "name": "stderr",
     "output_type": "stream",
     "text": [
      "100%|██████████| 32/32 [00:00<00:00, 1311.72it/s]\n",
      "100%|██████████| 32/32 [00:00<00:00, 1309.16it/s]\n",
      "100%|██████████| 1/1 [00:00<00:00, 260.34it/s]\n",
      "100%|██████████| 1/1 [00:00<00:00, 707.30it/s]\n",
      "100%|██████████| 32/32 [00:00<00:00, 483.43it/s]\n",
      "100%|██████████| 32/32 [00:00<00:00, 603.71it/s]\n",
      "100%|██████████| 32/32 [00:00<00:00, 390.68it/s]\n",
      "100%|██████████| 32/32 [00:00<00:00, 364.26it/s]\n",
      "100%|██████████| 32/32 [00:00<00:00, 384.09it/s]\n"
     ]
    },
    {
     "name": "stdout",
     "output_type": "stream",
     "text": [
      "Sequential(\n",
      "  (0): Conv2d(3, 32, kernel_size=(7, 7), stride=(2, 2))\n",
      "  (1): ELU(alpha=1.0, inplace=True)\n",
      "  (2): Conv2d(32, 1, kernel_size=(7, 7), stride=(2, 2))\n",
      "  (3): ELU(alpha=1.0, inplace=True)\n",
      "  (4): Conv2d(1, 32, kernel_size=(7, 7), stride=(2, 2))\n",
      "  (5): ELU(alpha=1.0, inplace=True)\n",
      "  (6): Conv2d(32, 32, kernel_size=(7, 7), stride=(2, 2))\n",
      "  (7): ELU(alpha=1.0, inplace=True)\n",
      "  (8): AdaptiveAvgPool2d(output_size=[4, 6])\n",
      ")\n"
     ]
    },
    {
     "name": "stderr",
     "output_type": "stream",
     "text": [
      "100%|██████████| 32/32 [00:00<00:00, 1105.15it/s]\n",
      "100%|██████████| 32/32 [00:00<00:00, 903.09it/s]\n",
      "100%|██████████| 1/1 [00:00<00:00, 252.59it/s]\n",
      "100%|██████████| 1/1 [00:00<00:00, 671.63it/s]\n",
      "100%|██████████| 32/32 [00:00<00:00, 490.15it/s]\n",
      "100%|██████████| 32/32 [00:00<00:00, 537.37it/s]\n",
      "100%|██████████| 32/32 [00:00<00:00, 388.64it/s]\n",
      "100%|██████████| 32/32 [00:00<00:00, 451.53it/s]\n",
      "100%|██████████| 32/32 [00:00<00:00, 443.29it/s]\n"
     ]
    },
    {
     "name": "stdout",
     "output_type": "stream",
     "text": [
      "Files already downloaded and verified\n",
      "Sequential(\n",
      "  (0): Conv2d(3, 32, kernel_size=(7, 7), stride=(3, 3), padding=(2, 2))\n",
      "  (1): ELU(alpha=1.0, inplace=True)\n",
      "  (2): Conv2d(32, 1, kernel_size=(7, 7), stride=(3, 3), padding=(2, 2))\n",
      "  (3): ELU(alpha=1.0, inplace=True)\n",
      "  (4): Conv2d(1, 32, kernel_size=(7, 7), stride=(3, 3), padding=(2, 2))\n",
      "  (5): ELU(alpha=1.0, inplace=True)\n",
      "  (6): Conv2d(32, 32, kernel_size=(7, 7), stride=(3, 3), padding=(2, 2))\n",
      "  (7): ELU(alpha=1.0, inplace=True)\n",
      "  (8): AdaptiveAvgPool2d(output_size=[4, 6])\n",
      ")\n"
     ]
    },
    {
     "name": "stderr",
     "output_type": "stream",
     "text": [
      "100%|██████████| 32/32 [00:00<00:00, 1308.61it/s]\n",
      "100%|██████████| 32/32 [00:00<00:00, 1402.31it/s]\n",
      "100%|██████████| 1/1 [00:00<00:00, 181.64it/s]\n",
      "100%|██████████| 1/1 [00:00<00:00, 520.45it/s]\n",
      "100%|██████████| 32/32 [00:00<00:00, 394.44it/s]\n",
      "100%|██████████| 32/32 [00:00<00:00, 614.99it/s]\n",
      "100%|██████████| 32/32 [00:00<00:00, 442.47it/s]\n",
      "100%|██████████| 32/32 [00:00<00:00, 349.31it/s]\n",
      "100%|██████████| 32/32 [00:00<00:00, 404.92it/s]\n"
     ]
    },
    {
     "name": "stdout",
     "output_type": "stream",
     "text": [
      "Files already downloaded and verified\n",
      "Sequential(\n",
      "  (0): Conv2d(3, 32, kernel_size=(7, 7), stride=(4, 4), padding=(3, 3))\n",
      "  (1): ELU(alpha=1.0, inplace=True)\n",
      "  (2): Conv2d(32, 1, kernel_size=(7, 7), stride=(4, 4), padding=(3, 3))\n",
      "  (3): ELU(alpha=1.0, inplace=True)\n",
      "  (4): Conv2d(1, 32, kernel_size=(7, 7), stride=(4, 4), padding=(3, 3))\n",
      "  (5): ELU(alpha=1.0, inplace=True)\n",
      "  (6): Conv2d(32, 32, kernel_size=(7, 7), stride=(4, 4), padding=(3, 3))\n",
      "  (7): ELU(alpha=1.0, inplace=True)\n",
      "  (8): AdaptiveAvgPool2d(output_size=[4, 6])\n",
      ")\n"
     ]
    },
    {
     "name": "stderr",
     "output_type": "stream",
     "text": [
      "100%|██████████| 32/32 [00:00<00:00, 928.17it/s]\n",
      "100%|██████████| 32/32 [00:00<00:00, 736.54it/s]\n",
      "100%|██████████| 1/1 [00:00<00:00, 173.82it/s]\n",
      "100%|██████████| 1/1 [00:00<00:00, 494.67it/s]\n",
      "100%|██████████| 32/32 [00:00<00:00, 407.36it/s]\n",
      "100%|██████████| 32/32 [00:00<00:00, 506.20it/s]\n",
      "100%|██████████| 32/32 [00:00<00:00, 324.27it/s]\n",
      "100%|██████████| 32/32 [00:00<00:00, 354.87it/s]\n",
      "100%|██████████| 32/32 [00:00<00:00, 337.95it/s]\n"
     ]
    }
   ],
   "source": [
    "device = torch.device(\"cuda\" if torch.cuda.is_available() else \"cpu\")\n",
    "\n",
    "networks = [\n",
    "\"imagenette/simple/factor2/pool_large_ks3\",\n",
    "\"imagenette/simple/factor3/pool_large_ks3\",\n",
    "\"imagenette/simple/factor2/pool_large_ks5\",\n",
    "\"imagenette/simple/factor3/pool_large_ks5\",\n",
    "\"imagenette/simple/factor4/pool_large_ks5\",\n",
    "\"imagenette/simple/factor2/pool_large_ks7\",\n",
    "\"imagenette/simple/factor3/pool_large_ks7\",\n",
    "\"imagenette/simple/factor4/pool_large_ks7\",\n",
    "\"imagenette/simple/factor3/stride_large_ks3\",\n",
    "\"imagenette/simple/factor2/stride_large_ks5\",\n",
    "\"imagenette/simple/factor3/stride_large_ks5\",\n",
    "\"imagenette/simple/factor4/stride_large_ks5\",\n",
    "\"imagenette/simple/factor2/stride_large_ks7\",\n",
    "\"imagenette/simple/factor3/stride_large_ks7\",\n",
    "\"imagenette/simple/factor4/stride_large_ks7\",]\n",
    "\n",
    "model_base_path = \"../models/\"\n",
    "dest_base_path = \"../imgs/model_rfs/\"\n",
    "\n",
    "for model_name in networks:\n",
    "    model_path = model_base_path + model_name\n",
    "    dest_path = dest_base_path+model_name\n",
    "    os.makedirs(dest_path, exist_ok=True)\n",
    "\n",
    "    model, train_data= open_experiment(model_path)\n",
    "    train_loader = DataLoader(train_data, batch_size=10, shuffle=False)\n",
    "\n",
    "    in_channels = model.in_channels\n",
    "    img_size = model.img_size\n",
    "\n",
    "    model = model.get_sequential()[:-9].to(device)\n",
    "    print(model)\n",
    "    layer_dict = {}\n",
    "    for layer in range(len(model)):\n",
    "        eff_rfs = effective_receptive_field(model[:layer+1], n_batch=1, fill_value=0.0, device=device)\n",
    "        layer_name = str(model[layer].__class__).split('.')[-1][:-2]\n",
    "        if layer_name in layer_dict.keys():\n",
    "            layer_dict[layer_name] += 1\n",
    "        else:\n",
    "            layer_dict[layer_name] =  0\n",
    "        for i, eff_rf in enumerate(eff_rfs):\n",
    "            rf = eff_rf.movedim(0,2)\n",
    "            if(rf.shape[2] == 1):\n",
    "                rf = torch.stack([rf,rf,rf], dim=2)[...,0]\n",
    "            rf = ((rescaleZeroOne(rf).numpy())*255).astype(np.uint8)\n",
    "            iio.v3.imwrite(os.path.join(dest_path, \"{}_{}_{:02d}.png\".format(layer_dict[layer_name], layer_name, i)), rf)"
   ]
  }
 ],
 "metadata": {
  "kernelspec": {
   "display_name": "receptive-fields",
   "language": "python",
   "name": "python3"
  },
  "language_info": {
   "codemirror_mode": {
    "name": "ipython",
    "version": 3
   },
   "file_extension": ".py",
   "mimetype": "text/x-python",
   "name": "python",
   "nbconvert_exporter": "python",
   "pygments_lexer": "ipython3",
   "version": "3.11.6"
  }
 },
 "nbformat": 4,
 "nbformat_minor": 2
}
