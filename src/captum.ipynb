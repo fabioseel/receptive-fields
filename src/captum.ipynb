{
 "cells": [
  {
   "cell_type": "code",
   "execution_count": 1,
   "metadata": {},
   "outputs": [
    {
     "name": "stdout",
     "output_type": "stream",
     "text": [
      "Using cuda\n"
     ]
    }
   ],
   "source": [
    "from captum.attr import NeuronGradient\n",
    "from receptive_fields.util.experiment_setup import open_experiment\n",
    "from receptive_fields.util.modules import NamedFromSequential\n",
    "import torch\n",
    "from torchinfo import summary\n",
    "from util.activation_visualization import rescaleZeroOne\n",
    "from matplotlib import pyplot as plt\n",
    "\n",
    "device = torch.device(\"cuda\" if torch.cuda.is_available() else \"cpu\")\n",
    "print(\"Using\", device)"
   ]
  },
  {
   "cell_type": "code",
   "execution_count": 2,
   "metadata": {},
   "outputs": [
    {
     "name": "stdout",
     "output_type": "stream",
     "text": [
      "Files already downloaded and verified\n"
     ]
    }
   ],
   "source": [
    "model_path = \"../models/areadne_submission/pool_large\"\n",
    "model, train_data= open_experiment(model_path)"
   ]
  },
  {
   "cell_type": "code",
   "execution_count": 3,
   "metadata": {},
   "outputs": [],
   "source": [
    "seq_model = NamedFromSequential(model.get_sequential())"
   ]
  },
  {
   "cell_type": "code",
   "execution_count": 4,
   "metadata": {},
   "outputs": [
    {
     "data": {
      "text/plain": [
       "NamedFromSequential(\n",
       "  (Conv2d_0): Conv2d(3, 32, kernel_size=(7, 7), stride=(1, 1))\n",
       "  (ELU_0): ELU(alpha=1.0, inplace=True)\n",
       "  (AvgPool2d_0): AvgPool2d(kernel_size=2, stride=2, padding=0)\n",
       "  (Conv2d_1): Conv2d(32, 32, kernel_size=(7, 7), stride=(1, 1))\n",
       "  (ELU_1): ELU(alpha=1.0, inplace=True)\n",
       "  (AvgPool2d_1): AvgPool2d(kernel_size=2, stride=2, padding=0)\n",
       "  (Conv2d_2): Conv2d(32, 32, kernel_size=(7, 7), stride=(1, 1))\n",
       "  (ELU_2): ELU(alpha=1.0, inplace=True)\n",
       "  (AvgPool2d_2): AvgPool2d(kernel_size=2, stride=2, padding=0)\n",
       "  (Conv2d_3): Conv2d(32, 32, kernel_size=(7, 7), stride=(1, 1))\n",
       "  (ELU_3): ELU(alpha=1.0, inplace=True)\n",
       "  (AvgPool2d_3): AvgPool2d(kernel_size=2, stride=2, padding=0)\n",
       "  (Flatten_0): Flatten(start_dim=1, end_dim=-1)\n",
       "  (Linear_0): Linear(in_features=128, out_features=128, bias=True)\n",
       "  (ELU_4): ELU(alpha=1.0, inplace=True)\n",
       "  (Linear_1): Linear(in_features=128, out_features=128, bias=True)\n",
       "  (ELU_5): ELU(alpha=1.0, inplace=True)\n",
       "  (Linear_2): Linear(in_features=128, out_features=128, bias=True)\n",
       "  (ELU_6): ELU(alpha=1.0, inplace=True)\n",
       "  (Linear_3): Linear(in_features=128, out_features=10, bias=True)\n",
       "  (Softmax_0): Softmax(dim=-1)\n",
       ")"
      ]
     },
     "execution_count": 4,
     "metadata": {},
     "output_type": "execute_result"
    }
   ],
   "source": [
    "seq_model"
   ]
  },
  {
   "cell_type": "code",
   "execution_count": 7,
   "metadata": {},
   "outputs": [
    {
     "data": {
      "text/plain": [
       "<matplotlib.image.AxesImage at 0x7fce41ab5b10>"
      ]
     },
     "execution_count": 7,
     "metadata": {},
     "output_type": "execute_result"
    },
    {
     "data": {
      "image/png": "[encoded data removed]",
      "text/plain": [
       "<Figure size 640x480 with 1 Axes>"
      ]
     },
     "metadata": {},
     "output_type": "display_data"
    }
   ],
   "source": [
    "grad = NeuronGradient(seq_model, seq_model.ELU_2)\n",
    "rf = grad.attribute(torch.zeros(1,3,*model.img_size[::-1], requires_grad=True), neuron_selector=(1,0,0))\n",
    "plt.imshow(rescaleZeroOne(rf[0].movedim(0,2).detach().cpu()))"
   ]
  }
 ],
 "metadata": {
  "kernelspec": {
   "display_name": "receptive-fields",
   "language": "python",
   "name": "python3"
  },
  "language_info": {
   "codemirror_mode": {
    "name": "ipython",
    "version": 3
   },
   "file_extension": ".py",
   "mimetype": "text/x-python",
   "name": "python",
   "nbconvert_exporter": "python",
   "pygments_lexer": "ipython3",
   "version": "3.11.6"
  }
 },
 "nbformat": 4,
 "nbformat_minor": 2
}
