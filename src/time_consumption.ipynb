{
 "cells": [
  {
   "cell_type": "code",
   "execution_count": 20,
   "metadata": {},
   "outputs": [],
   "source": [
    "import torch\n",
    "from models.retinal import RetinalModel\n",
    "from torchinfo import summary\n",
    "from util.activation_visualization import single_effective_receptive_field, get_input_output_shape\n",
    "from matplotlib import pyplot as plt\n",
    "from util.experiment_setup import load_dataset, load_model\n",
    "from util.training import train, num_correct\n",
    "\n",
    "from torch.utils.data import DataLoader\n",
    "from torch import nn\n",
    "from tqdm import tqdm\n",
    "import os"
   ]
  },
  {
   "cell_type": "code",
   "execution_count": 21,
   "metadata": {},
   "outputs": [
    {
     "name": "stdout",
     "output_type": "stream",
     "text": [
      "Using cuda\n"
     ]
    }
   ],
   "source": [
    "device = torch.device(\"cuda\" if torch.cuda.is_available() else \"cpu\")\n",
    "print(\"Using\", device)"
   ]
  },
  {
   "cell_type": "code",
   "execution_count": 70,
   "metadata": {},
   "outputs": [
    {
     "name": "stdout",
     "output_type": "stream",
     "text": [
      "Files already downloaded and verified\n"
     ]
    },
    {
     "data": {
      "text/plain": [
       "==========================================================================================\n",
       "Layer (type:depth-idx)                   Output Shape              Param #\n",
       "==========================================================================================\n",
       "RetinalModel                             [512, 10]                 --\n",
       "├─Sequential: 1-1                        [512, 1536]               128,128\n",
       "│    └─SpaceToDepth: 2-1                 [512, 12, 80, 60]         --\n",
       "│    └─Conv2d: 2-2                       [512, 16, 76, 56]         4,816\n",
       "├─Sequential: 1-8                        --                        (recursive)\n",
       "│    └─ELU: 2-3                          [512, 16, 76, 56]         --\n",
       "├─Sequential: 1-9                        --                        (recursive)\n",
       "│    └─SpaceToDepth: 2-4                 [512, 64, 38, 28]         --\n",
       "│    └─Conv2d: 2-5                       [512, 32, 34, 24]         51,232\n",
       "├─Sequential: 1-8                        --                        (recursive)\n",
       "│    └─ELU: 2-6                          [512, 32, 34, 24]         --\n",
       "├─Sequential: 1-9                        --                        (recursive)\n",
       "│    └─Conv2d: 2-7                       [512, 32, 30, 20]         25,632\n",
       "├─Sequential: 1-8                        --                        (recursive)\n",
       "│    └─ELU: 2-8                          [512, 32, 30, 20]         --\n",
       "├─Sequential: 1-9                        --                        (recursive)\n",
       "│    └─Conv2d: 2-9                       [512, 64, 26, 16]         51,264\n",
       "├─Sequential: 1-8                        --                        (recursive)\n",
       "│    └─ELU: 2-10                         [512, 64, 26, 16]         --\n",
       "├─Sequential: 1-9                        --                        (recursive)\n",
       "│    └─MaxPool2d: 2-11                   [512, 64, 6, 4]           --\n",
       "│    └─Flatten: 2-12                     [512, 1536]               --\n",
       "├─Sequential: 1-10                       [512, 10]                 --\n",
       "│    └─Linear: 2-13                      [512, 128]                196,736\n",
       "│    └─ELU: 2-14                         [512, 128]                --\n",
       "│    └─Linear: 2-15                      [512, 128]                16,512\n",
       "│    └─ELU: 2-16                         [512, 128]                --\n",
       "│    └─Linear: 2-17                      [512, 10]                 1,290\n",
       "==========================================================================================\n",
       "Total params: 475,610\n",
       "Trainable params: 475,610\n",
       "Non-trainable params: 0\n",
       "Total mult-adds (Units.GIGABYTES): 50.80\n",
       "==========================================================================================\n",
       "Input size (MB): 117.96\n",
       "Forward/backward pass size (MB): 574.66\n",
       "Params size (MB): 1.39\n",
       "Estimated Total Size (MB): 694.02\n",
       "=========================================================================================="
      ]
     },
     "execution_count": 70,
     "metadata": {},
     "output_type": "execute_result"
    }
   ],
   "source": [
    "img_size = (160,120)#(143,107)#(179,143)#\n",
    "retinal_base_model = RetinalModel(img_size=img_size, num_classes=10, n_base_channels=16, n_lgn_channels=32, ceil_mode=True, l1_kernel_size=3, pool=[True, True, True], spd=[1,1,1], lgn_kernel_size=3, v1_kernel_size=4, rgc_kernel_size=3, fc_act=True)\n",
    "mod3 = RetinalModel(img_size=img_size, num_classes=10, n_base_channels=16, n_lgn_channels=32, ceil_mode=True, l1_kernel_size=7, pool=[False, False, True], spd=[2,2,1], lgn_kernel_size=7, v1_kernel_size=7, rgc_kernel_size=7, fc_act=True)\n",
    "model = mod3\n",
    "# model = load_model(\"../models/bg_transform/mod3_retinal_scale0.1-3.5\")\n",
    "\n",
    "in_channels = model.in_channels\n",
    "img_size = model.img_size\n",
    "\n",
    "train_data = load_dataset(grayscale= in_channels==1, img_size=model.img_size)\n",
    "train_loader = DataLoader(train_data, batch_size=512, shuffle=False)\n",
    "model.to(device)\n",
    "summary(model, (512,3,*img_size))"
   ]
  },
  {
   "cell_type": "code",
   "execution_count": 71,
   "metadata": {},
   "outputs": [
    {
     "data": {
      "text/plain": [
       "RetinalModel(\n",
       "  (_activation_func): ELU(alpha=1.0, inplace=True)\n",
       "  (retina): Sequential(\n",
       "    (0): SpaceToDepth()\n",
       "    (1): Conv2d(12, 16, kernel_size=(5, 5), stride=(1, 1))\n",
       "    (2): ELU(alpha=1.0, inplace=True)\n",
       "    (3): SpaceToDepth()\n",
       "    (4): Conv2d(64, 32, kernel_size=(5, 5), stride=(1, 1))\n",
       "    (5): ELU(alpha=1.0, inplace=True)\n",
       "    (6): Conv2d(32, 32, kernel_size=(5, 5), stride=(1, 1))\n",
       "    (7): ELU(alpha=1.0, inplace=True)\n",
       "    (8): Conv2d(32, 64, kernel_size=(5, 5), stride=(1, 1))\n",
       "    (9): ELU(alpha=1.0, inplace=True)\n",
       "    (10): MaxPool2d(kernel_size=5, stride=5, padding=0, dilation=1, ceil_mode=True)\n",
       "    (11): Flatten(start_dim=1, end_dim=-1)\n",
       "  )\n",
       "  (fc): Sequential(\n",
       "    (0): Linear(in_features=1536, out_features=128, bias=True)\n",
       "    (1): ELU(alpha=1.0, inplace=True)\n",
       "    (2): Linear(in_features=128, out_features=128, bias=True)\n",
       "    (3): ELU(alpha=1.0, inplace=True)\n",
       "    (4): Linear(in_features=128, out_features=10, bias=True)\n",
       "  )\n",
       ")"
      ]
     },
     "execution_count": 71,
     "metadata": {},
     "output_type": "execute_result"
    }
   ],
   "source": [
    "model"
   ]
  },
  {
   "cell_type": "code",
   "execution_count": 72,
   "metadata": {},
   "outputs": [],
   "source": [
    "model=model.to(device)"
   ]
  },
  {
   "cell_type": "code",
   "execution_count": 73,
   "metadata": {},
   "outputs": [],
   "source": [
    "(inputs, labels) = next(iter(train_loader))\n",
    "inputs = inputs.to(device)\n",
    "labels = labels.to(device)"
   ]
  },
  {
   "cell_type": "code",
   "execution_count": 74,
   "metadata": {},
   "outputs": [
    {
     "name": "stderr",
     "output_type": "stream",
     "text": [
      "STAGE:2024-01-17 11:13:47 16001:16001 ActivityProfilerController.cpp:312] Completed Stage: Warm Up\n",
      "100%|██████████| 100/100 [00:06<00:00, 15.36it/s, Loss=2.35, Acc.:=0.129]   \n",
      "STAGE:2024-01-17 11:13:54 16001:16001 ActivityProfilerController.cpp:318] Completed Stage: Collection\n",
      "STAGE:2024-01-17 11:13:54 16001:16001 ActivityProfilerController.cpp:322] Completed Stage: Post Processing\n"
     ]
    }
   ],
   "source": [
    "optimizer = torch.optim.RMSprop(model.parameters(), lr=0.005, weight_decay=1e-6)\n",
    "with torch.autograd.profiler.profile(use_cuda=True, record_shapes=True) as prof:\n",
    "    # Define the loss function and optimizer\n",
    "    criterion = nn.CrossEntropyLoss()\n",
    "\n",
    "    # Training loop\n",
    "    model.train()  # Set the model to training mode\n",
    "    running_loss = 0.0\n",
    "\n",
    "    epoch_correct = 0\n",
    "    pbar = tqdm(range(100))\n",
    "    for i in pbar:\n",
    "        # optimizer.zero_grad()  # Zero the parameter gradients\n",
    "        for param in model.parameters():\n",
    "            param.grad = None\n",
    "        # Forward pass\n",
    "        outputs = model(inputs)\n",
    "        batch_correct =  num_correct(outputs, labels)\n",
    "        epoch_correct += batch_correct\n",
    "        loss = criterion(outputs, labels)\n",
    "\n",
    "        # Backpropagation and optimization\n",
    "        loss.backward()\n",
    "        optimizer.step()\n",
    "\n",
    "        running_loss += loss.item()\n",
    "\n",
    "        pbar.set_postfix({'Loss': loss.item(), 'Acc.:': batch_correct/len(labels)})"
   ]
  },
  {
   "cell_type": "code",
   "execution_count": 75,
   "metadata": {},
   "outputs": [],
   "source": [
    "key_avgs = prof.key_averages(group_by_input_shape=True)"
   ]
  },
  {
   "cell_type": "code",
   "execution_count": 76,
   "metadata": {},
   "outputs": [
    {
     "name": "stdout",
     "output_type": "stream",
     "text": [
      "-------------------------------------------------------  ------------  ------------  ------------  ------------  ------------  ------------  ------------  ------------  ------------  ------------  ------------------------------------------------------------------------------------------  \n",
      "                                                   Name    Self CPU %      Self CPU   CPU total %     CPU total  CPU time avg     Self CUDA   Self CUDA %    CUDA total  CUDA time avg    # of Calls                                                                                Input Shapes  \n",
      "-------------------------------------------------------  ------------  ------------  ------------  ------------  ------------  ------------  ------------  ------------  ------------  ------------  ------------------------------------------------------------------------------------------  \n",
      "                             aten::convolution_backward         0.56%      33.701ms         0.97%      58.286ms     582.860us        1.459s        23.27%        1.474s      14.737ms           100      [[512, 32, 30, 20], [512, 32, 34, 24], [32, 32, 5, 5], [], [], [], [], [], [], [], []]  \n",
      "                             aten::convolution_backward         0.53%      32.223ms         0.86%      51.911ms     519.110us        1.144s        18.25%        1.162s      11.622ms           100      [[512, 32, 34, 24], [512, 64, 38, 28], [32, 64, 5, 5], [], [], [], [], [], [], [], []]  \n",
      "                             aten::convolution_backward         0.31%      18.797ms         0.58%      35.206ms     352.060us     755.392ms        12.05%     795.046ms       7.950ms           100      [[512, 16, 76, 56], [512, 12, 80, 60], [16, 12, 5, 5], [], [], [], [], [], [], [], []]  \n",
      "                             aten::convolution_backward         0.70%      42.233ms         1.14%      68.738ms     687.380us     452.670ms         7.22%     470.815ms       4.708ms           100      [[512, 64, 26, 16], [512, 32, 30, 20], [64, 32, 5, 5], [], [], [], [], [], [], [], []]  \n",
      "                                aten::cudnn_convolution         0.30%      18.092ms         0.45%      27.068ms     270.680us     332.018ms         5.29%     332.018ms       3.320ms           100                             [[512, 12, 80, 60], [16, 12, 5, 5], [], [], [], [], [], [], []]  \n",
      "                                aten::cudnn_convolution         0.21%      12.834ms         0.28%      17.165ms     171.650us     273.793ms         4.37%     273.793ms       2.738ms           100                             [[512, 64, 38, 28], [32, 64, 5, 5], [], [], [], [], [], [], []]  \n",
      "                                aten::cudnn_convolution         0.22%      13.019ms         0.28%      16.686ms     166.860us     169.494ms         2.70%     169.494ms       1.695ms           100                             [[512, 32, 34, 24], [32, 32, 5, 5], [], [], [], [], [], [], []]  \n",
      "                                aten::cudnn_convolution         0.17%      10.221ms         0.21%      12.842ms     128.420us     143.572ms         2.29%     143.572ms       1.436ms           100                             [[512, 32, 30, 20], [64, 32, 5, 5], [], [], [], [], [], [], []]  \n",
      "                                            aten::copy_         0.04%       2.343ms         0.10%       5.978ms      29.890us     120.632ms         1.92%     120.632ms     603.160us           200                                                  [[512, 16, 76, 56], [512, 16, 76, 56], []]  \n",
      "                 aten::max_pool2d_with_indices_backward         0.10%       5.928ms         0.21%      12.786ms     127.860us     105.245ms         1.68%     119.974ms       1.200ms           100                   [[512, 64, 6, 4], [512, 64, 26, 16], [], [], [], [], [], [512, 64, 6, 4]]  \n",
      "                                     aten::elu_backward         0.06%       3.369ms         0.08%       4.626ms      46.260us      89.900ms         1.43%      89.900ms     899.000us           100                                      [[512, 16, 76, 56], [], [], [], [], [512, 16, 76, 56]]  \n",
      "                                             aten::add_         0.03%       1.624ms         0.04%       2.341ms      23.410us      78.189ms         1.25%      78.189ms     781.890us           100                                                      [[512, 16, 76, 56], [1, 16, 1, 1], []]  \n",
      "                                            aten::copy_         0.03%       1.565ms         0.04%       2.425ms      24.250us      65.870ms         1.05%      65.870ms     658.700us           100                                      [[512, 16, 2, 2, 38, 28], [512, 16, 2, 2, 38, 28], []]  \n",
      "                                            aten::copy_         0.05%       2.871ms         0.07%       4.357ms      43.570us      65.856ms         1.05%      65.856ms     658.560us           100                                      [[512, 16, 38, 2, 28, 2], [512, 16, 38, 2, 28, 2], []]  \n",
      "                                             aten::elu_         0.04%       2.675ms         0.06%       3.390ms      33.900us      60.499ms         0.96%      60.499ms     604.990us           100                                                             [[512, 16, 76, 56], [], [], []]  \n",
      "                                            aten::copy_         0.03%       1.613ms         0.04%       2.562ms      25.620us      56.208ms         0.90%      56.208ms     562.080us           100                                        [[512, 3, 2, 2, 80, 60], [512, 3, 2, 2, 80, 60], []]  \n",
      "                                            aten::copy_         0.02%       1.019ms         0.04%       2.493ms      24.930us      52.992ms         0.84%      52.992ms     529.920us           100                                                [[512, 3, 160, 120], [512, 3, 160, 120], []]  \n",
      "                                              aten::sum         0.13%       7.934ms         0.17%      10.198ms     101.980us      39.354ms         0.63%      39.454ms     394.540us           100                                                             [[512, 16, 76, 56], [], [], []]  \n",
      "                                     aten::elu_backward         0.05%       3.191ms         0.07%       4.409ms      44.090us      35.676ms         0.57%      35.676ms     356.760us           100                                      [[512, 64, 26, 16], [], [], [], [], [512, 64, 26, 16]]  \n",
      "                                     aten::elu_backward         0.06%       3.423ms         0.08%       4.750ms      47.500us      34.320ms         0.55%      34.320ms     343.200us           100                                      [[512, 32, 34, 24], [], [], [], [], [512, 32, 34, 24]]  \n",
      "                                             aten::add_         0.02%       1.343ms         0.03%       1.990ms      19.900us      30.595ms         0.49%      30.595ms     305.950us           100                                                      [[512, 64, 26, 16], [1, 64, 1, 1], []]  \n",
      "                                             aten::add_         0.02%       1.435ms         0.04%       2.126ms      21.260us      30.119ms         0.48%      30.119ms     301.190us           100                                                      [[512, 32, 34, 24], [1, 32, 1, 1], []]  \n",
      "                                     aten::elu_backward         0.06%       3.538ms         0.08%       4.891ms      48.910us      25.599ms         0.41%      25.599ms     255.990us           100                                      [[512, 32, 30, 20], [], [], [], [], [512, 32, 30, 20]]  \n",
      "    autograd::engine::evaluate_function: AddmmBackward0         0.52%      31.470ms         2.84%     171.226ms     570.753us      25.347ms         0.40%     174.355ms     581.183us           300                                                                                          []  \n",
      "                                             aten::elu_         0.07%       4.364ms         0.08%       5.008ms      50.080us      23.738ms         0.38%      23.738ms     237.380us           100                                                             [[512, 64, 26, 16], [], [], []]  \n",
      "                          aten::max_pool2d_with_indices         0.08%       4.879ms         0.09%       5.674ms      56.740us      23.653ms         0.38%      23.653ms     236.530us           100                                                     [[512, 64, 26, 16], [], [], [], [], []]  \n",
      "                                             aten::elu_         0.04%       2.365ms         0.05%       3.063ms      30.630us      23.537ms         0.38%      23.537ms     235.370us           100                                                             [[512, 32, 34, 24], [], [], []]  \n",
      "                                             aten::add_         0.02%       1.312ms         0.03%       2.010ms      20.100us      22.252ms         0.35%      22.252ms     222.520us           100                                                      [[512, 32, 30, 20], [1, 32, 1, 1], []]  \n",
      "autograd::engine::evaluate_function: torch::autograd...         0.75%      44.912ms         2.05%     123.307ms      88.076us      21.438ms         0.34%      65.404ms      46.717us          1400                                                                                          []  \n",
      "                                              aten::sum         0.14%       8.431ms         0.18%      11.059ms     110.590us      17.638ms         0.28%      17.738ms     177.380us           100                                                             [[512, 64, 26, 16], [], [], []]  \n",
      "                                              aten::sum         0.13%       7.894ms         0.17%      10.309ms     103.090us      17.480ms         0.28%      17.580ms     175.800us           100                                                             [[512, 32, 34, 24], [], [], []]  \n",
      "                                             aten::elu_         0.04%       2.378ms         0.05%       3.051ms      30.510us      17.345ms         0.28%      17.345ms     173.450us           100                                                             [[512, 32, 30, 20], [], [], []]  \n",
      "                                         AddmmBackward0         0.44%      26.601ms         1.30%      78.032ms     390.160us      15.459ms         0.25%      79.917ms     399.585us           200                                                                                [[512, 128]]  \n",
      "                                              aten::sum         0.14%       8.157ms         0.18%      10.601ms     106.010us      13.789ms         0.22%      13.889ms     138.890us           100                                                             [[512, 32, 30, 20], [], [], []]  \n",
      "                                            aten::fill_         0.03%       1.549ms         0.05%       2.935ms      29.350us      13.055ms         0.21%      13.055ms     130.550us           100                                                                     [[512, 64, 26, 16], []]  \n",
      "                                              aten::sum         0.13%       7.832ms         0.17%      10.241ms      51.205us      12.549ms         0.20%      12.549ms      62.745us           200                                                                    [[512, 128], [], [], []]  \n",
      "                                     aten::elu_backward         0.11%       6.891ms         0.16%       9.774ms      48.870us      11.904ms         0.19%      11.904ms      59.520us           200                                                    [[512, 128], [], [], [], [], [512, 128]]  \n",
      "        autograd::engine::evaluate_function: TBackward0         0.16%       9.796ms         0.60%      35.879ms     119.597us      10.015ms         0.16%      38.822ms     129.407us           300                                                                                          []  \n",
      "                                                aten::t         0.19%      11.655ms         0.37%      22.158ms      55.395us       9.957ms         0.16%      21.603ms      54.008us           400                                                                                [[128, 128]]  \n",
      "                                         AddmmBackward0         0.23%      14.021ms         0.73%      43.766ms     437.660us       9.806ms         0.16%      44.780ms     447.800us           100                                                                                 [[512, 10]]  \n",
      "      autograd::engine::evaluate_function: EluBackward1         0.41%      24.775ms         1.22%      73.273ms     122.122us       9.441ms         0.15%     214.395ms     357.325us           600                                                                                          []  \n",
      "                                               aten::mm         0.11%       6.535ms         0.13%       7.965ms      79.650us       9.062ms         0.14%       9.062ms      90.620us           100                                                                      [[512, 10], [10, 128]]  \n",
      "                                               aten::mm         0.07%       4.020ms         0.09%       5.470ms      54.700us       8.297ms         0.13%       8.297ms      82.970us           100                                                                   [[512, 128], [128, 1536]]  \n",
      "                                        aten::transpose         0.16%       9.546ms         0.17%      10.503ms      26.258us       8.008ms         0.13%      11.646ms      29.115us           400                                                                        [[128, 128], [], []]  \n",
      "                                               aten::mm         0.05%       2.964ms         0.07%       4.113ms      41.130us       7.337ms         0.12%       7.337ms      73.370us           100                                                                   [[128, 512], [512, 1536]]  \n",
      "                                aten::nll_loss_backward         0.10%       5.814ms         0.23%      13.944ms     139.440us       6.992ms         0.11%      14.966ms     149.660us           100                                                      [[], [512, 10], [512], [], [], [], []]  \n",
      "                                              aten::sum         0.07%       4.308ms         0.09%       5.656ms      56.560us       6.753ms         0.11%       6.753ms      67.530us           100                                                                     [[512, 10], [], [], []]  \n",
      "                              aten::_local_scalar_dense         0.03%       1.685ms        78.47%        4.728s      15.759ms       6.713ms         0.11%       6.713ms      22.377us           300                                                                                        [[]]  \n",
      "                                            aten::addmm         0.11%       6.727ms         0.14%       8.383ms      83.830us       6.688ms         0.11%       6.688ms      66.880us           100                                                   [[128], [512, 1536], [1536, 128], [], []]  \n",
      "                                           EluBackward1         0.11%       6.467ms         0.27%      16.241ms      81.205us       6.308ms         0.10%      18.212ms      91.060us           200                                                                                [[512, 128]]  \n",
      "-------------------------------------------------------  ------------  ------------  ------------  ------------  ------------  ------------  ------------  ------------  ------------  ------------  ------------------------------------------------------------------------------------------  \n",
      "Self CPU time total: 6.025s\n",
      "Self CUDA time total: 6.271s\n",
      "\n"
     ]
    }
   ],
   "source": [
    "print(key_avgs.table(sort_by=\"self_cuda_time_total\", row_limit=50, max_shapes_column_width=100))"
   ]
  },
  {
   "cell_type": "code",
   "execution_count": 77,
   "metadata": {},
   "outputs": [
    {
     "ename": "NameError",
     "evalue": "name 'aaa' is not defined",
     "output_type": "error",
     "traceback": [
      "\u001b[0;31m---------------------------------------------------------------------------\u001b[0m",
      "\u001b[0;31mNameError\u001b[0m                                 Traceback (most recent call last)",
      "Cell \u001b[0;32mIn[77], line 1\u001b[0m\n\u001b[0;32m----> 1\u001b[0m aaa\n",
      "\u001b[0;31mNameError\u001b[0m: name 'aaa' is not defined"
     ]
    }
   ],
   "source": [
    "aaa"
   ]
  },
  {
   "cell_type": "code",
   "execution_count": null,
   "metadata": {},
   "outputs": [
    {
     "name": "stdout",
     "output_type": "stream",
     "text": [
      "-------------------------------------------------------  ------------  ------------  ------------  ------------  ------------  ------------  ------------  ------------  ------------  ------------  \n",
      "                                                   Name    Self CPU %      Self CPU   CPU total %     CPU total  CPU time avg     Self CUDA   Self CUDA %    CUDA total  CUDA time avg    # of Calls  \n",
      "-------------------------------------------------------  ------------  ------------  ------------  ------------  ------------  ------------  ------------  ------------  ------------  ------------  \n",
      "                             aten::convolution_backward         1.43%     102.897ms         2.37%     170.564ms     426.410us        2.227s        30.21%        2.498s       6.245ms           400  \n",
      "                              aten::avg_pool2d_backward         0.46%      32.970ms         0.51%      36.898ms     184.490us        1.722s        23.35%        1.722s       8.608ms           200  \n",
      "                                aten::cudnn_convolution         0.47%      33.555ms         0.61%      43.808ms     109.520us     660.918ms         8.96%     660.918ms       1.652ms           400  \n",
      "                                     aten::elu_backward         0.17%      12.138ms         0.25%      17.885ms      44.712us     597.310ms         8.10%     597.310ms       1.493ms           400  \n",
      "                                             aten::add_         0.11%       8.214ms         0.17%      12.448ms      31.120us     497.875ms         6.75%     497.875ms       1.245ms           400  \n",
      "                                             aten::elu_         0.17%      12.398ms         0.22%      15.962ms      39.905us     404.130ms         5.48%     404.130ms       1.010ms           400  \n",
      "                                       aten::avg_pool2d         0.09%       6.156ms         0.12%       8.329ms      41.645us     376.065ms         5.10%     376.065ms       1.880ms           200  \n",
      "                                              aten::sum         0.66%      47.540ms         0.97%      69.608ms      87.010us     290.343ms         3.94%     292.533ms     365.666us           800  \n",
      "                 aten::max_pool2d_with_indices_backward         1.22%      88.007ms         1.31%      94.302ms     943.020us     127.291ms         1.73%     133.953ms       1.340ms           100  \n",
      "                                               aten::mm         0.29%      21.104ms         0.40%      28.943ms      48.238us      37.183ms         0.50%      37.183ms      61.972us           600  \n",
      "                                        aten::transpose         0.48%      34.324ms         0.53%      37.877ms      25.251us      29.932ms         0.41%      42.663ms      28.442us          1500  \n",
      "                                                aten::t         0.49%      35.477ms         1.02%      73.354ms      48.903us      28.915ms         0.39%      71.578ms      47.719us          1500  \n",
      "                          MaxPool2DWithIndicesBackward0         0.35%      24.875ms         1.66%     119.177ms       1.192ms      24.273ms         0.33%     158.226ms       1.582ms           100  \n",
      "    autograd::engine::evaluate_function: AddmmBackward0         0.38%      27.550ms         2.14%     153.782ms     512.607us      23.103ms         0.31%     157.604ms     525.347us           300  \n",
      "                                         AddmmBackward0         0.50%      35.872ms         1.50%     108.164ms     360.547us      22.617ms         0.31%     110.722ms     369.073us           300  \n",
      "autograd::engine::evaluate_function: torch::autograd...         0.57%      40.804ms         1.53%     109.764ms      78.403us      21.637ms         0.29%      60.416ms      43.154us          1400  \n",
      "                              aten::_local_scalar_dense         0.06%       4.491ms        81.71%        5.875s      19.583ms      18.187ms         0.25%      18.187ms      60.623us           300  \n",
      "                                     aten::_log_softmax         0.07%       4.988ms         0.10%       7.120ms      71.200us      17.523ms         0.24%      17.523ms     175.230us           100  \n",
      "                        torch::autograd::AccumulateGrad         0.44%      31.983ms         0.96%      68.960ms      49.257us      15.768ms         0.21%      38.779ms      27.699us          1400  \n",
      "                                           aten::detach         0.40%      29.052ms         0.51%      36.977ms      26.412us      13.572ms         0.18%      23.011ms      16.436us          1400  \n",
      "                                       aten::as_strided         0.07%       5.280ms         0.07%       5.280ms       2.400us      13.470ms         0.18%      13.470ms       6.123us          2200  \n",
      "                                     AvgPool2DBackward0         0.25%      18.268ms         0.77%      55.166ms     275.830us      12.551ms         0.17%        1.734s       8.671ms           200  \n",
      "                                            aten::fill_         0.06%       4.588ms         0.13%       9.123ms      29.054us      11.673ms         0.16%      11.673ms      37.175us           314  \n",
      "                          aten::max_pool2d_with_indices         0.06%       4.033ms         0.07%       5.248ms      52.480us      10.498ms         0.14%      10.498ms     104.980us           100  \n",
      "                                                 detach         0.11%       7.925ms         0.11%       7.925ms       5.661us       9.439ms         0.13%       9.439ms       6.742us          1400  \n",
      "                                 aten::nll_loss_forward         0.08%       5.451ms         0.09%       6.602ms      66.020us       8.486ms         0.12%      11.219ms     112.190us           100  \n",
      "        autograd::engine::evaluate_function: TBackward0         0.11%       8.225ms         0.41%      29.440ms      98.133us       7.782ms         0.11%      32.327ms     107.757us           300  \n",
      "                                      aten::convolution         0.25%      17.739ms         1.55%     111.374ms     278.435us       7.540ms         0.10%        1.173s       2.933ms           400  \n",
      "                                      aten::result_type         0.00%     248.000us         0.00%     248.000us       0.035us       7.346ms         0.10%       7.346ms       1.049us          7000  \n",
      "                                aten::nll_loss_backward         0.08%       5.902ms         0.19%      13.753ms     137.530us       7.058ms         0.10%      13.679ms     136.790us           100  \n",
      "autograd::engine::evaluate_function: LogSoftmaxBackw...         0.08%       5.780ms         0.19%      13.364ms     133.640us       5.858ms         0.08%      13.689ms     136.890us           100  \n",
      "                                            aten::addmm         0.36%      25.919ms         0.46%      32.898ms     109.660us       5.812ms         0.08%       5.812ms      19.373us           300  \n",
      "                                     aten::_foreach_add         0.66%      47.237ms         0.82%      59.162ms     591.620us       5.746ms         0.08%       8.747ms      87.470us           100  \n",
      "                                             TBackward0         0.09%       6.343ms         0.30%      21.215ms      70.717us       5.717ms         0.08%      24.545ms      81.817us           300  \n",
      "                                             aten::view         0.07%       4.984ms         0.07%       4.984ms       5.538us       5.705ms         0.08%       5.705ms       6.339us           900  \n",
      "                                             aten::item         0.15%      10.745ms        81.86%        5.886s      19.618ms       5.608ms         0.08%      23.795ms      79.317us           300  \n",
      "                                     aten::_convolution         0.40%      29.036ms         1.30%      93.635ms     234.088us       5.493ms         0.07%        1.166s       2.914ms           400  \n",
      "                       aten::_log_softmax_backward_data         0.04%       3.025ms         0.06%       4.346ms      43.460us       4.555ms         0.06%       4.555ms      45.550us           100  \n",
      "                                    aten::empty_strided         0.32%      22.829ms         0.32%      22.829ms       7.574us       4.411ms         0.06%       4.411ms       1.464us          3014  \n",
      "autograd::engine::evaluate_function: NllLossBackward...         0.06%       4.532ms         0.31%      22.016ms     220.160us       4.124ms         0.06%      21.454ms     214.540us           100  \n",
      "                                aten::_foreach_addcdiv_         0.30%      21.590ms         0.31%      22.465ms     224.650us       3.781ms         0.05%       5.220ms      52.200us           100  \n",
      "                                            aten::zero_         0.08%       6.000ms         0.17%      12.571ms      58.743us       3.769ms         0.05%      13.350ms      62.383us           214  \n",
      "                                    aten::_foreach_sqrt         0.36%      25.762ms         0.51%      36.944ms     369.440us       3.685ms         0.05%       5.198ms      51.980us           100  \n",
      "                                       NllLossBackward0         0.05%       3.731ms         0.24%      17.484ms     174.840us       3.651ms         0.05%      17.330ms     173.300us           100  \n",
      "                                    aten::_foreach_mul_         0.30%      21.801ms         0.32%      22.972ms     229.720us       3.433ms         0.05%       4.908ms      49.080us           100  \n",
      "                                aten::_foreach_addcmul_         0.31%      22.086ms         0.32%      23.059ms     230.590us       3.344ms         0.05%       4.839ms      48.390us           100  \n",
      "                                           aten::conv2d         0.13%       9.403ms         1.68%     120.777ms     301.942us       3.295ms         0.04%        1.177s       2.941ms           400  \n",
      "                                    LogSoftmaxBackward0         0.05%       3.238ms         0.11%       7.584ms      75.840us       3.276ms         0.04%       7.831ms      78.310us           100  \n",
      "                                    aten::_foreach_add_         0.29%      20.893ms         0.30%      21.809ms     218.090us       3.207ms         0.04%       4.671ms      46.710us           100  \n",
      "                                      aten::log_softmax         0.06%       4.308ms         0.16%      11.474ms     114.740us       3.116ms         0.04%      21.366ms     213.660us           100  \n",
      "                                          aten::reshape         0.13%       9.347ms         0.16%      11.201ms      22.402us       3.087ms         0.04%       4.698ms       9.396us           500  \n",
      "                                          aten::resize_         0.00%     126.000us         0.00%     126.000us       1.260us       2.733ms         0.04%       2.733ms      27.330us           100  \n",
      "     autograd::engine::evaluate_function: ViewBackward0         0.04%       2.629ms         0.11%       7.780ms      77.800us       2.718ms         0.04%       8.645ms      86.450us           100  \n",
      "                                          ViewBackward0         0.03%       2.293ms         0.07%       5.151ms      51.510us       2.676ms         0.04%       5.927ms      59.270us           100  \n",
      "                               aten::cross_entropy_loss         0.06%       4.218ms         0.37%      26.535ms     265.350us       2.327ms         0.03%      39.109ms     391.090us           100  \n",
      "                                         aten::nll_loss         0.03%       2.320ms         0.12%       8.922ms      89.220us       2.300ms         0.03%      13.519ms     135.190us           100  \n",
      "                                      aten::nll_loss_nd         0.03%       1.921ms         0.15%      10.843ms     108.430us       1.897ms         0.03%      15.416ms     154.160us           100  \n",
      "                                       aten::empty_like         0.03%       2.484ms         0.05%       3.810ms      33.421us       1.656ms         0.02%       2.920ms      25.614us           114  \n",
      "                                        aten::ones_like         0.05%       3.502ms         0.13%       9.279ms      92.790us       1.582ms         0.02%       6.546ms      65.460us           100  \n",
      "                                               aten::to         0.04%       2.576ms         0.15%      11.055ms      18.425us       1.456ms         0.02%       2.830ms       4.717us           600  \n",
      "                                           aten::linear         0.19%      13.607ms         0.86%      61.638ms     205.460us       1.289ms         0.02%       8.929ms      29.763us           300  \n",
      "                            Optimizer.step#RMSprop.step         0.89%      64.215ms         3.51%     252.417ms       2.524ms       1.249ms         0.02%      35.007ms     350.070us           100  \n",
      "                                           EluBackward1         0.17%      12.551ms         0.42%      30.436ms      76.090us       1.147ms         0.02%     598.457ms       1.496ms           400  \n",
      "autograd::engine::evaluate_function: MaxPool2DWithIn...         0.05%       3.794ms         1.71%     122.971ms       1.230ms       1.135ms         0.02%     159.361ms       1.594ms           100  \n",
      "autograd::engine::evaluate_function: ConvolutionBack...         0.21%      15.438ms         2.77%     199.117ms     497.793us       1.132ms         0.02%        2.500s       6.251ms           400  \n",
      "                                              aten::max         0.12%       8.388ms         0.14%       9.749ms      97.490us       1.115ms         0.02%       1.323ms      13.230us           100  \n",
      "      autograd::engine::evaluate_function: EluBackward1         0.19%      13.371ms         0.61%      43.807ms     109.517us       1.061ms         0.01%     599.518ms       1.499ms           400  \n",
      "                                   ConvolutionBackward0         0.18%      13.115ms         2.55%     183.679ms     459.197us       1.046ms         0.01%        2.499s       6.248ms           400  \n",
      "                                            aten::copy_         0.02%       1.647ms         0.04%       2.797ms      27.970us     837.000us         0.01%     837.000us       8.370us           100  \n",
      "autograd::engine::evaluate_function: AvgPool2DBackwa...         0.09%       6.773ms         0.86%      61.939ms     309.695us     525.000us         0.01%        1.735s       8.673ms           200  \n",
      "                                            aten::empty         0.07%       5.359ms         0.07%       5.359ms      13.398us     455.000us         0.01%     455.000us       1.137us           400  \n",
      "                                         aten::_to_copy         0.06%       4.504ms         0.12%       8.479ms      84.790us     431.000us         0.01%       1.374ms      13.740us           100  \n",
      "                                               aten::eq         0.03%       2.447ms         0.05%       3.396ms      33.960us     300.000us         0.00%     300.000us       3.000us           100  \n",
      "                                       aten::max_pool2d         0.03%       2.507ms         0.11%       7.755ms      77.550us     254.000us         0.00%      10.752ms     107.520us           100  \n",
      "                                          aten::flatten         0.03%       2.171ms         0.05%       3.357ms      33.570us     246.000us         0.00%     352.000us       3.520us           100  \n",
      "                                       aten::zeros_like         0.01%     581.000us         0.02%       1.791ms     127.929us      60.000us         0.00%     175.000us      12.500us            14  \n",
      "                                  cudaStreamIsCapturing         0.02%       1.105ms         0.02%       1.105ms       1.001us       0.000us         0.00%       0.000us       0.000us          1104  \n",
      "                                  cudaStreamGetPriority         0.01%     863.000us         0.01%     863.000us       0.785us       0.000us         0.00%       0.000us       0.000us          1100  \n",
      "                       cudaDeviceGetStreamPriorityRange         0.01%     794.000us         0.01%     794.000us       0.722us       0.000us         0.00%       0.000us       0.000us          1100  \n",
      "                                       cudaLaunchKernel         1.24%      89.405ms         1.24%      89.405ms      11.297us       0.000us         0.00%       0.000us       0.000us          7914  \n",
      "                                        cudaMemsetAsync         0.09%       6.396ms         0.09%       6.396ms       5.815us       0.000us         0.00%       0.000us       0.000us          1100  \n",
      "          cudaOccupancyMaxActiveBlocksPerMultiprocessor         0.03%       1.970ms         0.03%       1.970ms       0.934us       0.000us         0.00%       0.000us       0.000us          2110  \n",
      "                                        cudaMemcpyAsync        81.62%        5.868s        81.62%        5.868s      19.560ms       0.000us         0.00%       0.000us       0.000us           300  \n",
      "                                  cudaStreamSynchronize         0.03%       2.376ms         0.03%       2.376ms       7.920us       0.000us         0.00%       0.000us       0.000us           300  \n",
      "                                             cudaMalloc         0.05%       3.343ms         0.05%       3.343ms     835.750us       0.000us         0.00%       0.000us       0.000us             4  \n",
      "                                    cudaStreamWaitEvent         0.03%       2.243ms         0.03%       2.243ms       1.319us       0.000us         0.00%       0.000us       0.000us          1700  \n",
      "                                  cudaDeviceSynchronize         0.00%      37.000us         0.00%      37.000us      37.000us       0.000us         0.00%       0.000us       0.000us             1  \n",
      "-------------------------------------------------------  ------------  ------------  ------------  ------------  ------------  ------------  ------------  ------------  ------------  ------------  \n",
      "Self CPU time total: 7.190s\n",
      "Self CUDA time total: 7.374s\n",
      "\n"
     ]
    }
   ],
   "source": [
    "avgs = prof.key_averages()\n",
    "print(avgs.table(sort_by=\"self_cuda_time_total\"))"
   ]
  },
  {
   "cell_type": "code",
   "execution_count": null,
   "metadata": {},
   "outputs": [
    {
     "data": {
      "text/plain": [
       "1505"
      ]
     },
     "execution_count": 59,
     "metadata": {},
     "output_type": "execute_result"
    }
   ],
   "source": [
    "avgs[index_conv].self_cuda_time_total"
   ]
  },
  {
   "cell_type": "code",
   "execution_count": null,
   "metadata": {},
   "outputs": [],
   "source": [
    "base_path = \"../performance/{}_{}_resnet18/\".format(*img_size)\n",
    "if not os.path.exists(base_path):\n",
    "    os.mkdir(base_path)"
   ]
  },
  {
   "cell_type": "code",
   "execution_count": null,
   "metadata": {},
   "outputs": [],
   "source": [
    "prof.export_chrome_trace(base_path + \"trace.json\")"
   ]
  },
  {
   "cell_type": "code",
   "execution_count": null,
   "metadata": {},
   "outputs": [],
   "source": [
    "with open(base_path+\"key_averages.csv\", \"w+t\") as f:\n",
    "    f.write(key_avgs.table(sort_by=\"self_cuda_time_total\", row_limit=50, max_shapes_column_width=100))"
   ]
  },
  {
   "cell_type": "code",
   "execution_count": null,
   "metadata": {},
   "outputs": [
    {
     "ename": "RuntimeError",
     "evalue": "Can't call numpy() on Tensor that requires grad. Use tensor.detach().numpy() instead.",
     "output_type": "error",
     "traceback": [
      "\u001b[0;31m---------------------------------------------------------------------------\u001b[0m",
      "\u001b[0;31mRuntimeError\u001b[0m                              Traceback (most recent call last)",
      "\u001b[1;32m/gpfs01/berens/user/fseel/projects/receptive-fields/src/time_consumption.ipynb Cell 16\u001b[0m line \u001b[0;36m1\n\u001b[0;32m----> <a href='vscode-notebook-cell://ssh-remote%2Bgber4/gpfs01/berens/user/fseel/projects/receptive-fields/src/time_consumption.ipynb#X16sdnNjb2RlLXJlbW90ZQ%3D%3D?line=0'>1</a>\u001b[0m plt\u001b[39m.\u001b[39mimshow(model\u001b[39m.\u001b[39mretina[\u001b[39m0\u001b[39m]\u001b[39m.\u001b[39mweight[\u001b[39m2\u001b[39m,\u001b[39m0\u001b[39m]\u001b[39m.\u001b[39mcpu())\n",
      "File \u001b[0;32m~/miniconda3/envs/receptive-fields/lib/python3.11/site-packages/matplotlib/pyplot.py:2695\u001b[0m, in \u001b[0;36mimshow\u001b[0;34m(X, cmap, norm, aspect, interpolation, alpha, vmin, vmax, origin, extent, interpolation_stage, filternorm, filterrad, resample, url, data, **kwargs)\u001b[0m\n\u001b[1;32m   2689\u001b[0m \u001b[39m@_copy_docstring_and_deprecators\u001b[39m(Axes\u001b[39m.\u001b[39mimshow)\n\u001b[1;32m   2690\u001b[0m \u001b[39mdef\u001b[39;00m \u001b[39mimshow\u001b[39m(\n\u001b[1;32m   2691\u001b[0m         X, cmap\u001b[39m=\u001b[39m\u001b[39mNone\u001b[39;00m, norm\u001b[39m=\u001b[39m\u001b[39mNone\u001b[39;00m, \u001b[39m*\u001b[39m, aspect\u001b[39m=\u001b[39m\u001b[39mNone\u001b[39;00m, interpolation\u001b[39m=\u001b[39m\u001b[39mNone\u001b[39;00m,\n\u001b[1;32m   2692\u001b[0m         alpha\u001b[39m=\u001b[39m\u001b[39mNone\u001b[39;00m, vmin\u001b[39m=\u001b[39m\u001b[39mNone\u001b[39;00m, vmax\u001b[39m=\u001b[39m\u001b[39mNone\u001b[39;00m, origin\u001b[39m=\u001b[39m\u001b[39mNone\u001b[39;00m, extent\u001b[39m=\u001b[39m\u001b[39mNone\u001b[39;00m,\n\u001b[1;32m   2693\u001b[0m         interpolation_stage\u001b[39m=\u001b[39m\u001b[39mNone\u001b[39;00m, filternorm\u001b[39m=\u001b[39m\u001b[39mTrue\u001b[39;00m, filterrad\u001b[39m=\u001b[39m\u001b[39m4.0\u001b[39m,\n\u001b[1;32m   2694\u001b[0m         resample\u001b[39m=\u001b[39m\u001b[39mNone\u001b[39;00m, url\u001b[39m=\u001b[39m\u001b[39mNone\u001b[39;00m, data\u001b[39m=\u001b[39m\u001b[39mNone\u001b[39;00m, \u001b[39m*\u001b[39m\u001b[39m*\u001b[39mkwargs):\n\u001b[0;32m-> 2695\u001b[0m     __ret \u001b[39m=\u001b[39m gca()\u001b[39m.\u001b[39mimshow(\n\u001b[1;32m   2696\u001b[0m         X, cmap\u001b[39m=\u001b[39mcmap, norm\u001b[39m=\u001b[39mnorm, aspect\u001b[39m=\u001b[39maspect,\n\u001b[1;32m   2697\u001b[0m         interpolation\u001b[39m=\u001b[39minterpolation, alpha\u001b[39m=\u001b[39malpha, vmin\u001b[39m=\u001b[39mvmin,\n\u001b[1;32m   2698\u001b[0m         vmax\u001b[39m=\u001b[39mvmax, origin\u001b[39m=\u001b[39morigin, extent\u001b[39m=\u001b[39mextent,\n\u001b[1;32m   2699\u001b[0m         interpolation_stage\u001b[39m=\u001b[39minterpolation_stage,\n\u001b[1;32m   2700\u001b[0m         filternorm\u001b[39m=\u001b[39mfilternorm, filterrad\u001b[39m=\u001b[39mfilterrad, resample\u001b[39m=\u001b[39mresample,\n\u001b[1;32m   2701\u001b[0m         url\u001b[39m=\u001b[39murl, \u001b[39m*\u001b[39m\u001b[39m*\u001b[39m({\u001b[39m\"\u001b[39m\u001b[39mdata\u001b[39m\u001b[39m\"\u001b[39m: data} \u001b[39mif\u001b[39;00m data \u001b[39mis\u001b[39;00m \u001b[39mnot\u001b[39;00m \u001b[39mNone\u001b[39;00m \u001b[39melse\u001b[39;00m {}),\n\u001b[1;32m   2702\u001b[0m         \u001b[39m*\u001b[39m\u001b[39m*\u001b[39mkwargs)\n\u001b[1;32m   2703\u001b[0m     sci(__ret)\n\u001b[1;32m   2704\u001b[0m     \u001b[39mreturn\u001b[39;00m __ret\n",
      "File \u001b[0;32m~/miniconda3/envs/receptive-fields/lib/python3.11/site-packages/matplotlib/__init__.py:1446\u001b[0m, in \u001b[0;36m_preprocess_data.<locals>.inner\u001b[0;34m(ax, data, *args, **kwargs)\u001b[0m\n\u001b[1;32m   1443\u001b[0m \u001b[39m@functools\u001b[39m\u001b[39m.\u001b[39mwraps(func)\n\u001b[1;32m   1444\u001b[0m \u001b[39mdef\u001b[39;00m \u001b[39minner\u001b[39m(ax, \u001b[39m*\u001b[39margs, data\u001b[39m=\u001b[39m\u001b[39mNone\u001b[39;00m, \u001b[39m*\u001b[39m\u001b[39m*\u001b[39mkwargs):\n\u001b[1;32m   1445\u001b[0m     \u001b[39mif\u001b[39;00m data \u001b[39mis\u001b[39;00m \u001b[39mNone\u001b[39;00m:\n\u001b[0;32m-> 1446\u001b[0m         \u001b[39mreturn\u001b[39;00m func(ax, \u001b[39m*\u001b[39m\u001b[39mmap\u001b[39m(sanitize_sequence, args), \u001b[39m*\u001b[39m\u001b[39m*\u001b[39mkwargs)\n\u001b[1;32m   1448\u001b[0m     bound \u001b[39m=\u001b[39m new_sig\u001b[39m.\u001b[39mbind(ax, \u001b[39m*\u001b[39margs, \u001b[39m*\u001b[39m\u001b[39m*\u001b[39mkwargs)\n\u001b[1;32m   1449\u001b[0m     auto_label \u001b[39m=\u001b[39m (bound\u001b[39m.\u001b[39marguments\u001b[39m.\u001b[39mget(label_namer)\n\u001b[1;32m   1450\u001b[0m                   \u001b[39mor\u001b[39;00m bound\u001b[39m.\u001b[39mkwargs\u001b[39m.\u001b[39mget(label_namer))\n",
      "File \u001b[0;32m~/miniconda3/envs/receptive-fields/lib/python3.11/site-packages/matplotlib/axes/_axes.py:5663\u001b[0m, in \u001b[0;36mAxes.imshow\u001b[0;34m(self, X, cmap, norm, aspect, interpolation, alpha, vmin, vmax, origin, extent, interpolation_stage, filternorm, filterrad, resample, url, **kwargs)\u001b[0m\n\u001b[1;32m   5655\u001b[0m \u001b[39mself\u001b[39m\u001b[39m.\u001b[39mset_aspect(aspect)\n\u001b[1;32m   5656\u001b[0m im \u001b[39m=\u001b[39m mimage\u001b[39m.\u001b[39mAxesImage(\u001b[39mself\u001b[39m, cmap\u001b[39m=\u001b[39mcmap, norm\u001b[39m=\u001b[39mnorm,\n\u001b[1;32m   5657\u001b[0m                       interpolation\u001b[39m=\u001b[39minterpolation, origin\u001b[39m=\u001b[39morigin,\n\u001b[1;32m   5658\u001b[0m                       extent\u001b[39m=\u001b[39mextent, filternorm\u001b[39m=\u001b[39mfilternorm,\n\u001b[1;32m   5659\u001b[0m                       filterrad\u001b[39m=\u001b[39mfilterrad, resample\u001b[39m=\u001b[39mresample,\n\u001b[1;32m   5660\u001b[0m                       interpolation_stage\u001b[39m=\u001b[39minterpolation_stage,\n\u001b[1;32m   5661\u001b[0m                       \u001b[39m*\u001b[39m\u001b[39m*\u001b[39mkwargs)\n\u001b[0;32m-> 5663\u001b[0m im\u001b[39m.\u001b[39mset_data(X)\n\u001b[1;32m   5664\u001b[0m im\u001b[39m.\u001b[39mset_alpha(alpha)\n\u001b[1;32m   5665\u001b[0m \u001b[39mif\u001b[39;00m im\u001b[39m.\u001b[39mget_clip_path() \u001b[39mis\u001b[39;00m \u001b[39mNone\u001b[39;00m:\n\u001b[1;32m   5666\u001b[0m     \u001b[39m# image does not already have clipping set, clip to axes patch\u001b[39;00m\n",
      "File \u001b[0;32m~/miniconda3/envs/receptive-fields/lib/python3.11/site-packages/matplotlib/image.py:697\u001b[0m, in \u001b[0;36m_ImageBase.set_data\u001b[0;34m(self, A)\u001b[0m\n\u001b[1;32m    695\u001b[0m \u001b[39mif\u001b[39;00m \u001b[39misinstance\u001b[39m(A, PIL\u001b[39m.\u001b[39mImage\u001b[39m.\u001b[39mImage):\n\u001b[1;32m    696\u001b[0m     A \u001b[39m=\u001b[39m pil_to_array(A)  \u001b[39m# Needed e.g. to apply png palette.\u001b[39;00m\n\u001b[0;32m--> 697\u001b[0m \u001b[39mself\u001b[39m\u001b[39m.\u001b[39m_A \u001b[39m=\u001b[39m cbook\u001b[39m.\u001b[39msafe_masked_invalid(A, copy\u001b[39m=\u001b[39m\u001b[39mTrue\u001b[39;00m)\n\u001b[1;32m    699\u001b[0m \u001b[39mif\u001b[39;00m (\u001b[39mself\u001b[39m\u001b[39m.\u001b[39m_A\u001b[39m.\u001b[39mdtype \u001b[39m!=\u001b[39m np\u001b[39m.\u001b[39muint8 \u001b[39mand\u001b[39;00m\n\u001b[1;32m    700\u001b[0m         \u001b[39mnot\u001b[39;00m np\u001b[39m.\u001b[39mcan_cast(\u001b[39mself\u001b[39m\u001b[39m.\u001b[39m_A\u001b[39m.\u001b[39mdtype, \u001b[39mfloat\u001b[39m, \u001b[39m\"\u001b[39m\u001b[39msame_kind\u001b[39m\u001b[39m\"\u001b[39m)):\n\u001b[1;32m    701\u001b[0m     \u001b[39mraise\u001b[39;00m \u001b[39mTypeError\u001b[39;00m(\u001b[39m\"\u001b[39m\u001b[39mImage data of dtype \u001b[39m\u001b[39m{}\u001b[39;00m\u001b[39m cannot be converted to \u001b[39m\u001b[39m\"\u001b[39m\n\u001b[1;32m    702\u001b[0m                     \u001b[39m\"\u001b[39m\u001b[39mfloat\u001b[39m\u001b[39m\"\u001b[39m\u001b[39m.\u001b[39mformat(\u001b[39mself\u001b[39m\u001b[39m.\u001b[39m_A\u001b[39m.\u001b[39mdtype))\n",
      "File \u001b[0;32m~/miniconda3/envs/receptive-fields/lib/python3.11/site-packages/matplotlib/cbook/__init__.py:714\u001b[0m, in \u001b[0;36msafe_masked_invalid\u001b[0;34m(x, copy)\u001b[0m\n\u001b[1;32m    713\u001b[0m \u001b[39mdef\u001b[39;00m \u001b[39msafe_masked_invalid\u001b[39m(x, copy\u001b[39m=\u001b[39m\u001b[39mFalse\u001b[39;00m):\n\u001b[0;32m--> 714\u001b[0m     x \u001b[39m=\u001b[39m np\u001b[39m.\u001b[39marray(x, subok\u001b[39m=\u001b[39m\u001b[39mTrue\u001b[39;00m, copy\u001b[39m=\u001b[39mcopy)\n\u001b[1;32m    715\u001b[0m     \u001b[39mif\u001b[39;00m \u001b[39mnot\u001b[39;00m x\u001b[39m.\u001b[39mdtype\u001b[39m.\u001b[39misnative:\n\u001b[1;32m    716\u001b[0m         \u001b[39m# If we have already made a copy, do the byteswap in place, else make a\u001b[39;00m\n\u001b[1;32m    717\u001b[0m         \u001b[39m# copy with the byte order swapped.\u001b[39;00m\n\u001b[1;32m    718\u001b[0m         x \u001b[39m=\u001b[39m x\u001b[39m.\u001b[39mbyteswap(inplace\u001b[39m=\u001b[39mcopy)\u001b[39m.\u001b[39mnewbyteorder(\u001b[39m'\u001b[39m\u001b[39mN\u001b[39m\u001b[39m'\u001b[39m)  \u001b[39m# Swap to native order.\u001b[39;00m\n",
      "File \u001b[0;32m~/miniconda3/envs/receptive-fields/lib/python3.11/site-packages/torch/_tensor.py:1030\u001b[0m, in \u001b[0;36mTensor.__array__\u001b[0;34m(self, dtype)\u001b[0m\n\u001b[1;32m   1028\u001b[0m     \u001b[39mreturn\u001b[39;00m handle_torch_function(Tensor\u001b[39m.\u001b[39m__array__, (\u001b[39mself\u001b[39m,), \u001b[39mself\u001b[39m, dtype\u001b[39m=\u001b[39mdtype)\n\u001b[1;32m   1029\u001b[0m \u001b[39mif\u001b[39;00m dtype \u001b[39mis\u001b[39;00m \u001b[39mNone\u001b[39;00m:\n\u001b[0;32m-> 1030\u001b[0m     \u001b[39mreturn\u001b[39;00m \u001b[39mself\u001b[39m\u001b[39m.\u001b[39mnumpy()\n\u001b[1;32m   1031\u001b[0m \u001b[39melse\u001b[39;00m:\n\u001b[1;32m   1032\u001b[0m     \u001b[39mreturn\u001b[39;00m \u001b[39mself\u001b[39m\u001b[39m.\u001b[39mnumpy()\u001b[39m.\u001b[39mastype(dtype, copy\u001b[39m=\u001b[39m\u001b[39mFalse\u001b[39;00m)\n",
      "\u001b[0;31mRuntimeError\u001b[0m: Can't call numpy() on Tensor that requires grad. Use tensor.detach().numpy() instead."
     ]
    },
    {
     "data": {
      "image/png": "[encoded data removed]",
      "text/plain": [
       "<Figure size 640x480 with 1 Axes>"
      ]
     },
     "metadata": {},
     "output_type": "display_data"
    }
   ],
   "source": [
    "plt.imshow(model.retina[0].weight[2,0].cpu())"
   ]
  },
  {
   "cell_type": "code",
   "execution_count": null,
   "metadata": {},
   "outputs": [
    {
     "ename": "NameError",
     "evalue": "name 'trained_model' is not defined",
     "output_type": "error",
     "traceback": [
      "\u001b[0;31m---------------------------------------------------------------------------\u001b[0m",
      "\u001b[0;31mNameError\u001b[0m                                 Traceback (most recent call last)",
      "\u001b[1;32m/gpfs01/berens/user/fseel/projects/receptive-fields/src/time_consumption.ipynb Cell 14\u001b[0m line \u001b[0;36m1\n\u001b[0;32m----> <a href='vscode-notebook-cell://ssh-remote%2Bgber4/gpfs01/berens/user/fseel/projects/receptive-fields/src/time_consumption.ipynb#X13sdnNjb2RlLXJlbW90ZQ%3D%3D?line=0'>1</a>\u001b[0m combined_model\u001b[39m=\u001b[39mtrained_model\u001b[39m.\u001b[39mget_sequential()\n",
      "\u001b[0;31mNameError\u001b[0m: name 'trained_model' is not defined"
     ]
    }
   ],
   "source": [
    "combined_model=trained_model.get_sequential()"
   ]
  },
  {
   "cell_type": "code",
   "execution_count": null,
   "metadata": {},
   "outputs": [],
   "source": [
    "combined_model[2]=model.get_sequential()[2]\n",
    "combined_model[5]=model.get_sequential()[5]\n",
    "combined_model[10]=model.get_sequential()[10]\n",
    "combined_model[12]=model.get_sequential()[12]"
   ]
  },
  {
   "cell_type": "code",
   "execution_count": null,
   "metadata": {},
   "outputs": [],
   "source": [
    "combined_model=model"
   ]
  },
  {
   "cell_type": "code",
   "execution_count": null,
   "metadata": {},
   "outputs": [
    {
     "name": "stdout",
     "output_type": "stream",
     "text": [
      "torch.Size([1, 10])\n",
      "torch.Size([1, 10])\n",
      "tensor(0.) tensor(0.)\n"
     ]
    },
    {
     "name": "stderr",
     "output_type": "stream",
     "text": [
      "/gpfs01/berens/user/fseel/miniconda3/envs/receptive-fields/lib/python3.11/site-packages/matplotlib/cm.py:478: RuntimeWarning: invalid value encountered in cast\n",
      "  xx = (xx * 255).astype(np.uint8)\n"
     ]
    },
    {
     "data": {
      "image/png": "[encoded data removed]",
      "text/plain": [
       "<Figure size 640x480 with 1 Axes>"
      ]
     },
     "metadata": {},
     "output_type": "display_data"
    }
   ],
   "source": [
    "from util.activation_visualization import sum_collapse_output, rescaleZeroOne\n",
    "cur_model = combined_model\n",
    "cur_img_size = img_size#(16,12)#\n",
    "out = cur_model(torch.rand((1,3,*cur_img_size)).to(device))\n",
    "print(out.shape)\n",
    "out = torch.full_like(sum_collapse_output(out), 0.2)\n",
    "print(out.shape)\n",
    "eff_rf = single_effective_receptive_field(cur_model, output_signal=out.to(device), input_size=(3,*cur_img_size), n_batch=1, device=device)\n",
    "print(eff_rf.min(), eff_rf.max())\n",
    "plt.imshow(torch.swapdims(rescaleZeroOne(eff_rf), 0,2))\n",
    "# plt.imshow((eff_rf!=0).numpy()[0])\n",
    "plt.show()"
   ]
  },
  {
   "cell_type": "code",
   "execution_count": null,
   "metadata": {},
   "outputs": [
    {
     "data": {
      "text/plain": [
       "RetinalModel(\n",
       "  (retina): Sequential(\n",
       "    (0): Conv2d(3, 16, kernel_size=(3, 3), stride=(1, 1))\n",
       "    (1): ELU(alpha=1.0)\n",
       "    (2): AvgPool2d(kernel_size=3, stride=3, padding=0)\n",
       "    (3): Conv2d(16, 32, kernel_size=(3, 3), stride=(1, 1))\n",
       "    (4): ELU(alpha=1.0)\n",
       "    (5): AvgPool2d(kernel_size=3, stride=3, padding=0)\n",
       "    (6): Conv2d(32, 32, kernel_size=(1, 1), stride=(1, 1))\n",
       "    (7): ELU(alpha=1.0)\n",
       "    (8): Conv2d(32, 64, kernel_size=(4, 4), stride=(1, 1))\n",
       "    (9): ELU(alpha=1.0)\n",
       "    (10): MaxPool2d(kernel_size=4, stride=4, padding=0, dilation=1, ceil_mode=True)\n",
       "    (11): Flatten(start_dim=1, end_dim=-1)\n",
       "  )\n",
       "  (fc): Sequential(\n",
       "    (0): Linear(in_features=768, out_features=128, bias=True)\n",
       "    (1): Linear(in_features=128, out_features=128, bias=True)\n",
       "    (2): Linear(in_features=128, out_features=10, bias=True)\n",
       "  )\n",
       ")"
      ]
     },
     "execution_count": 98,
     "metadata": {},
     "output_type": "execute_result"
    }
   ],
   "source": [
    "cur_model"
   ]
  }
 ],
 "metadata": {
  "kernelspec": {
   "display_name": "receptive-fields",
   "language": "python",
   "name": "python3"
  },
  "language_info": {
   "codemirror_mode": {
    "name": "ipython",
    "version": 3
   },
   "file_extension": ".py",
   "mimetype": "text/x-python",
   "name": "python",
   "nbconvert_exporter": "python",
   "pygments_lexer": "ipython3",
   "version": "3.11.6"
  }
 },
 "nbformat": 4,
 "nbformat_minor": 2
}
