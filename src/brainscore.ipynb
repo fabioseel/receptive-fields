{
 "cells": [
  {
   "cell_type": "code",
   "execution_count": 1,
   "metadata": {},
   "outputs": [
    {
     "name": "stderr",
     "output_type": "stream",
     "text": [
      "/gpfs01/berens/user/fseel/miniconda3/envs/receptive-fields/lib/python3.11/site-packages/brainscore_core/metrics/__init__.py:16: FutureWarning: xarray subclass Score should explicitly define __slots__\n",
      "  class Score(DataAssembly):\n"
     ]
    },
    {
     "name": "stdout",
     "output_type": "stream",
     "text": [
      "Using cuda\n",
      "Files already downloaded and verified\n"
     ]
    }
   ],
   "source": [
    "from brainscore_vision import score\n",
    "from receptive_fields.util.experiment_setup import open_experiment\n",
    "from torch import nn\n",
    "import functools\n",
    "from brainscore_vision.model_helpers.activations.pytorch import load_preprocess_images\n",
    "from brainscore_vision.model_helpers.activations.pytorch import PytorchWrapper\n",
    "from brainscore_vision.model_helpers.brain_transformation import ModelCommitment\n",
    "from brainscore_vision.benchmarks.freemanziemba2013 import FreemanZiembaV1PublicBenchmark\n",
    "from brainscore_vision.benchmarks.marques2020 import MarquesSchiller1976V1SpatialFrequencySelective\n",
    "import random\n",
    "import torch\n",
    "from receptive_fields.util.modules import NamedFromSequential\n",
    "\n",
    "device = torch.device(\"cuda\" if torch.cuda.is_available() else \"cpu\")\n",
    "print(\"Using\", device)\n",
    "\n",
    "model_path = \"../models/areadne_submission/pool_large\"\n",
    "model, train_data= open_experiment(model_path)"
   ]
  },
  {
   "cell_type": "code",
   "execution_count": 2,
   "metadata": {},
   "outputs": [
    {
     "name": "stdout",
     "output_type": "stream",
     "text": [
      "Looking in indexes: https://pypi.org/simple, https://packagecloud.io/github/git-lfs/pypi/simple\n",
      "Requirement already satisfied: numpy in /gpfs01/berens/user/fseel/miniconda3/envs/receptive-fields/lib/python3.11/site-packages (from -r /gpfs01/berens/user/fseel/miniconda3/envs/receptive-fields/lib/python3.11/site-packages/brainscore_vision/metrics/regression_correlation/requirements.txt (line 1)) (1.24.3)\n",
      "Requirement already satisfied: scipy in /gpfs01/berens/user/fseel/miniconda3/envs/receptive-fields/lib/python3.11/site-packages (from -r /gpfs01/berens/user/fseel/miniconda3/envs/receptive-fields/lib/python3.11/site-packages/brainscore_vision/metrics/regression_correlation/requirements.txt (line 2)) (1.11.3)\n",
      "Requirement already satisfied: scikit-learn in /gpfs01/berens/user/fseel/miniconda3/envs/receptive-fields/lib/python3.11/site-packages (from -r /gpfs01/berens/user/fseel/miniconda3/envs/receptive-fields/lib/python3.11/site-packages/brainscore_vision/metrics/regression_correlation/requirements.txt (line 3)) (1.3.0)\n",
      "Requirement already satisfied: joblib>=1.1.1 in /gpfs01/berens/user/fseel/miniconda3/envs/receptive-fields/lib/python3.11/site-packages (from scikit-learn->-r /gpfs01/berens/user/fseel/miniconda3/envs/receptive-fields/lib/python3.11/site-packages/brainscore_vision/metrics/regression_correlation/requirements.txt (line 3)) (1.2.0)\n",
      "Requirement already satisfied: threadpoolctl>=2.0.0 in /gpfs01/berens/user/fseel/miniconda3/envs/receptive-fields/lib/python3.11/site-packages (from scikit-learn->-r /gpfs01/berens/user/fseel/miniconda3/envs/receptive-fields/lib/python3.11/site-packages/brainscore_vision/metrics/regression_correlation/requirements.txt (line 3)) (2.2.0)\n",
      "Looking in indexes: https://pypi.org/simple, https://packagecloud.io/github/git-lfs/pypi/simple\n",
      "Requirement already satisfied: scipy in /gpfs01/berens/user/fseel/miniconda3/envs/receptive-fields/lib/python3.11/site-packages (from -r /gpfs01/berens/user/fseel/miniconda3/envs/receptive-fields/lib/python3.11/site-packages/brainscore_vision/metrics/internal_consistency/requirements.txt (line 1)) (1.11.3)\n",
      "Requirement already satisfied: numpy<1.28.0,>=1.21.6 in /gpfs01/berens/user/fseel/miniconda3/envs/receptive-fields/lib/python3.11/site-packages (from scipy->-r /gpfs01/berens/user/fseel/miniconda3/envs/receptive-fields/lib/python3.11/site-packages/brainscore_vision/metrics/internal_consistency/requirements.txt (line 1)) (1.24.3)\n"
     ]
    },
    {
     "name": "stderr",
     "output_type": "stream",
     "text": [
      "layers:   0%|          | 0/1 [00:00<?, ?it/s]"
     ]
    },
    {
     "name": "stdout",
     "output_type": "stream",
     "text": [
      "Looking in indexes: https://pypi.org/simple, https://packagecloud.io/github/git-lfs/pypi/simple\n",
      "Requirement already satisfied: numpy in /gpfs01/berens/user/fseel/miniconda3/envs/receptive-fields/lib/python3.11/site-packages (from -r /gpfs01/berens/user/fseel/miniconda3/envs/receptive-fields/lib/python3.11/site-packages/brainscore_vision/metrics/regression_correlation/requirements.txt (line 1)) (1.24.3)\n",
      "Requirement already satisfied: scipy in /gpfs01/berens/user/fseel/miniconda3/envs/receptive-fields/lib/python3.11/site-packages (from -r /gpfs01/berens/user/fseel/miniconda3/envs/receptive-fields/lib/python3.11/site-packages/brainscore_vision/metrics/regression_correlation/requirements.txt (line 2)) (1.11.3)\n",
      "Requirement already satisfied: scikit-learn in /gpfs01/berens/user/fseel/miniconda3/envs/receptive-fields/lib/python3.11/site-packages (from -r /gpfs01/berens/user/fseel/miniconda3/envs/receptive-fields/lib/python3.11/site-packages/brainscore_vision/metrics/regression_correlation/requirements.txt (line 3)) (1.3.0)\n",
      "Requirement already satisfied: joblib>=1.1.1 in /gpfs01/berens/user/fseel/miniconda3/envs/receptive-fields/lib/python3.11/site-packages (from scikit-learn->-r /gpfs01/berens/user/fseel/miniconda3/envs/receptive-fields/lib/python3.11/site-packages/brainscore_vision/metrics/regression_correlation/requirements.txt (line 3)) (1.2.0)\n",
      "Requirement already satisfied: threadpoolctl>=2.0.0 in /gpfs01/berens/user/fseel/miniconda3/envs/receptive-fields/lib/python3.11/site-packages (from scikit-learn->-r /gpfs01/berens/user/fseel/miniconda3/envs/receptive-fields/lib/python3.11/site-packages/brainscore_vision/metrics/regression_correlation/requirements.txt (line 3)) (2.2.0)\n",
      "Looking in indexes: https://pypi.org/simple, https://packagecloud.io/github/git-lfs/pypi/simple\n",
      "Requirement already satisfied: scipy in /gpfs01/berens/user/fseel/miniconda3/envs/receptive-fields/lib/python3.11/site-packages (from -r /gpfs01/berens/user/fseel/miniconda3/envs/receptive-fields/lib/python3.11/site-packages/brainscore_vision/metrics/internal_consistency/requirements.txt (line 1)) (1.11.3)\n",
      "Requirement already satisfied: numpy<1.28.0,>=1.21.6 in /gpfs01/berens/user/fseel/miniconda3/envs/receptive-fields/lib/python3.11/site-packages (from scipy->-r /gpfs01/berens/user/fseel/miniconda3/envs/receptive-fields/lib/python3.11/site-packages/brainscore_vision/metrics/internal_consistency/requirements.txt (line 1)) (1.24.3)\n"
     ]
    },
    {
     "data": {
      "application/vnd.jupyter.widget-view+json": {
       "model_id": "f7bf4cabf5a145f192a35d66f607a554",
       "version_major": 2,
       "version_minor": 0
      },
      "text/plain": [
       "activations:   0%|          | 0/192 [00:00<?, ?it/s]"
      ]
     },
     "metadata": {},
     "output_type": "display_data"
    },
    {
     "data": {
      "application/vnd.jupyter.widget-view+json": {
       "model_id": "0445ff36a3e247a48b5fe2a4fa044dac",
       "version_major": 2,
       "version_minor": 0
      },
      "text/plain": [
       "activations:   0%|          | 0/1024 [00:00<?, ?it/s]"
      ]
     },
     "metadata": {},
     "output_type": "display_data"
    },
    {
     "data": {
      "application/vnd.jupyter.widget-view+json": {
       "model_id": "63c9327c9d084ea5a224ac9a7f066f44",
       "version_major": 2,
       "version_minor": 0
      },
      "text/plain": [
       "layer packaging:   0%|          | 0/1 [00:00<?, ?it/s]"
      ]
     },
     "metadata": {},
     "output_type": "display_data"
    },
    {
     "name": "stderr",
     "output_type": "stream",
     "text": [
      "\n",
      "\u001b[A\n",
      "layer principal components: 100%|██████████| 1/1 [01:49<00:00, 109.98s/it]\n"
     ]
    },
    {
     "data": {
      "application/vnd.jupyter.widget-view+json": {
       "model_id": "f6a9e3eec0b44e2db7844b08458df330",
       "version_major": 2,
       "version_minor": 0
      },
      "text/plain": [
       "layer packaging:   0%|          | 0/1 [00:00<?, ?it/s]"
      ]
     },
     "metadata": {},
     "output_type": "display_data"
    },
    {
     "name": "stderr",
     "output_type": "stream",
     "text": [
      "cross-validation: 100%|██████████| 10/10 [00:04<00:00,  2.23it/s]\n",
      "layers: 100%|██████████| 1/1 [04:39<00:00, 279.56s/it]\n"
     ]
    },
    {
     "data": {
      "application/vnd.jupyter.widget-view+json": {
       "model_id": "f8d613babb35488e987c328d5fbe7834",
       "version_major": 2,
       "version_minor": 0
      },
      "text/plain": [
       "activations:   0%|          | 0/192 [00:00<?, ?it/s]"
      ]
     },
     "metadata": {},
     "output_type": "display_data"
    },
    {
     "data": {
      "application/vnd.jupyter.widget-view+json": {
       "model_id": "5c8e43843f564763b59a9aac0652b3e7",
       "version_major": 2,
       "version_minor": 0
      },
      "text/plain": [
       "layer packaging:   0%|          | 0/1 [00:00<?, ?it/s]"
      ]
     },
     "metadata": {},
     "output_type": "display_data"
    },
    {
     "name": "stderr",
     "output_type": "stream",
     "text": [
      "cross-validation: 100%|██████████| 10/10 [34:40<00:00, 208.01s/it]"
     ]
    },
    {
     "name": "stdout",
     "output_type": "stream",
     "text": [
      "<xarray.Score ()>\n",
      "array(0.03974402)\n",
      "Attributes:\n",
      "    error:    <xarray.Score ()>\\narray(0.01491642)\n",
      "    raw:      <xarray.Score ()>\\narray(0.1755879)\\nAttributes:\\n    raw:     ...\n",
      "    ceiling:  <xarray.DataArray ()>\\narray(0.88076227)\\nAttributes:\\n    raw:...\n"
     ]
    },
    {
     "name": "stderr",
     "output_type": "stream",
     "text": [
      "\n"
     ]
    }
   ],
   "source": [
    "random_model = NamedFromSequential(torch.nn.Sequential(torch.nn.Conv2d(3,2048,128), torch.nn.ELU()))\n",
    "\n",
    "preprocessing = functools.partial(load_preprocess_images, image_size=160)\n",
    "activations_model = PytorchWrapper(identifier=\"random_model\", model=random_model, preprocessing=preprocessing)\n",
    "brain_model = ModelCommitment(identifier=\"random_model\", activations_model=activations_model,\n",
    "                        # specify layers to consider\n",
    "                        layers=['ELU_0'])\n",
    "benchm = FreemanZiembaV1PublicBenchmark()\n",
    "model_score = benchm(brain_model)\n",
    "print(model_score)"
   ]
  },
  {
   "cell_type": "code",
   "execution_count": 65,
   "metadata": {},
   "outputs": [
    {
     "name": "stdout",
     "output_type": "stream",
     "text": [
      "Looking in indexes: https://pypi.org/simple, https://packagecloud.io/github/git-lfs/pypi/simple\n",
      "Requirement already satisfied: numpy in /gpfs01/berens/user/fseel/miniconda3/envs/receptive-fields/lib/python3.11/site-packages (from -r /gpfs01/berens/user/fseel/miniconda3/envs/receptive-fields/lib/python3.11/site-packages/brainscore_vision/metrics/regression_correlation/requirements.txt (line 1)) (1.24.3)\n",
      "Requirement already satisfied: scipy in /gpfs01/berens/user/fseel/miniconda3/envs/receptive-fields/lib/python3.11/site-packages (from -r /gpfs01/berens/user/fseel/miniconda3/envs/receptive-fields/lib/python3.11/site-packages/brainscore_vision/metrics/regression_correlation/requirements.txt (line 2)) (1.11.3)\n",
      "Requirement already satisfied: scikit-learn in /gpfs01/berens/user/fseel/miniconda3/envs/receptive-fields/lib/python3.11/site-packages (from -r /gpfs01/berens/user/fseel/miniconda3/envs/receptive-fields/lib/python3.11/site-packages/brainscore_vision/metrics/regression_correlation/requirements.txt (line 3)) (1.3.0)\n",
      "Requirement already satisfied: joblib>=1.1.1 in /gpfs01/berens/user/fseel/miniconda3/envs/receptive-fields/lib/python3.11/site-packages (from scikit-learn->-r /gpfs01/berens/user/fseel/miniconda3/envs/receptive-fields/lib/python3.11/site-packages/brainscore_vision/metrics/regression_correlation/requirements.txt (line 3)) (1.2.0)\n",
      "Requirement already satisfied: threadpoolctl>=2.0.0 in /gpfs01/berens/user/fseel/miniconda3/envs/receptive-fields/lib/python3.11/site-packages (from scikit-learn->-r /gpfs01/berens/user/fseel/miniconda3/envs/receptive-fields/lib/python3.11/site-packages/brainscore_vision/metrics/regression_correlation/requirements.txt (line 3)) (2.2.0)\n",
      "Looking in indexes: https://pypi.org/simple, https://packagecloud.io/github/git-lfs/pypi/simple\n",
      "Requirement already satisfied: scipy in /gpfs01/berens/user/fseel/miniconda3/envs/receptive-fields/lib/python3.11/site-packages (from -r /gpfs01/berens/user/fseel/miniconda3/envs/receptive-fields/lib/python3.11/site-packages/brainscore_vision/metrics/internal_consistency/requirements.txt (line 1)) (1.11.3)\n",
      "Requirement already satisfied: numpy<1.28.0,>=1.21.6 in /gpfs01/berens/user/fseel/miniconda3/envs/receptive-fields/lib/python3.11/site-packages (from scipy->-r /gpfs01/berens/user/fseel/miniconda3/envs/receptive-fields/lib/python3.11/site-packages/brainscore_vision/metrics/internal_consistency/requirements.txt (line 1)) (1.24.3)\n"
     ]
    },
    {
     "name": "stderr",
     "output_type": "stream",
     "text": [
      "cross-validation: 100%|██████████| 10/10 [00:03<00:00,  2.66it/s]\n"
     ]
    },
    {
     "name": "stdout",
     "output_type": "stream",
     "text": [
      "<xarray.Score ()>\n",
      "array(0.05640346)\n",
      "Attributes:\n",
      "    error:    <xarray.Score ()>\\narray(0.01426026)\n",
      "    raw:      <xarray.Score ()>\\narray(0.20917586)\\nAttributes:\\n    raw:    ...\n",
      "    ceiling:  <xarray.DataArray ()>\\narray(0.88076227)\\nAttributes:\\n    raw:...\n",
      "Looking in indexes: https://pypi.org/simple, https://packagecloud.io/github/git-lfs/pypi/simple\n",
      "Requirement already satisfied: numpy in /gpfs01/berens/user/fseel/miniconda3/envs/receptive-fields/lib/python3.11/site-packages (from -r /gpfs01/berens/user/fseel/miniconda3/envs/receptive-fields/lib/python3.11/site-packages/brainscore_vision/metrics/regression_correlation/requirements.txt (line 1)) (1.24.3)\n",
      "Requirement already satisfied: scipy in /gpfs01/berens/user/fseel/miniconda3/envs/receptive-fields/lib/python3.11/site-packages (from -r /gpfs01/berens/user/fseel/miniconda3/envs/receptive-fields/lib/python3.11/site-packages/brainscore_vision/metrics/regression_correlation/requirements.txt (line 2)) (1.11.3)\n",
      "Requirement already satisfied: scikit-learn in /gpfs01/berens/user/fseel/miniconda3/envs/receptive-fields/lib/python3.11/site-packages (from -r /gpfs01/berens/user/fseel/miniconda3/envs/receptive-fields/lib/python3.11/site-packages/brainscore_vision/metrics/regression_correlation/requirements.txt (line 3)) (1.3.0)\n",
      "Requirement already satisfied: joblib>=1.1.1 in /gpfs01/berens/user/fseel/miniconda3/envs/receptive-fields/lib/python3.11/site-packages (from scikit-learn->-r /gpfs01/berens/user/fseel/miniconda3/envs/receptive-fields/lib/python3.11/site-packages/brainscore_vision/metrics/regression_correlation/requirements.txt (line 3)) (1.2.0)\n",
      "Requirement already satisfied: threadpoolctl>=2.0.0 in /gpfs01/berens/user/fseel/miniconda3/envs/receptive-fields/lib/python3.11/site-packages (from scikit-learn->-r /gpfs01/berens/user/fseel/miniconda3/envs/receptive-fields/lib/python3.11/site-packages/brainscore_vision/metrics/regression_correlation/requirements.txt (line 3)) (2.2.0)\n",
      "Looking in indexes: https://pypi.org/simple, https://packagecloud.io/github/git-lfs/pypi/simple\n",
      "Requirement already satisfied: scipy in /gpfs01/berens/user/fseel/miniconda3/envs/receptive-fields/lib/python3.11/site-packages (from -r /gpfs01/berens/user/fseel/miniconda3/envs/receptive-fields/lib/python3.11/site-packages/brainscore_vision/metrics/internal_consistency/requirements.txt (line 1)) (1.11.3)\n",
      "Requirement already satisfied: numpy<1.28.0,>=1.21.6 in /gpfs01/berens/user/fseel/miniconda3/envs/receptive-fields/lib/python3.11/site-packages (from scipy->-r /gpfs01/berens/user/fseel/miniconda3/envs/receptive-fields/lib/python3.11/site-packages/brainscore_vision/metrics/internal_consistency/requirements.txt (line 1)) (1.24.3)\n"
     ]
    },
    {
     "name": "stderr",
     "output_type": "stream",
     "text": [
      "layers:   0%|          | 0/1 [00:00<?, ?it/s]"
     ]
    },
    {
     "data": {
      "application/vnd.jupyter.widget-view+json": {
       "model_id": "cc0ef6000a3d4b7aacfced359c59450a",
       "version_major": 2,
       "version_minor": 0
      },
      "text/plain": [
       "activations:   0%|          | 0/192 [00:00<?, ?it/s]"
      ]
     },
     "metadata": {},
     "output_type": "display_data"
    },
    {
     "data": {
      "application/vnd.jupyter.widget-view+json": {
       "model_id": "823aae186f4244108ebd682496876ebf",
       "version_major": 2,
       "version_minor": 0
      },
      "text/plain": [
       "layer packaging:   0%|          | 0/1 [00:00<?, ?it/s]"
      ]
     },
     "metadata": {},
     "output_type": "display_data"
    },
    {
     "name": "stderr",
     "output_type": "stream",
     "text": [
      "cross-validation: 100%|██████████| 10/10 [00:03<00:00,  2.76it/s]\n",
      "layers: 100%|██████████| 1/1 [00:06<00:00,  6.11s/it]\n"
     ]
    },
    {
     "data": {
      "application/vnd.jupyter.widget-view+json": {
       "model_id": "a9fe22bcd28042b8bd122c6d5db0fc55",
       "version_major": 2,
       "version_minor": 0
      },
      "text/plain": [
       "activations:   0%|          | 0/192 [00:00<?, ?it/s]"
      ]
     },
     "metadata": {},
     "output_type": "display_data"
    },
    {
     "data": {
      "application/vnd.jupyter.widget-view+json": {
       "model_id": "62dcedf513564d81a6d8d9f1d7583f0f",
       "version_major": 2,
       "version_minor": 0
      },
      "text/plain": [
       "layer packaging:   0%|          | 0/1 [00:00<?, ?it/s]"
      ]
     },
     "metadata": {},
     "output_type": "display_data"
    },
    {
     "name": "stderr",
     "output_type": "stream",
     "text": [
      "cross-validation: 100%|██████████| 10/10 [00:03<00:00,  2.77it/s]\n"
     ]
    },
    {
     "name": "stdout",
     "output_type": "stream",
     "text": [
      "<xarray.Score ()>\n",
      "array(0.10567959)\n",
      "Attributes:\n",
      "    error:    <xarray.Score ()>\\narray(0.01907618)\n",
      "    raw:      <xarray.Score ()>\\narray(0.2863217)\\nAttributes:\\n    raw:     ...\n",
      "    ceiling:  <xarray.DataArray ()>\\narray(0.88076227)\\nAttributes:\\n    raw:...\n",
      "Looking in indexes: https://pypi.org/simple, https://packagecloud.io/github/git-lfs/pypi/simple\n",
      "Requirement already satisfied: numpy in /gpfs01/berens/user/fseel/miniconda3/envs/receptive-fields/lib/python3.11/site-packages (from -r /gpfs01/berens/user/fseel/miniconda3/envs/receptive-fields/lib/python3.11/site-packages/brainscore_vision/metrics/regression_correlation/requirements.txt (line 1)) (1.24.3)\n",
      "Requirement already satisfied: scipy in /gpfs01/berens/user/fseel/miniconda3/envs/receptive-fields/lib/python3.11/site-packages (from -r /gpfs01/berens/user/fseel/miniconda3/envs/receptive-fields/lib/python3.11/site-packages/brainscore_vision/metrics/regression_correlation/requirements.txt (line 2)) (1.11.3)\n",
      "Requirement already satisfied: scikit-learn in /gpfs01/berens/user/fseel/miniconda3/envs/receptive-fields/lib/python3.11/site-packages (from -r /gpfs01/berens/user/fseel/miniconda3/envs/receptive-fields/lib/python3.11/site-packages/brainscore_vision/metrics/regression_correlation/requirements.txt (line 3)) (1.3.0)\n",
      "Requirement already satisfied: joblib>=1.1.1 in /gpfs01/berens/user/fseel/miniconda3/envs/receptive-fields/lib/python3.11/site-packages (from scikit-learn->-r /gpfs01/berens/user/fseel/miniconda3/envs/receptive-fields/lib/python3.11/site-packages/brainscore_vision/metrics/regression_correlation/requirements.txt (line 3)) (1.2.0)\n",
      "Requirement already satisfied: threadpoolctl>=2.0.0 in /gpfs01/berens/user/fseel/miniconda3/envs/receptive-fields/lib/python3.11/site-packages (from scikit-learn->-r /gpfs01/berens/user/fseel/miniconda3/envs/receptive-fields/lib/python3.11/site-packages/brainscore_vision/metrics/regression_correlation/requirements.txt (line 3)) (2.2.0)\n",
      "Looking in indexes: https://pypi.org/simple, https://packagecloud.io/github/git-lfs/pypi/simple\n",
      "Requirement already satisfied: scipy in /gpfs01/berens/user/fseel/miniconda3/envs/receptive-fields/lib/python3.11/site-packages (from -r /gpfs01/berens/user/fseel/miniconda3/envs/receptive-fields/lib/python3.11/site-packages/brainscore_vision/metrics/internal_consistency/requirements.txt (line 1)) (1.11.3)\n",
      "Requirement already satisfied: numpy<1.28.0,>=1.21.6 in /gpfs01/berens/user/fseel/miniconda3/envs/receptive-fields/lib/python3.11/site-packages (from scipy->-r /gpfs01/berens/user/fseel/miniconda3/envs/receptive-fields/lib/python3.11/site-packages/brainscore_vision/metrics/internal_consistency/requirements.txt (line 1)) (1.24.3)\n"
     ]
    },
    {
     "name": "stderr",
     "output_type": "stream",
     "text": [
      "layers:   0%|          | 0/1 [00:00<?, ?it/s]"
     ]
    },
    {
     "data": {
      "application/vnd.jupyter.widget-view+json": {
       "model_id": "7fe7085574004b4880c5278a4493e978",
       "version_major": 2,
       "version_minor": 0
      },
      "text/plain": [
       "activations:   0%|          | 0/192 [00:00<?, ?it/s]"
      ]
     },
     "metadata": {},
     "output_type": "display_data"
    },
    {
     "data": {
      "application/vnd.jupyter.widget-view+json": {
       "model_id": "dc71684f1e574b448f9a16d6a07f5ad7",
       "version_major": 2,
       "version_minor": 0
      },
      "text/plain": [
       "activations:   0%|          | 0/1024 [00:00<?, ?it/s]"
      ]
     },
     "metadata": {},
     "output_type": "display_data"
    },
    {
     "data": {
      "application/vnd.jupyter.widget-view+json": {
       "model_id": "da6d44b8feba49e0baab3033137ce84e",
       "version_major": 2,
       "version_minor": 0
      },
      "text/plain": [
       "layer packaging:   0%|          | 0/1 [00:00<?, ?it/s]"
      ]
     },
     "metadata": {},
     "output_type": "display_data"
    },
    {
     "name": "stderr",
     "output_type": "stream",
     "text": [
      "\n",
      "\u001b[A\n",
      "layer principal components: 100%|██████████| 1/1 [00:00<00:00,  3.59it/s]\n"
     ]
    },
    {
     "data": {
      "application/vnd.jupyter.widget-view+json": {
       "model_id": "2e8cfe80a62a41fa81450de1faddbd65",
       "version_major": 2,
       "version_minor": 0
      },
      "text/plain": [
       "layer packaging:   0%|          | 0/1 [00:00<?, ?it/s]"
      ]
     },
     "metadata": {},
     "output_type": "display_data"
    },
    {
     "name": "stderr",
     "output_type": "stream",
     "text": [
      "cross-validation: 100%|██████████| 10/10 [00:04<00:00,  2.38it/s]\n",
      "layers: 100%|██████████| 1/1 [00:13<00:00, 13.34s/it]\n"
     ]
    },
    {
     "data": {
      "application/vnd.jupyter.widget-view+json": {
       "model_id": "5f53abdce5574fc3a50939adc4d45649",
       "version_major": 2,
       "version_minor": 0
      },
      "text/plain": [
       "activations:   0%|          | 0/192 [00:00<?, ?it/s]"
      ]
     },
     "metadata": {},
     "output_type": "display_data"
    },
    {
     "data": {
      "application/vnd.jupyter.widget-view+json": {
       "model_id": "abe95f3c27d9475fb446010b2fd10ca3",
       "version_major": 2,
       "version_minor": 0
      },
      "text/plain": [
       "layer packaging:   0%|          | 0/1 [00:00<?, ?it/s]"
      ]
     },
     "metadata": {},
     "output_type": "display_data"
    },
    {
     "name": "stderr",
     "output_type": "stream",
     "text": [
      "cross-validation: 100%|██████████| 10/10 [00:04<00:00,  2.28it/s]\n"
     ]
    },
    {
     "name": "stdout",
     "output_type": "stream",
     "text": [
      "<xarray.Score ()>\n",
      "array(0.15647697)\n",
      "Attributes:\n",
      "    error:    <xarray.Score ()>\\narray(0.01833733)\n",
      "    raw:      <xarray.Score ()>\\narray(0.34840462)\\nAttributes:\\n    raw:    ...\n",
      "    ceiling:  <xarray.DataArray ()>\\narray(0.88076227)\\nAttributes:\\n    raw:...\n",
      "Looking in indexes: https://pypi.org/simple, https://packagecloud.io/github/git-lfs/pypi/simple\n",
      "Requirement already satisfied: numpy in /gpfs01/berens/user/fseel/miniconda3/envs/receptive-fields/lib/python3.11/site-packages (from -r /gpfs01/berens/user/fseel/miniconda3/envs/receptive-fields/lib/python3.11/site-packages/brainscore_vision/metrics/regression_correlation/requirements.txt (line 1)) (1.24.3)\n",
      "Requirement already satisfied: scipy in /gpfs01/berens/user/fseel/miniconda3/envs/receptive-fields/lib/python3.11/site-packages (from -r /gpfs01/berens/user/fseel/miniconda3/envs/receptive-fields/lib/python3.11/site-packages/brainscore_vision/metrics/regression_correlation/requirements.txt (line 2)) (1.11.3)\n",
      "Requirement already satisfied: scikit-learn in /gpfs01/berens/user/fseel/miniconda3/envs/receptive-fields/lib/python3.11/site-packages (from -r /gpfs01/berens/user/fseel/miniconda3/envs/receptive-fields/lib/python3.11/site-packages/brainscore_vision/metrics/regression_correlation/requirements.txt (line 3)) (1.3.0)\n",
      "Requirement already satisfied: joblib>=1.1.1 in /gpfs01/berens/user/fseel/miniconda3/envs/receptive-fields/lib/python3.11/site-packages (from scikit-learn->-r /gpfs01/berens/user/fseel/miniconda3/envs/receptive-fields/lib/python3.11/site-packages/brainscore_vision/metrics/regression_correlation/requirements.txt (line 3)) (1.2.0)\n",
      "Requirement already satisfied: threadpoolctl>=2.0.0 in /gpfs01/berens/user/fseel/miniconda3/envs/receptive-fields/lib/python3.11/site-packages (from scikit-learn->-r /gpfs01/berens/user/fseel/miniconda3/envs/receptive-fields/lib/python3.11/site-packages/brainscore_vision/metrics/regression_correlation/requirements.txt (line 3)) (2.2.0)\n",
      "Looking in indexes: https://pypi.org/simple, https://packagecloud.io/github/git-lfs/pypi/simple\n",
      "Requirement already satisfied: scipy in /gpfs01/berens/user/fseel/miniconda3/envs/receptive-fields/lib/python3.11/site-packages (from -r /gpfs01/berens/user/fseel/miniconda3/envs/receptive-fields/lib/python3.11/site-packages/brainscore_vision/metrics/internal_consistency/requirements.txt (line 1)) (1.11.3)\n",
      "Requirement already satisfied: numpy<1.28.0,>=1.21.6 in /gpfs01/berens/user/fseel/miniconda3/envs/receptive-fields/lib/python3.11/site-packages (from scipy->-r /gpfs01/berens/user/fseel/miniconda3/envs/receptive-fields/lib/python3.11/site-packages/brainscore_vision/metrics/internal_consistency/requirements.txt (line 1)) (1.24.3)\n"
     ]
    },
    {
     "name": "stderr",
     "output_type": "stream",
     "text": [
      "layers:   0%|          | 0/1 [00:00<?, ?it/s]"
     ]
    },
    {
     "data": {
      "application/vnd.jupyter.widget-view+json": {
       "model_id": "0cedb7bf109847b5a861c5eec75b7421",
       "version_major": 2,
       "version_minor": 0
      },
      "text/plain": [
       "activations:   0%|          | 0/192 [00:00<?, ?it/s]"
      ]
     },
     "metadata": {},
     "output_type": "display_data"
    },
    {
     "data": {
      "application/vnd.jupyter.widget-view+json": {
       "model_id": "6d2d037e115a4161b1eb97dfa8cc239d",
       "version_major": 2,
       "version_minor": 0
      },
      "text/plain": [
       "activations:   0%|          | 0/1024 [00:00<?, ?it/s]"
      ]
     },
     "metadata": {},
     "output_type": "display_data"
    },
    {
     "data": {
      "application/vnd.jupyter.widget-view+json": {
       "model_id": "e825b741efde4a09a5e5209ef59e9459",
       "version_major": 2,
       "version_minor": 0
      },
      "text/plain": [
       "layer packaging:   0%|          | 0/1 [00:00<?, ?it/s]"
      ]
     },
     "metadata": {},
     "output_type": "display_data"
    },
    {
     "name": "stderr",
     "output_type": "stream",
     "text": [
      "\n",
      "\u001b[A\n",
      "layer principal components: 100%|██████████| 1/1 [00:01<00:00,  1.13s/it]\n"
     ]
    },
    {
     "data": {
      "application/vnd.jupyter.widget-view+json": {
       "model_id": "8468150cf84e41f4aabc66f2100f9fdb",
       "version_major": 2,
       "version_minor": 0
      },
      "text/plain": [
       "layer packaging:   0%|          | 0/1 [00:00<?, ?it/s]"
      ]
     },
     "metadata": {},
     "output_type": "display_data"
    },
    {
     "name": "stderr",
     "output_type": "stream",
     "text": [
      "cross-validation: 100%|██████████| 10/10 [00:04<00:00,  2.28it/s]\n",
      "layers: 100%|██████████| 1/1 [00:18<00:00, 18.27s/it]\n"
     ]
    },
    {
     "data": {
      "application/vnd.jupyter.widget-view+json": {
       "model_id": "493fc887ac5f45b5a4b79d7cadf9acd8",
       "version_major": 2,
       "version_minor": 0
      },
      "text/plain": [
       "activations:   0%|          | 0/192 [00:00<?, ?it/s]"
      ]
     },
     "metadata": {},
     "output_type": "display_data"
    },
    {
     "data": {
      "application/vnd.jupyter.widget-view+json": {
       "model_id": "5937364ae5a742ee833d2fbd8bc81cad",
       "version_major": 2,
       "version_minor": 0
      },
      "text/plain": [
       "layer packaging:   0%|          | 0/1 [00:00<?, ?it/s]"
      ]
     },
     "metadata": {},
     "output_type": "display_data"
    },
    {
     "name": "stderr",
     "output_type": "stream",
     "text": [
      "cross-validation: 100%|██████████| 10/10 [00:07<00:00,  1.40it/s]\n"
     ]
    },
    {
     "name": "stdout",
     "output_type": "stream",
     "text": [
      "<xarray.Score ()>\n",
      "array(0.12992226)\n",
      "Attributes:\n",
      "    error:    <xarray.Score ()>\\narray(0.01390241)\n",
      "    raw:      <xarray.Score ()>\\narray(0.31746839)\\nAttributes:\\n    raw:    ...\n",
      "    ceiling:  <xarray.DataArray ()>\\narray(0.88076227)\\nAttributes:\\n    raw:...\n",
      "Looking in indexes: https://pypi.org/simple, https://packagecloud.io/github/git-lfs/pypi/simple\n",
      "Requirement already satisfied: numpy in /gpfs01/berens/user/fseel/miniconda3/envs/receptive-fields/lib/python3.11/site-packages (from -r /gpfs01/berens/user/fseel/miniconda3/envs/receptive-fields/lib/python3.11/site-packages/brainscore_vision/metrics/regression_correlation/requirements.txt (line 1)) (1.24.3)\n",
      "Requirement already satisfied: scipy in /gpfs01/berens/user/fseel/miniconda3/envs/receptive-fields/lib/python3.11/site-packages (from -r /gpfs01/berens/user/fseel/miniconda3/envs/receptive-fields/lib/python3.11/site-packages/brainscore_vision/metrics/regression_correlation/requirements.txt (line 2)) (1.11.3)\n",
      "Requirement already satisfied: scikit-learn in /gpfs01/berens/user/fseel/miniconda3/envs/receptive-fields/lib/python3.11/site-packages (from -r /gpfs01/berens/user/fseel/miniconda3/envs/receptive-fields/lib/python3.11/site-packages/brainscore_vision/metrics/regression_correlation/requirements.txt (line 3)) (1.3.0)\n",
      "Requirement already satisfied: joblib>=1.1.1 in /gpfs01/berens/user/fseel/miniconda3/envs/receptive-fields/lib/python3.11/site-packages (from scikit-learn->-r /gpfs01/berens/user/fseel/miniconda3/envs/receptive-fields/lib/python3.11/site-packages/brainscore_vision/metrics/regression_correlation/requirements.txt (line 3)) (1.2.0)\n",
      "Requirement already satisfied: threadpoolctl>=2.0.0 in /gpfs01/berens/user/fseel/miniconda3/envs/receptive-fields/lib/python3.11/site-packages (from scikit-learn->-r /gpfs01/berens/user/fseel/miniconda3/envs/receptive-fields/lib/python3.11/site-packages/brainscore_vision/metrics/regression_correlation/requirements.txt (line 3)) (2.2.0)\n",
      "Looking in indexes: https://pypi.org/simple, https://packagecloud.io/github/git-lfs/pypi/simple\n",
      "Requirement already satisfied: scipy in /gpfs01/berens/user/fseel/miniconda3/envs/receptive-fields/lib/python3.11/site-packages (from -r /gpfs01/berens/user/fseel/miniconda3/envs/receptive-fields/lib/python3.11/site-packages/brainscore_vision/metrics/internal_consistency/requirements.txt (line 1)) (1.11.3)\n",
      "Requirement already satisfied: numpy<1.28.0,>=1.21.6 in /gpfs01/berens/user/fseel/miniconda3/envs/receptive-fields/lib/python3.11/site-packages (from scipy->-r /gpfs01/berens/user/fseel/miniconda3/envs/receptive-fields/lib/python3.11/site-packages/brainscore_vision/metrics/internal_consistency/requirements.txt (line 1)) (1.24.3)\n"
     ]
    },
    {
     "name": "stderr",
     "output_type": "stream",
     "text": [
      "layers:   0%|          | 0/1 [00:00<?, ?it/s]"
     ]
    },
    {
     "data": {
      "application/vnd.jupyter.widget-view+json": {
       "model_id": "6deaffdaaae04885b699e42922c70cd3",
       "version_major": 2,
       "version_minor": 0
      },
      "text/plain": [
       "activations:   0%|          | 0/192 [00:00<?, ?it/s]"
      ]
     },
     "metadata": {},
     "output_type": "display_data"
    },
    {
     "data": {
      "application/vnd.jupyter.widget-view+json": {
       "model_id": "6908c711774c41c0abe31393a63e6e8f",
       "version_major": 2,
       "version_minor": 0
      },
      "text/plain": [
       "activations:   0%|          | 0/1024 [00:00<?, ?it/s]"
      ]
     },
     "metadata": {},
     "output_type": "display_data"
    },
    {
     "data": {
      "application/vnd.jupyter.widget-view+json": {
       "model_id": "36482a5f58a1414d96e8e429d335aea2",
       "version_major": 2,
       "version_minor": 0
      },
      "text/plain": [
       "layer packaging:   0%|          | 0/1 [00:00<?, ?it/s]"
      ]
     },
     "metadata": {},
     "output_type": "display_data"
    },
    {
     "name": "stderr",
     "output_type": "stream",
     "text": [
      "\n",
      "\u001b[A\n",
      "layer principal components: 100%|██████████| 1/1 [00:00<00:00,  1.08it/s]\n"
     ]
    },
    {
     "data": {
      "application/vnd.jupyter.widget-view+json": {
       "model_id": "b1e0d82f5f0b406b8c6e00f67a761e75",
       "version_major": 2,
       "version_minor": 0
      },
      "text/plain": [
       "layer packaging:   0%|          | 0/1 [00:00<?, ?it/s]"
      ]
     },
     "metadata": {},
     "output_type": "display_data"
    },
    {
     "name": "stderr",
     "output_type": "stream",
     "text": [
      "cross-validation: 100%|██████████| 10/10 [00:04<00:00,  2.46it/s]\n",
      "layers: 100%|██████████| 1/1 [00:23<00:00, 23.02s/it]\n"
     ]
    },
    {
     "data": {
      "application/vnd.jupyter.widget-view+json": {
       "model_id": "97a780a2a5ad46ee9030de62fa5b192b",
       "version_major": 2,
       "version_minor": 0
      },
      "text/plain": [
       "activations:   0%|          | 0/192 [00:00<?, ?it/s]"
      ]
     },
     "metadata": {},
     "output_type": "display_data"
    },
    {
     "data": {
      "application/vnd.jupyter.widget-view+json": {
       "model_id": "4fd6df65c468424d82399856061b2083",
       "version_major": 2,
       "version_minor": 0
      },
      "text/plain": [
       "layer packaging:   0%|          | 0/1 [00:00<?, ?it/s]"
      ]
     },
     "metadata": {},
     "output_type": "display_data"
    },
    {
     "name": "stderr",
     "output_type": "stream",
     "text": [
      "cross-validation: 100%|██████████| 10/10 [00:11<00:00,  1.13s/it]\n"
     ]
    },
    {
     "name": "stdout",
     "output_type": "stream",
     "text": [
      "<xarray.Score ()>\n",
      "array(0.13180664)\n",
      "Attributes:\n",
      "    error:    <xarray.Score ()>\\narray(0.01851145)\n",
      "    raw:      <xarray.Score ()>\\narray(0.31976236)\\nAttributes:\\n    raw:    ...\n",
      "    ceiling:  <xarray.DataArray ()>\\narray(0.88076227)\\nAttributes:\\n    raw:...\n",
      "Looking in indexes: https://pypi.org/simple, https://packagecloud.io/github/git-lfs/pypi/simple\n",
      "Requirement already satisfied: numpy in /gpfs01/berens/user/fseel/miniconda3/envs/receptive-fields/lib/python3.11/site-packages (from -r /gpfs01/berens/user/fseel/miniconda3/envs/receptive-fields/lib/python3.11/site-packages/brainscore_vision/metrics/regression_correlation/requirements.txt (line 1)) (1.24.3)\n",
      "Requirement already satisfied: scipy in /gpfs01/berens/user/fseel/miniconda3/envs/receptive-fields/lib/python3.11/site-packages (from -r /gpfs01/berens/user/fseel/miniconda3/envs/receptive-fields/lib/python3.11/site-packages/brainscore_vision/metrics/regression_correlation/requirements.txt (line 2)) (1.11.3)\n",
      "Requirement already satisfied: scikit-learn in /gpfs01/berens/user/fseel/miniconda3/envs/receptive-fields/lib/python3.11/site-packages (from -r /gpfs01/berens/user/fseel/miniconda3/envs/receptive-fields/lib/python3.11/site-packages/brainscore_vision/metrics/regression_correlation/requirements.txt (line 3)) (1.3.0)\n",
      "Requirement already satisfied: joblib>=1.1.1 in /gpfs01/berens/user/fseel/miniconda3/envs/receptive-fields/lib/python3.11/site-packages (from scikit-learn->-r /gpfs01/berens/user/fseel/miniconda3/envs/receptive-fields/lib/python3.11/site-packages/brainscore_vision/metrics/regression_correlation/requirements.txt (line 3)) (1.2.0)\n",
      "Requirement already satisfied: threadpoolctl>=2.0.0 in /gpfs01/berens/user/fseel/miniconda3/envs/receptive-fields/lib/python3.11/site-packages (from scikit-learn->-r /gpfs01/berens/user/fseel/miniconda3/envs/receptive-fields/lib/python3.11/site-packages/brainscore_vision/metrics/regression_correlation/requirements.txt (line 3)) (2.2.0)\n",
      "Looking in indexes: https://pypi.org/simple, https://packagecloud.io/github/git-lfs/pypi/simple\n",
      "Requirement already satisfied: scipy in /gpfs01/berens/user/fseel/miniconda3/envs/receptive-fields/lib/python3.11/site-packages (from -r /gpfs01/berens/user/fseel/miniconda3/envs/receptive-fields/lib/python3.11/site-packages/brainscore_vision/metrics/internal_consistency/requirements.txt (line 1)) (1.11.3)\n",
      "Requirement already satisfied: numpy<1.28.0,>=1.21.6 in /gpfs01/berens/user/fseel/miniconda3/envs/receptive-fields/lib/python3.11/site-packages (from scipy->-r /gpfs01/berens/user/fseel/miniconda3/envs/receptive-fields/lib/python3.11/site-packages/brainscore_vision/metrics/internal_consistency/requirements.txt (line 1)) (1.24.3)\n"
     ]
    },
    {
     "name": "stderr",
     "output_type": "stream",
     "text": [
      "layers:   0%|          | 0/1 [00:00<?, ?it/s]"
     ]
    },
    {
     "data": {
      "application/vnd.jupyter.widget-view+json": {
       "model_id": "f53d1467515e4f5f915e6a1ecc1769d0",
       "version_major": 2,
       "version_minor": 0
      },
      "text/plain": [
       "activations:   0%|          | 0/192 [00:00<?, ?it/s]"
      ]
     },
     "metadata": {},
     "output_type": "display_data"
    },
    {
     "data": {
      "application/vnd.jupyter.widget-view+json": {
       "model_id": "cb51628f33044b52b83973adcf4f78c6",
       "version_major": 2,
       "version_minor": 0
      },
      "text/plain": [
       "activations:   0%|          | 0/1024 [00:00<?, ?it/s]"
      ]
     },
     "metadata": {},
     "output_type": "display_data"
    },
    {
     "data": {
      "application/vnd.jupyter.widget-view+json": {
       "model_id": "fd8a436a383d4d09abde11a524fba6b4",
       "version_major": 2,
       "version_minor": 0
      },
      "text/plain": [
       "layer packaging:   0%|          | 0/1 [00:00<?, ?it/s]"
      ]
     },
     "metadata": {},
     "output_type": "display_data"
    },
    {
     "name": "stderr",
     "output_type": "stream",
     "text": [
      "\n",
      "\u001b[A\n",
      "layer principal components: 100%|██████████| 1/1 [00:01<00:00,  1.20s/it]\n"
     ]
    },
    {
     "data": {
      "application/vnd.jupyter.widget-view+json": {
       "model_id": "2a3c3fd01ba6411d92152ad766daeee4",
       "version_major": 2,
       "version_minor": 0
      },
      "text/plain": [
       "layer packaging:   0%|          | 0/1 [00:00<?, ?it/s]"
      ]
     },
     "metadata": {},
     "output_type": "display_data"
    },
    {
     "name": "stderr",
     "output_type": "stream",
     "text": [
      "cross-validation: 100%|██████████| 10/10 [00:04<00:00,  2.44it/s]\n",
      "layers: 100%|██████████| 1/1 [00:26<00:00, 26.03s/it]\n"
     ]
    },
    {
     "data": {
      "application/vnd.jupyter.widget-view+json": {
       "model_id": "2e7553a8ade745678367149cd5bea2c4",
       "version_major": 2,
       "version_minor": 0
      },
      "text/plain": [
       "activations:   0%|          | 0/192 [00:00<?, ?it/s]"
      ]
     },
     "metadata": {},
     "output_type": "display_data"
    },
    {
     "data": {
      "application/vnd.jupyter.widget-view+json": {
       "model_id": "985a47ccff9d44ffadc85ea7536077a8",
       "version_major": 2,
       "version_minor": 0
      },
      "text/plain": [
       "layer packaging:   0%|          | 0/1 [00:00<?, ?it/s]"
      ]
     },
     "metadata": {},
     "output_type": "display_data"
    },
    {
     "name": "stderr",
     "output_type": "stream",
     "text": [
      "cross-validation:  50%|█████     | 5/10 [00:08<00:08,  1.75s/it]/gpfs01/berens/user/fseel/miniconda3/envs/receptive-fields/lib/python3.11/site-packages/sklearn/cross_decomposition/_pls.py:113: ConvergenceWarning: Maximum number of iterations reached\n",
      "  warnings.warn(\"Maximum number of iterations reached\", ConvergenceWarning)\n",
      "cross-validation: 100%|██████████| 10/10 [00:17<00:00,  1.80s/it]\n"
     ]
    },
    {
     "name": "stdout",
     "output_type": "stream",
     "text": [
      "<xarray.Score ()>\n",
      "array(0.13272778)\n",
      "Attributes:\n",
      "    error:    <xarray.Score ()>\\narray(0.0110127)\n",
      "    raw:      <xarray.Score ()>\\narray(0.32087776)\\nAttributes:\\n    raw:    ...\n",
      "    ceiling:  <xarray.DataArray ()>\\narray(0.88076227)\\nAttributes:\\n    raw:...\n",
      "Looking in indexes: https://pypi.org/simple, https://packagecloud.io/github/git-lfs/pypi/simple\n",
      "Requirement already satisfied: numpy in /gpfs01/berens/user/fseel/miniconda3/envs/receptive-fields/lib/python3.11/site-packages (from -r /gpfs01/berens/user/fseel/miniconda3/envs/receptive-fields/lib/python3.11/site-packages/brainscore_vision/metrics/regression_correlation/requirements.txt (line 1)) (1.24.3)\n",
      "Requirement already satisfied: scipy in /gpfs01/berens/user/fseel/miniconda3/envs/receptive-fields/lib/python3.11/site-packages (from -r /gpfs01/berens/user/fseel/miniconda3/envs/receptive-fields/lib/python3.11/site-packages/brainscore_vision/metrics/regression_correlation/requirements.txt (line 2)) (1.11.3)\n",
      "Requirement already satisfied: scikit-learn in /gpfs01/berens/user/fseel/miniconda3/envs/receptive-fields/lib/python3.11/site-packages (from -r /gpfs01/berens/user/fseel/miniconda3/envs/receptive-fields/lib/python3.11/site-packages/brainscore_vision/metrics/regression_correlation/requirements.txt (line 3)) (1.3.0)\n",
      "Requirement already satisfied: joblib>=1.1.1 in /gpfs01/berens/user/fseel/miniconda3/envs/receptive-fields/lib/python3.11/site-packages (from scikit-learn->-r /gpfs01/berens/user/fseel/miniconda3/envs/receptive-fields/lib/python3.11/site-packages/brainscore_vision/metrics/regression_correlation/requirements.txt (line 3)) (1.2.0)\n",
      "Requirement already satisfied: threadpoolctl>=2.0.0 in /gpfs01/berens/user/fseel/miniconda3/envs/receptive-fields/lib/python3.11/site-packages (from scikit-learn->-r /gpfs01/berens/user/fseel/miniconda3/envs/receptive-fields/lib/python3.11/site-packages/brainscore_vision/metrics/regression_correlation/requirements.txt (line 3)) (2.2.0)\n",
      "Looking in indexes: https://pypi.org/simple, https://packagecloud.io/github/git-lfs/pypi/simple\n",
      "Requirement already satisfied: scipy in /gpfs01/berens/user/fseel/miniconda3/envs/receptive-fields/lib/python3.11/site-packages (from -r /gpfs01/berens/user/fseel/miniconda3/envs/receptive-fields/lib/python3.11/site-packages/brainscore_vision/metrics/internal_consistency/requirements.txt (line 1)) (1.11.3)\n",
      "Requirement already satisfied: numpy<1.28.0,>=1.21.6 in /gpfs01/berens/user/fseel/miniconda3/envs/receptive-fields/lib/python3.11/site-packages (from scipy->-r /gpfs01/berens/user/fseel/miniconda3/envs/receptive-fields/lib/python3.11/site-packages/brainscore_vision/metrics/internal_consistency/requirements.txt (line 1)) (1.24.3)\n"
     ]
    },
    {
     "name": "stderr",
     "output_type": "stream",
     "text": [
      "layers:   0%|          | 0/1 [00:00<?, ?it/s]"
     ]
    },
    {
     "data": {
      "application/vnd.jupyter.widget-view+json": {
       "model_id": "f7ca2e7a406645a58ef921070c3fcb04",
       "version_major": 2,
       "version_minor": 0
      },
      "text/plain": [
       "activations:   0%|          | 0/192 [00:00<?, ?it/s]"
      ]
     },
     "metadata": {},
     "output_type": "display_data"
    },
    {
     "data": {
      "application/vnd.jupyter.widget-view+json": {
       "model_id": "c45634b377ce4b0388d9fe4b58bb8ca3",
       "version_major": 2,
       "version_minor": 0
      },
      "text/plain": [
       "activations:   0%|          | 0/1024 [00:00<?, ?it/s]"
      ]
     },
     "metadata": {},
     "output_type": "display_data"
    },
    {
     "data": {
      "application/vnd.jupyter.widget-view+json": {
       "model_id": "2dd4ab5719bf408d90653b484c99465c",
       "version_major": 2,
       "version_minor": 0
      },
      "text/plain": [
       "layer packaging:   0%|          | 0/1 [00:00<?, ?it/s]"
      ]
     },
     "metadata": {},
     "output_type": "display_data"
    },
    {
     "name": "stderr",
     "output_type": "stream",
     "text": [
      "\n",
      "\u001b[A\n",
      "layer principal components: 100%|██████████| 1/1 [00:00<00:00,  1.27it/s]\n"
     ]
    },
    {
     "data": {
      "application/vnd.jupyter.widget-view+json": {
       "model_id": "f292bd82900c44248490188f3f73c974",
       "version_major": 2,
       "version_minor": 0
      },
      "text/plain": [
       "layer packaging:   0%|          | 0/1 [00:00<?, ?it/s]"
      ]
     },
     "metadata": {},
     "output_type": "display_data"
    },
    {
     "name": "stderr",
     "output_type": "stream",
     "text": [
      "cross-validation: 100%|██████████| 10/10 [00:04<00:00,  2.34it/s]\n",
      "layers: 100%|██████████| 1/1 [00:11<00:00, 11.72s/it]\n"
     ]
    },
    {
     "data": {
      "application/vnd.jupyter.widget-view+json": {
       "model_id": "bcddad73a04b4b11ac8063b09800c30d",
       "version_major": 2,
       "version_minor": 0
      },
      "text/plain": [
       "activations:   0%|          | 0/192 [00:00<?, ?it/s]"
      ]
     },
     "metadata": {},
     "output_type": "display_data"
    },
    {
     "data": {
      "application/vnd.jupyter.widget-view+json": {
       "model_id": "0ad47628e2234eb09a33c5b5c822f825",
       "version_major": 2,
       "version_minor": 0
      },
      "text/plain": [
       "layer packaging:   0%|          | 0/1 [00:00<?, ?it/s]"
      ]
     },
     "metadata": {},
     "output_type": "display_data"
    },
    {
     "name": "stderr",
     "output_type": "stream",
     "text": [
      "cross-validation:  10%|█         | 1/10 [00:00<00:06,  1.48it/s]/gpfs01/berens/user/fseel/miniconda3/envs/receptive-fields/lib/python3.11/site-packages/sklearn/cross_decomposition/_pls.py:113: ConvergenceWarning: Maximum number of iterations reached\n",
      "  warnings.warn(\"Maximum number of iterations reached\", ConvergenceWarning)\n",
      "cross-validation: 100%|██████████| 10/10 [00:06<00:00,  1.54it/s]\n"
     ]
    },
    {
     "name": "stdout",
     "output_type": "stream",
     "text": [
      "<xarray.Score ()>\n",
      "array(0.20041181)\n",
      "Attributes:\n",
      "    error:    <xarray.Score ()>\\narray(0.01316096)\n",
      "    raw:      <xarray.Score ()>\\narray(0.39429417)\\nAttributes:\\n    raw:    ...\n",
      "    ceiling:  <xarray.DataArray ()>\\narray(0.88076227)\\nAttributes:\\n    raw:...\n",
      "Looking in indexes: https://pypi.org/simple, https://packagecloud.io/github/git-lfs/pypi/simple\n",
      "Requirement already satisfied: numpy in /gpfs01/berens/user/fseel/miniconda3/envs/receptive-fields/lib/python3.11/site-packages (from -r /gpfs01/berens/user/fseel/miniconda3/envs/receptive-fields/lib/python3.11/site-packages/brainscore_vision/metrics/regression_correlation/requirements.txt (line 1)) (1.24.3)\n",
      "Requirement already satisfied: scipy in /gpfs01/berens/user/fseel/miniconda3/envs/receptive-fields/lib/python3.11/site-packages (from -r /gpfs01/berens/user/fseel/miniconda3/envs/receptive-fields/lib/python3.11/site-packages/brainscore_vision/metrics/regression_correlation/requirements.txt (line 2)) (1.11.3)\n",
      "Requirement already satisfied: scikit-learn in /gpfs01/berens/user/fseel/miniconda3/envs/receptive-fields/lib/python3.11/site-packages (from -r /gpfs01/berens/user/fseel/miniconda3/envs/receptive-fields/lib/python3.11/site-packages/brainscore_vision/metrics/regression_correlation/requirements.txt (line 3)) (1.3.0)\n",
      "Requirement already satisfied: joblib>=1.1.1 in /gpfs01/berens/user/fseel/miniconda3/envs/receptive-fields/lib/python3.11/site-packages (from scikit-learn->-r /gpfs01/berens/user/fseel/miniconda3/envs/receptive-fields/lib/python3.11/site-packages/brainscore_vision/metrics/regression_correlation/requirements.txt (line 3)) (1.2.0)\n",
      "Requirement already satisfied: threadpoolctl>=2.0.0 in /gpfs01/berens/user/fseel/miniconda3/envs/receptive-fields/lib/python3.11/site-packages (from scikit-learn->-r /gpfs01/berens/user/fseel/miniconda3/envs/receptive-fields/lib/python3.11/site-packages/brainscore_vision/metrics/regression_correlation/requirements.txt (line 3)) (2.2.0)\n",
      "Looking in indexes: https://pypi.org/simple, https://packagecloud.io/github/git-lfs/pypi/simple\n",
      "Requirement already satisfied: scipy in /gpfs01/berens/user/fseel/miniconda3/envs/receptive-fields/lib/python3.11/site-packages (from -r /gpfs01/berens/user/fseel/miniconda3/envs/receptive-fields/lib/python3.11/site-packages/brainscore_vision/metrics/internal_consistency/requirements.txt (line 1)) (1.11.3)\n",
      "Requirement already satisfied: numpy<1.28.0,>=1.21.6 in /gpfs01/berens/user/fseel/miniconda3/envs/receptive-fields/lib/python3.11/site-packages (from scipy->-r /gpfs01/berens/user/fseel/miniconda3/envs/receptive-fields/lib/python3.11/site-packages/brainscore_vision/metrics/internal_consistency/requirements.txt (line 1)) (1.24.3)\n"
     ]
    },
    {
     "name": "stderr",
     "output_type": "stream",
     "text": [
      "layers:   0%|          | 0/1 [00:00<?, ?it/s]"
     ]
    },
    {
     "data": {
      "application/vnd.jupyter.widget-view+json": {
       "model_id": "60f87d367cb9489e807628de4abdbfa9",
       "version_major": 2,
       "version_minor": 0
      },
      "text/plain": [
       "activations:   0%|          | 0/192 [00:00<?, ?it/s]"
      ]
     },
     "metadata": {},
     "output_type": "display_data"
    },
    {
     "data": {
      "application/vnd.jupyter.widget-view+json": {
       "model_id": "2be830e0e1454d4daba54c4824105c1c",
       "version_major": 2,
       "version_minor": 0
      },
      "text/plain": [
       "activations:   0%|          | 0/1024 [00:00<?, ?it/s]"
      ]
     },
     "metadata": {},
     "output_type": "display_data"
    },
    {
     "data": {
      "application/vnd.jupyter.widget-view+json": {
       "model_id": "1fa78148a5644ce99472d116e0b60805",
       "version_major": 2,
       "version_minor": 0
      },
      "text/plain": [
       "layer packaging:   0%|          | 0/1 [00:00<?, ?it/s]"
      ]
     },
     "metadata": {},
     "output_type": "display_data"
    },
    {
     "name": "stderr",
     "output_type": "stream",
     "text": [
      "\n",
      "\u001b[A\n",
      "layer principal components: 100%|██████████| 1/1 [00:01<00:00,  1.22s/it]\n"
     ]
    },
    {
     "data": {
      "application/vnd.jupyter.widget-view+json": {
       "model_id": "28fb4fbe169c41c5b241db899aabaea9",
       "version_major": 2,
       "version_minor": 0
      },
      "text/plain": [
       "layer packaging:   0%|          | 0/1 [00:00<?, ?it/s]"
      ]
     },
     "metadata": {},
     "output_type": "display_data"
    },
    {
     "name": "stderr",
     "output_type": "stream",
     "text": [
      "cross-validation: 100%|██████████| 10/10 [00:04<00:00,  2.23it/s]\n",
      "layers: 100%|██████████| 1/1 [00:13<00:00, 13.95s/it]\n"
     ]
    },
    {
     "data": {
      "application/vnd.jupyter.widget-view+json": {
       "model_id": "ba646c34b9834c10a6f6e08fd0e3f55f",
       "version_major": 2,
       "version_minor": 0
      },
      "text/plain": [
       "activations:   0%|          | 0/192 [00:00<?, ?it/s]"
      ]
     },
     "metadata": {},
     "output_type": "display_data"
    },
    {
     "data": {
      "application/vnd.jupyter.widget-view+json": {
       "model_id": "c682b1e56d5f45d0bcb0758d9b9e7050",
       "version_major": 2,
       "version_minor": 0
      },
      "text/plain": [
       "layer packaging:   0%|          | 0/1 [00:00<?, ?it/s]"
      ]
     },
     "metadata": {},
     "output_type": "display_data"
    },
    {
     "name": "stderr",
     "output_type": "stream",
     "text": [
      "cross-validation: 100%|██████████| 10/10 [00:07<00:00,  1.36it/s]\n"
     ]
    },
    {
     "name": "stdout",
     "output_type": "stream",
     "text": [
      "<xarray.Score ()>\n",
      "array(0.20316539)\n",
      "Attributes:\n",
      "    error:    <xarray.Score ()>\\narray(0.01626362)\n",
      "    raw:      <xarray.Score ()>\\narray(0.39699366)\\nAttributes:\\n    raw:    ...\n",
      "    ceiling:  <xarray.DataArray ()>\\narray(0.88076227)\\nAttributes:\\n    raw:...\n",
      "Looking in indexes: https://pypi.org/simple, https://packagecloud.io/github/git-lfs/pypi/simple\n",
      "Requirement already satisfied: numpy in /gpfs01/berens/user/fseel/miniconda3/envs/receptive-fields/lib/python3.11/site-packages (from -r /gpfs01/berens/user/fseel/miniconda3/envs/receptive-fields/lib/python3.11/site-packages/brainscore_vision/metrics/regression_correlation/requirements.txt (line 1)) (1.24.3)\n",
      "Requirement already satisfied: scipy in /gpfs01/berens/user/fseel/miniconda3/envs/receptive-fields/lib/python3.11/site-packages (from -r /gpfs01/berens/user/fseel/miniconda3/envs/receptive-fields/lib/python3.11/site-packages/brainscore_vision/metrics/regression_correlation/requirements.txt (line 2)) (1.11.3)\n",
      "Requirement already satisfied: scikit-learn in /gpfs01/berens/user/fseel/miniconda3/envs/receptive-fields/lib/python3.11/site-packages (from -r /gpfs01/berens/user/fseel/miniconda3/envs/receptive-fields/lib/python3.11/site-packages/brainscore_vision/metrics/regression_correlation/requirements.txt (line 3)) (1.3.0)\n",
      "Requirement already satisfied: joblib>=1.1.1 in /gpfs01/berens/user/fseel/miniconda3/envs/receptive-fields/lib/python3.11/site-packages (from scikit-learn->-r /gpfs01/berens/user/fseel/miniconda3/envs/receptive-fields/lib/python3.11/site-packages/brainscore_vision/metrics/regression_correlation/requirements.txt (line 3)) (1.2.0)\n",
      "Requirement already satisfied: threadpoolctl>=2.0.0 in /gpfs01/berens/user/fseel/miniconda3/envs/receptive-fields/lib/python3.11/site-packages (from scikit-learn->-r /gpfs01/berens/user/fseel/miniconda3/envs/receptive-fields/lib/python3.11/site-packages/brainscore_vision/metrics/regression_correlation/requirements.txt (line 3)) (2.2.0)\n",
      "Looking in indexes: https://pypi.org/simple, https://packagecloud.io/github/git-lfs/pypi/simple\n",
      "Requirement already satisfied: scipy in /gpfs01/berens/user/fseel/miniconda3/envs/receptive-fields/lib/python3.11/site-packages (from -r /gpfs01/berens/user/fseel/miniconda3/envs/receptive-fields/lib/python3.11/site-packages/brainscore_vision/metrics/internal_consistency/requirements.txt (line 1)) (1.11.3)\n",
      "Requirement already satisfied: numpy<1.28.0,>=1.21.6 in /gpfs01/berens/user/fseel/miniconda3/envs/receptive-fields/lib/python3.11/site-packages (from scipy->-r /gpfs01/berens/user/fseel/miniconda3/envs/receptive-fields/lib/python3.11/site-packages/brainscore_vision/metrics/internal_consistency/requirements.txt (line 1)) (1.24.3)\n"
     ]
    },
    {
     "name": "stderr",
     "output_type": "stream",
     "text": [
      "layers:   0%|          | 0/1 [00:00<?, ?it/s]"
     ]
    },
    {
     "data": {
      "application/vnd.jupyter.widget-view+json": {
       "model_id": "881bdc9c743e4d2da10deee499f37e87",
       "version_major": 2,
       "version_minor": 0
      },
      "text/plain": [
       "activations:   0%|          | 0/192 [00:00<?, ?it/s]"
      ]
     },
     "metadata": {},
     "output_type": "display_data"
    },
    {
     "data": {
      "application/vnd.jupyter.widget-view+json": {
       "model_id": "40286888265144178f8423f2c787976d",
       "version_major": 2,
       "version_minor": 0
      },
      "text/plain": [
       "activations:   0%|          | 0/1024 [00:00<?, ?it/s]"
      ]
     },
     "metadata": {},
     "output_type": "display_data"
    },
    {
     "data": {
      "application/vnd.jupyter.widget-view+json": {
       "model_id": "26485ab405534c3a9dba1eed6c79a8d1",
       "version_major": 2,
       "version_minor": 0
      },
      "text/plain": [
       "layer packaging:   0%|          | 0/1 [00:00<?, ?it/s]"
      ]
     },
     "metadata": {},
     "output_type": "display_data"
    },
    {
     "name": "stderr",
     "output_type": "stream",
     "text": [
      "\n",
      "\u001b[A\n",
      "layer principal components: 100%|██████████| 1/1 [00:01<00:00,  1.00s/it]\n"
     ]
    },
    {
     "data": {
      "application/vnd.jupyter.widget-view+json": {
       "model_id": "8eb077d801f746cb8fa032923488a44f",
       "version_major": 2,
       "version_minor": 0
      },
      "text/plain": [
       "layer packaging:   0%|          | 0/1 [00:00<?, ?it/s]"
      ]
     },
     "metadata": {},
     "output_type": "display_data"
    },
    {
     "name": "stderr",
     "output_type": "stream",
     "text": [
      "cross-validation: 100%|██████████| 10/10 [00:04<00:00,  2.33it/s]\n",
      "layers: 100%|██████████| 1/1 [00:14<00:00, 14.96s/it]\n"
     ]
    },
    {
     "data": {
      "application/vnd.jupyter.widget-view+json": {
       "model_id": "0a3011d50c054724be9743674fe861a7",
       "version_major": 2,
       "version_minor": 0
      },
      "text/plain": [
       "activations:   0%|          | 0/192 [00:00<?, ?it/s]"
      ]
     },
     "metadata": {},
     "output_type": "display_data"
    },
    {
     "data": {
      "application/vnd.jupyter.widget-view+json": {
       "model_id": "210cb7afa8b8439f9a7ff0070c7b1261",
       "version_major": 2,
       "version_minor": 0
      },
      "text/plain": [
       "layer packaging:   0%|          | 0/1 [00:00<?, ?it/s]"
      ]
     },
     "metadata": {},
     "output_type": "display_data"
    },
    {
     "name": "stderr",
     "output_type": "stream",
     "text": [
      "cross-validation:  70%|███████   | 7/10 [00:08<00:03,  1.25s/it]/gpfs01/berens/user/fseel/miniconda3/envs/receptive-fields/lib/python3.11/site-packages/sklearn/cross_decomposition/_pls.py:113: ConvergenceWarning: Maximum number of iterations reached\n",
      "  warnings.warn(\"Maximum number of iterations reached\", ConvergenceWarning)\n",
      "cross-validation: 100%|██████████| 10/10 [00:13<00:00,  1.30s/it]\n"
     ]
    },
    {
     "name": "stdout",
     "output_type": "stream",
     "text": [
      "<xarray.Score ()>\n",
      "array(0.18149221)\n",
      "Attributes:\n",
      "    error:    <xarray.Score ()>\\narray(0.0128514)\n",
      "    raw:      <xarray.Score ()>\\narray(0.37522148)\\nAttributes:\\n    raw:    ...\n",
      "    ceiling:  <xarray.DataArray ()>\\narray(0.88076227)\\nAttributes:\\n    raw:...\n",
      "Looking in indexes: https://pypi.org/simple, https://packagecloud.io/github/git-lfs/pypi/simple\n",
      "Requirement already satisfied: numpy in /gpfs01/berens/user/fseel/miniconda3/envs/receptive-fields/lib/python3.11/site-packages (from -r /gpfs01/berens/user/fseel/miniconda3/envs/receptive-fields/lib/python3.11/site-packages/brainscore_vision/metrics/regression_correlation/requirements.txt (line 1)) (1.24.3)\n",
      "Requirement already satisfied: scipy in /gpfs01/berens/user/fseel/miniconda3/envs/receptive-fields/lib/python3.11/site-packages (from -r /gpfs01/berens/user/fseel/miniconda3/envs/receptive-fields/lib/python3.11/site-packages/brainscore_vision/metrics/regression_correlation/requirements.txt (line 2)) (1.11.3)\n",
      "Requirement already satisfied: scikit-learn in /gpfs01/berens/user/fseel/miniconda3/envs/receptive-fields/lib/python3.11/site-packages (from -r /gpfs01/berens/user/fseel/miniconda3/envs/receptive-fields/lib/python3.11/site-packages/brainscore_vision/metrics/regression_correlation/requirements.txt (line 3)) (1.3.0)\n",
      "Requirement already satisfied: joblib>=1.1.1 in /gpfs01/berens/user/fseel/miniconda3/envs/receptive-fields/lib/python3.11/site-packages (from scikit-learn->-r /gpfs01/berens/user/fseel/miniconda3/envs/receptive-fields/lib/python3.11/site-packages/brainscore_vision/metrics/regression_correlation/requirements.txt (line 3)) (1.2.0)\n",
      "Requirement already satisfied: threadpoolctl>=2.0.0 in /gpfs01/berens/user/fseel/miniconda3/envs/receptive-fields/lib/python3.11/site-packages (from scikit-learn->-r /gpfs01/berens/user/fseel/miniconda3/envs/receptive-fields/lib/python3.11/site-packages/brainscore_vision/metrics/regression_correlation/requirements.txt (line 3)) (2.2.0)\n",
      "Looking in indexes: https://pypi.org/simple, https://packagecloud.io/github/git-lfs/pypi/simple\n",
      "Requirement already satisfied: scipy in /gpfs01/berens/user/fseel/miniconda3/envs/receptive-fields/lib/python3.11/site-packages (from -r /gpfs01/berens/user/fseel/miniconda3/envs/receptive-fields/lib/python3.11/site-packages/brainscore_vision/metrics/internal_consistency/requirements.txt (line 1)) (1.11.3)\n",
      "Requirement already satisfied: numpy<1.28.0,>=1.21.6 in /gpfs01/berens/user/fseel/miniconda3/envs/receptive-fields/lib/python3.11/site-packages (from scipy->-r /gpfs01/berens/user/fseel/miniconda3/envs/receptive-fields/lib/python3.11/site-packages/brainscore_vision/metrics/internal_consistency/requirements.txt (line 1)) (1.24.3)\n"
     ]
    },
    {
     "name": "stderr",
     "output_type": "stream",
     "text": [
      "layers:   0%|          | 0/1 [00:00<?, ?it/s]"
     ]
    },
    {
     "data": {
      "application/vnd.jupyter.widget-view+json": {
       "model_id": "13abb54815bf41d9a96684361658ad0f",
       "version_major": 2,
       "version_minor": 0
      },
      "text/plain": [
       "activations:   0%|          | 0/192 [00:00<?, ?it/s]"
      ]
     },
     "metadata": {},
     "output_type": "display_data"
    },
    {
     "data": {
      "application/vnd.jupyter.widget-view+json": {
       "model_id": "24434adc587e45c3bb5c577baedac685",
       "version_major": 2,
       "version_minor": 0
      },
      "text/plain": [
       "activations:   0%|          | 0/1024 [00:00<?, ?it/s]"
      ]
     },
     "metadata": {},
     "output_type": "display_data"
    },
    {
     "data": {
      "application/vnd.jupyter.widget-view+json": {
       "model_id": "aa1daa38be9549e4a935902df38bef18",
       "version_major": 2,
       "version_minor": 0
      },
      "text/plain": [
       "layer packaging:   0%|          | 0/1 [00:00<?, ?it/s]"
      ]
     },
     "metadata": {},
     "output_type": "display_data"
    },
    {
     "name": "stderr",
     "output_type": "stream",
     "text": [
      "\n",
      "\u001b[A\n",
      "layer principal components: 100%|██████████| 1/1 [00:02<00:00,  2.41s/it]\n"
     ]
    },
    {
     "data": {
      "application/vnd.jupyter.widget-view+json": {
       "model_id": "91c39d9eecbe41db9f0b7fb4d23f0d41",
       "version_major": 2,
       "version_minor": 0
      },
      "text/plain": [
       "layer packaging:   0%|          | 0/1 [00:00<?, ?it/s]"
      ]
     },
     "metadata": {},
     "output_type": "display_data"
    },
    {
     "name": "stderr",
     "output_type": "stream",
     "text": [
      "cross-validation: 100%|██████████| 10/10 [00:04<00:00,  2.32it/s]\n",
      "layers: 100%|██████████| 1/1 [00:20<00:00, 20.99s/it]\n"
     ]
    },
    {
     "data": {
      "application/vnd.jupyter.widget-view+json": {
       "model_id": "da46109046b64c4a92a208f3f535f9a2",
       "version_major": 2,
       "version_minor": 0
      },
      "text/plain": [
       "activations:   0%|          | 0/192 [00:00<?, ?it/s]"
      ]
     },
     "metadata": {},
     "output_type": "display_data"
    },
    {
     "data": {
      "application/vnd.jupyter.widget-view+json": {
       "model_id": "3f64b8c2cb414f4b893f0cd5fbeb9e87",
       "version_major": 2,
       "version_minor": 0
      },
      "text/plain": [
       "layer packaging:   0%|          | 0/1 [00:00<?, ?it/s]"
      ]
     },
     "metadata": {},
     "output_type": "display_data"
    },
    {
     "name": "stderr",
     "output_type": "stream",
     "text": [
      "cross-validation: 100%|██████████| 10/10 [00:59<00:00,  5.96s/it]\n"
     ]
    },
    {
     "name": "stdout",
     "output_type": "stream",
     "text": [
      "<xarray.Score ()>\n",
      "array(0.15216684)\n",
      "Attributes:\n",
      "    error:    <xarray.Score ()>\\narray(0.0129538)\n",
      "    raw:      <xarray.Score ()>\\narray(0.34357275)\\nAttributes:\\n    raw:    ...\n",
      "    ceiling:  <xarray.DataArray ()>\\narray(0.88076227)\\nAttributes:\\n    raw:...\n",
      "Looking in indexes: https://pypi.org/simple, https://packagecloud.io/github/git-lfs/pypi/simple\n",
      "Requirement already satisfied: numpy in /gpfs01/berens/user/fseel/miniconda3/envs/receptive-fields/lib/python3.11/site-packages (from -r /gpfs01/berens/user/fseel/miniconda3/envs/receptive-fields/lib/python3.11/site-packages/brainscore_vision/metrics/regression_correlation/requirements.txt (line 1)) (1.24.3)\n",
      "Requirement already satisfied: scipy in /gpfs01/berens/user/fseel/miniconda3/envs/receptive-fields/lib/python3.11/site-packages (from -r /gpfs01/berens/user/fseel/miniconda3/envs/receptive-fields/lib/python3.11/site-packages/brainscore_vision/metrics/regression_correlation/requirements.txt (line 2)) (1.11.3)\n",
      "Requirement already satisfied: scikit-learn in /gpfs01/berens/user/fseel/miniconda3/envs/receptive-fields/lib/python3.11/site-packages (from -r /gpfs01/berens/user/fseel/miniconda3/envs/receptive-fields/lib/python3.11/site-packages/brainscore_vision/metrics/regression_correlation/requirements.txt (line 3)) (1.3.0)\n",
      "Requirement already satisfied: joblib>=1.1.1 in /gpfs01/berens/user/fseel/miniconda3/envs/receptive-fields/lib/python3.11/site-packages (from scikit-learn->-r /gpfs01/berens/user/fseel/miniconda3/envs/receptive-fields/lib/python3.11/site-packages/brainscore_vision/metrics/regression_correlation/requirements.txt (line 3)) (1.2.0)\n",
      "Requirement already satisfied: threadpoolctl>=2.0.0 in /gpfs01/berens/user/fseel/miniconda3/envs/receptive-fields/lib/python3.11/site-packages (from scikit-learn->-r /gpfs01/berens/user/fseel/miniconda3/envs/receptive-fields/lib/python3.11/site-packages/brainscore_vision/metrics/regression_correlation/requirements.txt (line 3)) (2.2.0)\n",
      "Looking in indexes: https://pypi.org/simple, https://packagecloud.io/github/git-lfs/pypi/simple\n",
      "Requirement already satisfied: scipy in /gpfs01/berens/user/fseel/miniconda3/envs/receptive-fields/lib/python3.11/site-packages (from -r /gpfs01/berens/user/fseel/miniconda3/envs/receptive-fields/lib/python3.11/site-packages/brainscore_vision/metrics/internal_consistency/requirements.txt (line 1)) (1.11.3)\n",
      "Requirement already satisfied: numpy<1.28.0,>=1.21.6 in /gpfs01/berens/user/fseel/miniconda3/envs/receptive-fields/lib/python3.11/site-packages (from scipy->-r /gpfs01/berens/user/fseel/miniconda3/envs/receptive-fields/lib/python3.11/site-packages/brainscore_vision/metrics/internal_consistency/requirements.txt (line 1)) (1.24.3)\n"
     ]
    },
    {
     "name": "stderr",
     "output_type": "stream",
     "text": [
      "layers:   0%|          | 0/1 [00:00<?, ?it/s]"
     ]
    },
    {
     "data": {
      "application/vnd.jupyter.widget-view+json": {
       "model_id": "bc67336eb0d7485ea78527071df7967f",
       "version_major": 2,
       "version_minor": 0
      },
      "text/plain": [
       "activations:   0%|          | 0/192 [00:00<?, ?it/s]"
      ]
     },
     "metadata": {},
     "output_type": "display_data"
    },
    {
     "data": {
      "application/vnd.jupyter.widget-view+json": {
       "model_id": "5f49141b438c4436832a015ab14b34ca",
       "version_major": 2,
       "version_minor": 0
      },
      "text/plain": [
       "activations:   0%|          | 0/1024 [00:00<?, ?it/s]"
      ]
     },
     "metadata": {},
     "output_type": "display_data"
    },
    {
     "data": {
      "application/vnd.jupyter.widget-view+json": {
       "model_id": "709a1342dc854de8a71c6a4e4f71cc0a",
       "version_major": 2,
       "version_minor": 0
      },
      "text/plain": [
       "layer packaging:   0%|          | 0/1 [00:00<?, ?it/s]"
      ]
     },
     "metadata": {},
     "output_type": "display_data"
    },
    {
     "name": "stderr",
     "output_type": "stream",
     "text": [
      "\n",
      "\u001b[A\n",
      "layer principal components: 100%|██████████| 1/1 [00:06<00:00,  6.10s/it]\n"
     ]
    },
    {
     "data": {
      "application/vnd.jupyter.widget-view+json": {
       "model_id": "e393735a8c5c4480877c7a2fb1dda920",
       "version_major": 2,
       "version_minor": 0
      },
      "text/plain": [
       "layer packaging:   0%|          | 0/1 [00:00<?, ?it/s]"
      ]
     },
     "metadata": {},
     "output_type": "display_data"
    },
    {
     "name": "stderr",
     "output_type": "stream",
     "text": [
      "cross-validation: 100%|██████████| 10/10 [00:04<00:00,  2.21it/s]\n",
      "layers: 100%|██████████| 1/1 [00:33<00:00, 33.56s/it]\n"
     ]
    },
    {
     "data": {
      "application/vnd.jupyter.widget-view+json": {
       "model_id": "220a06bd88c9463dbe330b463f42ec4e",
       "version_major": 2,
       "version_minor": 0
      },
      "text/plain": [
       "activations:   0%|          | 0/192 [00:00<?, ?it/s]"
      ]
     },
     "metadata": {},
     "output_type": "display_data"
    },
    {
     "data": {
      "application/vnd.jupyter.widget-view+json": {
       "model_id": "49d9e5d6a7ba49ebbd2f9d20f94e43c4",
       "version_major": 2,
       "version_minor": 0
      },
      "text/plain": [
       "layer packaging:   0%|          | 0/1 [00:00<?, ?it/s]"
      ]
     },
     "metadata": {},
     "output_type": "display_data"
    },
    {
     "name": "stderr",
     "output_type": "stream",
     "text": [
      "cross-validation: 100%|██████████| 10/10 [02:00<00:00, 12.04s/it]\n"
     ]
    },
    {
     "name": "stdout",
     "output_type": "stream",
     "text": [
      "<xarray.Score ()>\n",
      "array(0.130313)\n",
      "Attributes:\n",
      "    error:    <xarray.Score ()>\\narray(0.01260067)\n",
      "    raw:      <xarray.Score ()>\\narray(0.31794543)\\nAttributes:\\n    raw:    ...\n",
      "    ceiling:  <xarray.DataArray ()>\\narray(0.88076227)\\nAttributes:\\n    raw:...\n",
      "Looking in indexes: https://pypi.org/simple, https://packagecloud.io/github/git-lfs/pypi/simple\n",
      "Requirement already satisfied: numpy in /gpfs01/berens/user/fseel/miniconda3/envs/receptive-fields/lib/python3.11/site-packages (from -r /gpfs01/berens/user/fseel/miniconda3/envs/receptive-fields/lib/python3.11/site-packages/brainscore_vision/metrics/regression_correlation/requirements.txt (line 1)) (1.24.3)\n",
      "Requirement already satisfied: scipy in /gpfs01/berens/user/fseel/miniconda3/envs/receptive-fields/lib/python3.11/site-packages (from -r /gpfs01/berens/user/fseel/miniconda3/envs/receptive-fields/lib/python3.11/site-packages/brainscore_vision/metrics/regression_correlation/requirements.txt (line 2)) (1.11.3)\n",
      "Requirement already satisfied: scikit-learn in /gpfs01/berens/user/fseel/miniconda3/envs/receptive-fields/lib/python3.11/site-packages (from -r /gpfs01/berens/user/fseel/miniconda3/envs/receptive-fields/lib/python3.11/site-packages/brainscore_vision/metrics/regression_correlation/requirements.txt (line 3)) (1.3.0)\n",
      "Requirement already satisfied: joblib>=1.1.1 in /gpfs01/berens/user/fseel/miniconda3/envs/receptive-fields/lib/python3.11/site-packages (from scikit-learn->-r /gpfs01/berens/user/fseel/miniconda3/envs/receptive-fields/lib/python3.11/site-packages/brainscore_vision/metrics/regression_correlation/requirements.txt (line 3)) (1.2.0)\n",
      "Requirement already satisfied: threadpoolctl>=2.0.0 in /gpfs01/berens/user/fseel/miniconda3/envs/receptive-fields/lib/python3.11/site-packages (from scikit-learn->-r /gpfs01/berens/user/fseel/miniconda3/envs/receptive-fields/lib/python3.11/site-packages/brainscore_vision/metrics/regression_correlation/requirements.txt (line 3)) (2.2.0)\n",
      "Looking in indexes: https://pypi.org/simple, https://packagecloud.io/github/git-lfs/pypi/simple\n",
      "Requirement already satisfied: scipy in /gpfs01/berens/user/fseel/miniconda3/envs/receptive-fields/lib/python3.11/site-packages (from -r /gpfs01/berens/user/fseel/miniconda3/envs/receptive-fields/lib/python3.11/site-packages/brainscore_vision/metrics/internal_consistency/requirements.txt (line 1)) (1.11.3)\n",
      "Requirement already satisfied: numpy<1.28.0,>=1.21.6 in /gpfs01/berens/user/fseel/miniconda3/envs/receptive-fields/lib/python3.11/site-packages (from scipy->-r /gpfs01/berens/user/fseel/miniconda3/envs/receptive-fields/lib/python3.11/site-packages/brainscore_vision/metrics/internal_consistency/requirements.txt (line 1)) (1.24.3)\n"
     ]
    },
    {
     "name": "stderr",
     "output_type": "stream",
     "text": [
      "layers:   0%|          | 0/1 [00:00<?, ?it/s]"
     ]
    },
    {
     "data": {
      "application/vnd.jupyter.widget-view+json": {
       "model_id": "3259a11f6b694fd38ccc9d818bd223bf",
       "version_major": 2,
       "version_minor": 0
      },
      "text/plain": [
       "activations:   0%|          | 0/192 [00:00<?, ?it/s]"
      ]
     },
     "metadata": {},
     "output_type": "display_data"
    },
    {
     "data": {
      "application/vnd.jupyter.widget-view+json": {
       "model_id": "935df90733de49c49c87a233c855bf26",
       "version_major": 2,
       "version_minor": 0
      },
      "text/plain": [
       "activations:   0%|          | 0/1024 [00:00<?, ?it/s]"
      ]
     },
     "metadata": {},
     "output_type": "display_data"
    },
    {
     "data": {
      "application/vnd.jupyter.widget-view+json": {
       "model_id": "bc34717d7f1e41dcb3ef5d3faad8894e",
       "version_major": 2,
       "version_minor": 0
      },
      "text/plain": [
       "layer packaging:   0%|          | 0/1 [00:00<?, ?it/s]"
      ]
     },
     "metadata": {},
     "output_type": "display_data"
    },
    {
     "name": "stderr",
     "output_type": "stream",
     "text": [
      "\n",
      "\u001b[A\n",
      "layer principal components: 100%|██████████| 1/1 [00:08<00:00,  8.20s/it]\n"
     ]
    },
    {
     "data": {
      "application/vnd.jupyter.widget-view+json": {
       "model_id": "00cfda12848d4dca95cf1789beb99b1c",
       "version_major": 2,
       "version_minor": 0
      },
      "text/plain": [
       "layer packaging:   0%|          | 0/1 [00:00<?, ?it/s]"
      ]
     },
     "metadata": {},
     "output_type": "display_data"
    },
    {
     "name": "stderr",
     "output_type": "stream",
     "text": [
      "cross-validation: 100%|██████████| 10/10 [00:04<00:00,  2.38it/s]\n",
      "layers: 100%|██████████| 1/1 [00:39<00:00, 39.56s/it]\n"
     ]
    },
    {
     "data": {
      "application/vnd.jupyter.widget-view+json": {
       "model_id": "41f674a5609940f08b9c08bbdf6bab6b",
       "version_major": 2,
       "version_minor": 0
      },
      "text/plain": [
       "activations:   0%|          | 0/192 [00:00<?, ?it/s]"
      ]
     },
     "metadata": {},
     "output_type": "display_data"
    },
    {
     "data": {
      "application/vnd.jupyter.widget-view+json": {
       "model_id": "c9bbb2c3e6164548972f363c9473e638",
       "version_major": 2,
       "version_minor": 0
      },
      "text/plain": [
       "layer packaging:   0%|          | 0/1 [00:00<?, ?it/s]"
      ]
     },
     "metadata": {},
     "output_type": "display_data"
    },
    {
     "name": "stderr",
     "output_type": "stream",
     "text": [
      "cross-validation: 100%|██████████| 10/10 [02:50<00:00, 17.08s/it]\n"
     ]
    },
    {
     "name": "stdout",
     "output_type": "stream",
     "text": [
      "<xarray.Score ()>\n",
      "array(0.11893661)\n",
      "Attributes:\n",
      "    error:    <xarray.Score ()>\\narray(0.0089246)\n",
      "    raw:      <xarray.Score ()>\\narray(0.30375013)\\nAttributes:\\n    raw:    ...\n",
      "    ceiling:  <xarray.DataArray ()>\\narray(0.88076227)\\nAttributes:\\n    raw:...\n",
      "Looking in indexes: https://pypi.org/simple, https://packagecloud.io/github/git-lfs/pypi/simple\n",
      "Requirement already satisfied: numpy in /gpfs01/berens/user/fseel/miniconda3/envs/receptive-fields/lib/python3.11/site-packages (from -r /gpfs01/berens/user/fseel/miniconda3/envs/receptive-fields/lib/python3.11/site-packages/brainscore_vision/metrics/regression_correlation/requirements.txt (line 1)) (1.24.3)\n",
      "Requirement already satisfied: scipy in /gpfs01/berens/user/fseel/miniconda3/envs/receptive-fields/lib/python3.11/site-packages (from -r /gpfs01/berens/user/fseel/miniconda3/envs/receptive-fields/lib/python3.11/site-packages/brainscore_vision/metrics/regression_correlation/requirements.txt (line 2)) (1.11.3)\n",
      "Requirement already satisfied: scikit-learn in /gpfs01/berens/user/fseel/miniconda3/envs/receptive-fields/lib/python3.11/site-packages (from -r /gpfs01/berens/user/fseel/miniconda3/envs/receptive-fields/lib/python3.11/site-packages/brainscore_vision/metrics/regression_correlation/requirements.txt (line 3)) (1.3.0)\n",
      "Requirement already satisfied: joblib>=1.1.1 in /gpfs01/berens/user/fseel/miniconda3/envs/receptive-fields/lib/python3.11/site-packages (from scikit-learn->-r /gpfs01/berens/user/fseel/miniconda3/envs/receptive-fields/lib/python3.11/site-packages/brainscore_vision/metrics/regression_correlation/requirements.txt (line 3)) (1.2.0)\n",
      "Requirement already satisfied: threadpoolctl>=2.0.0 in /gpfs01/berens/user/fseel/miniconda3/envs/receptive-fields/lib/python3.11/site-packages (from scikit-learn->-r /gpfs01/berens/user/fseel/miniconda3/envs/receptive-fields/lib/python3.11/site-packages/brainscore_vision/metrics/regression_correlation/requirements.txt (line 3)) (2.2.0)\n",
      "Looking in indexes: https://pypi.org/simple, https://packagecloud.io/github/git-lfs/pypi/simple\n",
      "Requirement already satisfied: scipy in /gpfs01/berens/user/fseel/miniconda3/envs/receptive-fields/lib/python3.11/site-packages (from -r /gpfs01/berens/user/fseel/miniconda3/envs/receptive-fields/lib/python3.11/site-packages/brainscore_vision/metrics/internal_consistency/requirements.txt (line 1)) (1.11.3)\n",
      "Requirement already satisfied: numpy<1.28.0,>=1.21.6 in /gpfs01/berens/user/fseel/miniconda3/envs/receptive-fields/lib/python3.11/site-packages (from scipy->-r /gpfs01/berens/user/fseel/miniconda3/envs/receptive-fields/lib/python3.11/site-packages/brainscore_vision/metrics/internal_consistency/requirements.txt (line 1)) (1.24.3)\n"
     ]
    },
    {
     "name": "stderr",
     "output_type": "stream",
     "text": [
      "layers:   0%|          | 0/1 [00:00<?, ?it/s]"
     ]
    },
    {
     "data": {
      "application/vnd.jupyter.widget-view+json": {
       "model_id": "aa9bdcafb3ce474c87dfb35f0ea1c068",
       "version_major": 2,
       "version_minor": 0
      },
      "text/plain": [
       "activations:   0%|          | 0/192 [00:00<?, ?it/s]"
      ]
     },
     "metadata": {},
     "output_type": "display_data"
    },
    {
     "data": {
      "application/vnd.jupyter.widget-view+json": {
       "model_id": "1171e3226d5b4d7b8063f03c7c9bf7c3",
       "version_major": 2,
       "version_minor": 0
      },
      "text/plain": [
       "activations:   0%|          | 0/1024 [00:00<?, ?it/s]"
      ]
     },
     "metadata": {},
     "output_type": "display_data"
    },
    {
     "data": {
      "application/vnd.jupyter.widget-view+json": {
       "model_id": "63e069af615942a8800d98454beb949e",
       "version_major": 2,
       "version_minor": 0
      },
      "text/plain": [
       "layer packaging:   0%|          | 0/1 [00:00<?, ?it/s]"
      ]
     },
     "metadata": {},
     "output_type": "display_data"
    },
    {
     "name": "stderr",
     "output_type": "stream",
     "text": [
      "\n",
      "\u001b[A\n",
      "layer principal components: 100%|██████████| 1/1 [00:01<00:00,  1.72s/it]\n"
     ]
    },
    {
     "data": {
      "application/vnd.jupyter.widget-view+json": {
       "model_id": "07cab9f4b97247f8863cb78459496b6a",
       "version_major": 2,
       "version_minor": 0
      },
      "text/plain": [
       "layer packaging:   0%|          | 0/1 [00:00<?, ?it/s]"
      ]
     },
     "metadata": {},
     "output_type": "display_data"
    },
    {
     "name": "stderr",
     "output_type": "stream",
     "text": [
      "cross-validation: 100%|██████████| 10/10 [00:04<00:00,  2.19it/s]\n",
      "layers: 100%|██████████| 1/1 [00:13<00:00, 13.62s/it]\n"
     ]
    },
    {
     "data": {
      "application/vnd.jupyter.widget-view+json": {
       "model_id": "e489fdadfb6743b7bfebbf5552cadbfa",
       "version_major": 2,
       "version_minor": 0
      },
      "text/plain": [
       "activations:   0%|          | 0/192 [00:00<?, ?it/s]"
      ]
     },
     "metadata": {},
     "output_type": "display_data"
    },
    {
     "data": {
      "application/vnd.jupyter.widget-view+json": {
       "model_id": "2332800c9bb544db975035621aae8fbb",
       "version_major": 2,
       "version_minor": 0
      },
      "text/plain": [
       "layer packaging:   0%|          | 0/1 [00:00<?, ?it/s]"
      ]
     },
     "metadata": {},
     "output_type": "display_data"
    },
    {
     "name": "stderr",
     "output_type": "stream",
     "text": [
      "cross-validation: 100%|██████████| 10/10 [00:41<00:00,  4.13s/it]\n"
     ]
    },
    {
     "name": "stdout",
     "output_type": "stream",
     "text": [
      "<xarray.Score ()>\n",
      "array(0.19333344)\n",
      "Attributes:\n",
      "    error:    <xarray.Score ()>\\narray(0.01042329)\n",
      "    raw:      <xarray.Score ()>\\narray(0.38726852)\\nAttributes:\\n    raw:    ...\n",
      "    ceiling:  <xarray.DataArray ()>\\narray(0.88076227)\\nAttributes:\\n    raw:...\n",
      "Looking in indexes: https://pypi.org/simple, https://packagecloud.io/github/git-lfs/pypi/simple\n",
      "Requirement already satisfied: numpy in /gpfs01/berens/user/fseel/miniconda3/envs/receptive-fields/lib/python3.11/site-packages (from -r /gpfs01/berens/user/fseel/miniconda3/envs/receptive-fields/lib/python3.11/site-packages/brainscore_vision/metrics/regression_correlation/requirements.txt (line 1)) (1.24.3)\n",
      "Requirement already satisfied: scipy in /gpfs01/berens/user/fseel/miniconda3/envs/receptive-fields/lib/python3.11/site-packages (from -r /gpfs01/berens/user/fseel/miniconda3/envs/receptive-fields/lib/python3.11/site-packages/brainscore_vision/metrics/regression_correlation/requirements.txt (line 2)) (1.11.3)\n",
      "Requirement already satisfied: scikit-learn in /gpfs01/berens/user/fseel/miniconda3/envs/receptive-fields/lib/python3.11/site-packages (from -r /gpfs01/berens/user/fseel/miniconda3/envs/receptive-fields/lib/python3.11/site-packages/brainscore_vision/metrics/regression_correlation/requirements.txt (line 3)) (1.3.0)\n",
      "Requirement already satisfied: joblib>=1.1.1 in /gpfs01/berens/user/fseel/miniconda3/envs/receptive-fields/lib/python3.11/site-packages (from scikit-learn->-r /gpfs01/berens/user/fseel/miniconda3/envs/receptive-fields/lib/python3.11/site-packages/brainscore_vision/metrics/regression_correlation/requirements.txt (line 3)) (1.2.0)\n",
      "Requirement already satisfied: threadpoolctl>=2.0.0 in /gpfs01/berens/user/fseel/miniconda3/envs/receptive-fields/lib/python3.11/site-packages (from scikit-learn->-r /gpfs01/berens/user/fseel/miniconda3/envs/receptive-fields/lib/python3.11/site-packages/brainscore_vision/metrics/regression_correlation/requirements.txt (line 3)) (2.2.0)\n",
      "Looking in indexes: https://pypi.org/simple, https://packagecloud.io/github/git-lfs/pypi/simple\n",
      "Requirement already satisfied: scipy in /gpfs01/berens/user/fseel/miniconda3/envs/receptive-fields/lib/python3.11/site-packages (from -r /gpfs01/berens/user/fseel/miniconda3/envs/receptive-fields/lib/python3.11/site-packages/brainscore_vision/metrics/internal_consistency/requirements.txt (line 1)) (1.11.3)\n",
      "Requirement already satisfied: numpy<1.28.0,>=1.21.6 in /gpfs01/berens/user/fseel/miniconda3/envs/receptive-fields/lib/python3.11/site-packages (from scipy->-r /gpfs01/berens/user/fseel/miniconda3/envs/receptive-fields/lib/python3.11/site-packages/brainscore_vision/metrics/internal_consistency/requirements.txt (line 1)) (1.24.3)\n"
     ]
    },
    {
     "name": "stderr",
     "output_type": "stream",
     "text": [
      "layers:   0%|          | 0/1 [00:00<?, ?it/s]"
     ]
    },
    {
     "data": {
      "application/vnd.jupyter.widget-view+json": {
       "model_id": "1837666ec42642f288bc269f7cdd4b83",
       "version_major": 2,
       "version_minor": 0
      },
      "text/plain": [
       "activations:   0%|          | 0/192 [00:00<?, ?it/s]"
      ]
     },
     "metadata": {},
     "output_type": "display_data"
    },
    {
     "data": {
      "application/vnd.jupyter.widget-view+json": {
       "model_id": "643898829d5d43048ae9a0dfeeb56bda",
       "version_major": 2,
       "version_minor": 0
      },
      "text/plain": [
       "activations:   0%|          | 0/1024 [00:00<?, ?it/s]"
      ]
     },
     "metadata": {},
     "output_type": "display_data"
    },
    {
     "data": {
      "application/vnd.jupyter.widget-view+json": {
       "model_id": "3095545f57b3451aadea3185185f9fec",
       "version_major": 2,
       "version_minor": 0
      },
      "text/plain": [
       "layer packaging:   0%|          | 0/1 [00:00<?, ?it/s]"
      ]
     },
     "metadata": {},
     "output_type": "display_data"
    },
    {
     "name": "stderr",
     "output_type": "stream",
     "text": [
      "\n",
      "\u001b[A\n",
      "layer principal components: 100%|██████████| 1/1 [00:02<00:00,  2.69s/it]\n"
     ]
    },
    {
     "data": {
      "application/vnd.jupyter.widget-view+json": {
       "model_id": "7599c2f304c1463bbb26c02ffe939b3b",
       "version_major": 2,
       "version_minor": 0
      },
      "text/plain": [
       "layer packaging:   0%|          | 0/1 [00:00<?, ?it/s]"
      ]
     },
     "metadata": {},
     "output_type": "display_data"
    },
    {
     "name": "stderr",
     "output_type": "stream",
     "text": [
      "cross-validation: 100%|██████████| 10/10 [00:04<00:00,  2.05it/s]\n",
      "layers: 100%|██████████| 1/1 [00:17<00:00, 17.53s/it]\n"
     ]
    },
    {
     "data": {
      "application/vnd.jupyter.widget-view+json": {
       "model_id": "0aa4c75b9cb049d39b62f429e3ff2d13",
       "version_major": 2,
       "version_minor": 0
      },
      "text/plain": [
       "activations:   0%|          | 0/192 [00:00<?, ?it/s]"
      ]
     },
     "metadata": {},
     "output_type": "display_data"
    },
    {
     "data": {
      "application/vnd.jupyter.widget-view+json": {
       "model_id": "b2a555b1c5b143629a4ee0fce62d0b11",
       "version_major": 2,
       "version_minor": 0
      },
      "text/plain": [
       "layer packaging:   0%|          | 0/1 [00:00<?, ?it/s]"
      ]
     },
     "metadata": {},
     "output_type": "display_data"
    },
    {
     "name": "stderr",
     "output_type": "stream",
     "text": [
      "cross-validation: 100%|██████████| 10/10 [01:15<00:00,  7.55s/it]\n"
     ]
    },
    {
     "name": "stdout",
     "output_type": "stream",
     "text": [
      "<xarray.Score ()>\n",
      "array(0.19787422)\n",
      "Attributes:\n",
      "    error:    <xarray.Score ()>\\narray(0.01249318)\n",
      "    raw:      <xarray.Score ()>\\narray(0.39178997)\\nAttributes:\\n    raw:    ...\n",
      "    ceiling:  <xarray.DataArray ()>\\narray(0.88076227)\\nAttributes:\\n    raw:...\n",
      "Looking in indexes: https://pypi.org/simple, https://packagecloud.io/github/git-lfs/pypi/simple\n",
      "Requirement already satisfied: numpy in /gpfs01/berens/user/fseel/miniconda3/envs/receptive-fields/lib/python3.11/site-packages (from -r /gpfs01/berens/user/fseel/miniconda3/envs/receptive-fields/lib/python3.11/site-packages/brainscore_vision/metrics/regression_correlation/requirements.txt (line 1)) (1.24.3)\n",
      "Requirement already satisfied: scipy in /gpfs01/berens/user/fseel/miniconda3/envs/receptive-fields/lib/python3.11/site-packages (from -r /gpfs01/berens/user/fseel/miniconda3/envs/receptive-fields/lib/python3.11/site-packages/brainscore_vision/metrics/regression_correlation/requirements.txt (line 2)) (1.11.3)\n",
      "Requirement already satisfied: scikit-learn in /gpfs01/berens/user/fseel/miniconda3/envs/receptive-fields/lib/python3.11/site-packages (from -r /gpfs01/berens/user/fseel/miniconda3/envs/receptive-fields/lib/python3.11/site-packages/brainscore_vision/metrics/regression_correlation/requirements.txt (line 3)) (1.3.0)\n",
      "Requirement already satisfied: joblib>=1.1.1 in /gpfs01/berens/user/fseel/miniconda3/envs/receptive-fields/lib/python3.11/site-packages (from scikit-learn->-r /gpfs01/berens/user/fseel/miniconda3/envs/receptive-fields/lib/python3.11/site-packages/brainscore_vision/metrics/regression_correlation/requirements.txt (line 3)) (1.2.0)\n",
      "Requirement already satisfied: threadpoolctl>=2.0.0 in /gpfs01/berens/user/fseel/miniconda3/envs/receptive-fields/lib/python3.11/site-packages (from scikit-learn->-r /gpfs01/berens/user/fseel/miniconda3/envs/receptive-fields/lib/python3.11/site-packages/brainscore_vision/metrics/regression_correlation/requirements.txt (line 3)) (2.2.0)\n",
      "Looking in indexes: https://pypi.org/simple, https://packagecloud.io/github/git-lfs/pypi/simple\n",
      "Requirement already satisfied: scipy in /gpfs01/berens/user/fseel/miniconda3/envs/receptive-fields/lib/python3.11/site-packages (from -r /gpfs01/berens/user/fseel/miniconda3/envs/receptive-fields/lib/python3.11/site-packages/brainscore_vision/metrics/internal_consistency/requirements.txt (line 1)) (1.11.3)\n",
      "Requirement already satisfied: numpy<1.28.0,>=1.21.6 in /gpfs01/berens/user/fseel/miniconda3/envs/receptive-fields/lib/python3.11/site-packages (from scipy->-r /gpfs01/berens/user/fseel/miniconda3/envs/receptive-fields/lib/python3.11/site-packages/brainscore_vision/metrics/internal_consistency/requirements.txt (line 1)) (1.24.3)\n"
     ]
    },
    {
     "name": "stderr",
     "output_type": "stream",
     "text": [
      "layers:   0%|          | 0/1 [00:00<?, ?it/s]"
     ]
    },
    {
     "data": {
      "application/vnd.jupyter.widget-view+json": {
       "model_id": "46f1530458674deba84a6c4bcbf59551",
       "version_major": 2,
       "version_minor": 0
      },
      "text/plain": [
       "activations:   0%|          | 0/192 [00:00<?, ?it/s]"
      ]
     },
     "metadata": {},
     "output_type": "display_data"
    },
    {
     "data": {
      "application/vnd.jupyter.widget-view+json": {
       "model_id": "08bd18a6c51f481690adea7428bceef5",
       "version_major": 2,
       "version_minor": 0
      },
      "text/plain": [
       "activations:   0%|          | 0/1024 [00:00<?, ?it/s]"
      ]
     },
     "metadata": {},
     "output_type": "display_data"
    },
    {
     "data": {
      "application/vnd.jupyter.widget-view+json": {
       "model_id": "598ad0341e6941218485ebf1d554ed31",
       "version_major": 2,
       "version_minor": 0
      },
      "text/plain": [
       "layer packaging:   0%|          | 0/1 [00:00<?, ?it/s]"
      ]
     },
     "metadata": {},
     "output_type": "display_data"
    },
    {
     "name": "stderr",
     "output_type": "stream",
     "text": [
      "\n",
      "\u001b[A\n",
      "layer principal components: 100%|██████████| 1/1 [00:06<00:00,  6.46s/it]\n"
     ]
    },
    {
     "data": {
      "application/vnd.jupyter.widget-view+json": {
       "model_id": "6bc20b608a58412d98f87b22bab6358b",
       "version_major": 2,
       "version_minor": 0
      },
      "text/plain": [
       "layer packaging:   0%|          | 0/1 [00:00<?, ?it/s]"
      ]
     },
     "metadata": {},
     "output_type": "display_data"
    },
    {
     "name": "stderr",
     "output_type": "stream",
     "text": [
      "cross-validation: 100%|██████████| 10/10 [00:05<00:00,  1.98it/s]\n",
      "layers: 100%|██████████| 1/1 [00:24<00:00, 24.90s/it]\n"
     ]
    },
    {
     "data": {
      "application/vnd.jupyter.widget-view+json": {
       "model_id": "d372622120ec41799cc4d238a6b41157",
       "version_major": 2,
       "version_minor": 0
      },
      "text/plain": [
       "activations:   0%|          | 0/192 [00:00<?, ?it/s]"
      ]
     },
     "metadata": {},
     "output_type": "display_data"
    },
    {
     "data": {
      "application/vnd.jupyter.widget-view+json": {
       "model_id": "2f0174b5ad6d4fa186ae3ea0d7dc432a",
       "version_major": 2,
       "version_minor": 0
      },
      "text/plain": [
       "layer packaging:   0%|          | 0/1 [00:00<?, ?it/s]"
      ]
     },
     "metadata": {},
     "output_type": "display_data"
    },
    {
     "name": "stderr",
     "output_type": "stream",
     "text": [
      "cross-validation: 100%|██████████| 10/10 [02:35<00:00, 15.57s/it]\n"
     ]
    },
    {
     "name": "stdout",
     "output_type": "stream",
     "text": [
      "<xarray.Score ()>\n",
      "array(0.17020406)\n",
      "Attributes:\n",
      "    error:    <xarray.Score ()>\\narray(0.01259768)\n",
      "    raw:      <xarray.Score ()>\\narray(0.36336547)\\nAttributes:\\n    raw:    ...\n",
      "    ceiling:  <xarray.DataArray ()>\\narray(0.88076227)\\nAttributes:\\n    raw:...\n",
      "Looking in indexes: https://pypi.org/simple, https://packagecloud.io/github/git-lfs/pypi/simple\n",
      "Requirement already satisfied: numpy in /gpfs01/berens/user/fseel/miniconda3/envs/receptive-fields/lib/python3.11/site-packages (from -r /gpfs01/berens/user/fseel/miniconda3/envs/receptive-fields/lib/python3.11/site-packages/brainscore_vision/metrics/regression_correlation/requirements.txt (line 1)) (1.24.3)\n",
      "Requirement already satisfied: scipy in /gpfs01/berens/user/fseel/miniconda3/envs/receptive-fields/lib/python3.11/site-packages (from -r /gpfs01/berens/user/fseel/miniconda3/envs/receptive-fields/lib/python3.11/site-packages/brainscore_vision/metrics/regression_correlation/requirements.txt (line 2)) (1.11.3)\n",
      "Requirement already satisfied: scikit-learn in /gpfs01/berens/user/fseel/miniconda3/envs/receptive-fields/lib/python3.11/site-packages (from -r /gpfs01/berens/user/fseel/miniconda3/envs/receptive-fields/lib/python3.11/site-packages/brainscore_vision/metrics/regression_correlation/requirements.txt (line 3)) (1.3.0)\n",
      "Requirement already satisfied: joblib>=1.1.1 in /gpfs01/berens/user/fseel/miniconda3/envs/receptive-fields/lib/python3.11/site-packages (from scikit-learn->-r /gpfs01/berens/user/fseel/miniconda3/envs/receptive-fields/lib/python3.11/site-packages/brainscore_vision/metrics/regression_correlation/requirements.txt (line 3)) (1.2.0)\n",
      "Requirement already satisfied: threadpoolctl>=2.0.0 in /gpfs01/berens/user/fseel/miniconda3/envs/receptive-fields/lib/python3.11/site-packages (from scikit-learn->-r /gpfs01/berens/user/fseel/miniconda3/envs/receptive-fields/lib/python3.11/site-packages/brainscore_vision/metrics/regression_correlation/requirements.txt (line 3)) (2.2.0)\n",
      "Looking in indexes: https://pypi.org/simple, https://packagecloud.io/github/git-lfs/pypi/simple\n",
      "Requirement already satisfied: scipy in /gpfs01/berens/user/fseel/miniconda3/envs/receptive-fields/lib/python3.11/site-packages (from -r /gpfs01/berens/user/fseel/miniconda3/envs/receptive-fields/lib/python3.11/site-packages/brainscore_vision/metrics/internal_consistency/requirements.txt (line 1)) (1.11.3)\n",
      "Requirement already satisfied: numpy<1.28.0,>=1.21.6 in /gpfs01/berens/user/fseel/miniconda3/envs/receptive-fields/lib/python3.11/site-packages (from scipy->-r /gpfs01/berens/user/fseel/miniconda3/envs/receptive-fields/lib/python3.11/site-packages/brainscore_vision/metrics/internal_consistency/requirements.txt (line 1)) (1.24.3)\n"
     ]
    },
    {
     "name": "stderr",
     "output_type": "stream",
     "text": [
      "layers:   0%|          | 0/1 [00:00<?, ?it/s]"
     ]
    },
    {
     "data": {
      "application/vnd.jupyter.widget-view+json": {
       "model_id": "3389702969664d6a9d6e8d009ca6455f",
       "version_major": 2,
       "version_minor": 0
      },
      "text/plain": [
       "activations:   0%|          | 0/192 [00:00<?, ?it/s]"
      ]
     },
     "metadata": {},
     "output_type": "display_data"
    },
    {
     "data": {
      "application/vnd.jupyter.widget-view+json": {
       "model_id": "5a98a6da115f41e4b0647dbbb26f2ec4",
       "version_major": 2,
       "version_minor": 0
      },
      "text/plain": [
       "activations:   0%|          | 0/1024 [00:00<?, ?it/s]"
      ]
     },
     "metadata": {},
     "output_type": "display_data"
    },
    {
     "data": {
      "application/vnd.jupyter.widget-view+json": {
       "model_id": "12c569da82ac4c01badfb792da446f4f",
       "version_major": 2,
       "version_minor": 0
      },
      "text/plain": [
       "layer packaging:   0%|          | 0/1 [00:00<?, ?it/s]"
      ]
     },
     "metadata": {},
     "output_type": "display_data"
    },
    {
     "name": "stderr",
     "output_type": "stream",
     "text": [
      "\n",
      "\u001b[A\n",
      "layer principal components: 100%|██████████| 1/1 [00:19<00:00, 19.01s/it]\n"
     ]
    },
    {
     "data": {
      "application/vnd.jupyter.widget-view+json": {
       "model_id": "b54be4d0c7994caf8205ac0883b60893",
       "version_major": 2,
       "version_minor": 0
      },
      "text/plain": [
       "layer packaging:   0%|          | 0/1 [00:00<?, ?it/s]"
      ]
     },
     "metadata": {},
     "output_type": "display_data"
    },
    {
     "name": "stderr",
     "output_type": "stream",
     "text": [
      "cross-validation: 100%|██████████| 10/10 [00:04<00:00,  2.09it/s]\n",
      "layers: 100%|██████████| 1/1 [00:46<00:00, 46.07s/it]\n"
     ]
    },
    {
     "data": {
      "application/vnd.jupyter.widget-view+json": {
       "model_id": "018e43d9e3874732b1bd6694926bffa4",
       "version_major": 2,
       "version_minor": 0
      },
      "text/plain": [
       "activations:   0%|          | 0/192 [00:00<?, ?it/s]"
      ]
     },
     "metadata": {},
     "output_type": "display_data"
    },
    {
     "data": {
      "application/vnd.jupyter.widget-view+json": {
       "model_id": "a38d832b0a424917b628977203d5438d",
       "version_major": 2,
       "version_minor": 0
      },
      "text/plain": [
       "layer packaging:   0%|          | 0/1 [00:00<?, ?it/s]"
      ]
     },
     "metadata": {},
     "output_type": "display_data"
    },
    {
     "name": "stderr",
     "output_type": "stream",
     "text": [
      "cross-validation: 100%|██████████| 10/10 [06:00<00:00, 36.04s/it]\n"
     ]
    },
    {
     "name": "stdout",
     "output_type": "stream",
     "text": [
      "<xarray.Score ()>\n",
      "array(0.15123595)\n",
      "Attributes:\n",
      "    error:    <xarray.Score ()>\\narray(0.01079168)\n",
      "    raw:      <xarray.Score ()>\\narray(0.34252023)\\nAttributes:\\n    raw:    ...\n",
      "    ceiling:  <xarray.DataArray ()>\\narray(0.88076227)\\nAttributes:\\n    raw:...\n",
      "Looking in indexes: https://pypi.org/simple, https://packagecloud.io/github/git-lfs/pypi/simple\n",
      "Requirement already satisfied: numpy in /gpfs01/berens/user/fseel/miniconda3/envs/receptive-fields/lib/python3.11/site-packages (from -r /gpfs01/berens/user/fseel/miniconda3/envs/receptive-fields/lib/python3.11/site-packages/brainscore_vision/metrics/regression_correlation/requirements.txt (line 1)) (1.24.3)\n",
      "Requirement already satisfied: scipy in /gpfs01/berens/user/fseel/miniconda3/envs/receptive-fields/lib/python3.11/site-packages (from -r /gpfs01/berens/user/fseel/miniconda3/envs/receptive-fields/lib/python3.11/site-packages/brainscore_vision/metrics/regression_correlation/requirements.txt (line 2)) (1.11.3)\n",
      "Requirement already satisfied: scikit-learn in /gpfs01/berens/user/fseel/miniconda3/envs/receptive-fields/lib/python3.11/site-packages (from -r /gpfs01/berens/user/fseel/miniconda3/envs/receptive-fields/lib/python3.11/site-packages/brainscore_vision/metrics/regression_correlation/requirements.txt (line 3)) (1.3.0)\n",
      "Requirement already satisfied: joblib>=1.1.1 in /gpfs01/berens/user/fseel/miniconda3/envs/receptive-fields/lib/python3.11/site-packages (from scikit-learn->-r /gpfs01/berens/user/fseel/miniconda3/envs/receptive-fields/lib/python3.11/site-packages/brainscore_vision/metrics/regression_correlation/requirements.txt (line 3)) (1.2.0)\n",
      "Requirement already satisfied: threadpoolctl>=2.0.0 in /gpfs01/berens/user/fseel/miniconda3/envs/receptive-fields/lib/python3.11/site-packages (from scikit-learn->-r /gpfs01/berens/user/fseel/miniconda3/envs/receptive-fields/lib/python3.11/site-packages/brainscore_vision/metrics/regression_correlation/requirements.txt (line 3)) (2.2.0)\n",
      "Looking in indexes: https://pypi.org/simple, https://packagecloud.io/github/git-lfs/pypi/simple\n",
      "Requirement already satisfied: scipy in /gpfs01/berens/user/fseel/miniconda3/envs/receptive-fields/lib/python3.11/site-packages (from -r /gpfs01/berens/user/fseel/miniconda3/envs/receptive-fields/lib/python3.11/site-packages/brainscore_vision/metrics/internal_consistency/requirements.txt (line 1)) (1.11.3)\n",
      "Requirement already satisfied: numpy<1.28.0,>=1.21.6 in /gpfs01/berens/user/fseel/miniconda3/envs/receptive-fields/lib/python3.11/site-packages (from scipy->-r /gpfs01/berens/user/fseel/miniconda3/envs/receptive-fields/lib/python3.11/site-packages/brainscore_vision/metrics/internal_consistency/requirements.txt (line 1)) (1.24.3)\n"
     ]
    },
    {
     "name": "stderr",
     "output_type": "stream",
     "text": [
      "layers:   0%|          | 0/1 [00:00<?, ?it/s]"
     ]
    },
    {
     "data": {
      "application/vnd.jupyter.widget-view+json": {
       "model_id": "0bc30f2d8f254de48cea2f36e4f0da57",
       "version_major": 2,
       "version_minor": 0
      },
      "text/plain": [
       "activations:   0%|          | 0/192 [00:00<?, ?it/s]"
      ]
     },
     "metadata": {},
     "output_type": "display_data"
    },
    {
     "data": {
      "application/vnd.jupyter.widget-view+json": {
       "model_id": "917e2bc85eba47888ac6f20e9bca666e",
       "version_major": 2,
       "version_minor": 0
      },
      "text/plain": [
       "activations:   0%|          | 0/1024 [00:00<?, ?it/s]"
      ]
     },
     "metadata": {},
     "output_type": "display_data"
    },
    {
     "data": {
      "application/vnd.jupyter.widget-view+json": {
       "model_id": "f208caf16d894e8abc518b1224c19b4d",
       "version_major": 2,
       "version_minor": 0
      },
      "text/plain": [
       "layer packaging:   0%|          | 0/1 [00:00<?, ?it/s]"
      ]
     },
     "metadata": {},
     "output_type": "display_data"
    },
    {
     "name": "stderr",
     "output_type": "stream",
     "text": [
      "\n",
      "\u001b[A\n",
      "layer principal components: 100%|██████████| 1/1 [00:35<00:00, 35.26s/it]\n"
     ]
    },
    {
     "data": {
      "application/vnd.jupyter.widget-view+json": {
       "model_id": "c9a604f5919c4296b9ce25027ce1a8da",
       "version_major": 2,
       "version_minor": 0
      },
      "text/plain": [
       "layer packaging:   0%|          | 0/1 [00:00<?, ?it/s]"
      ]
     },
     "metadata": {},
     "output_type": "display_data"
    },
    {
     "name": "stderr",
     "output_type": "stream",
     "text": [
      "cross-validation: 100%|██████████| 10/10 [00:04<00:00,  2.13it/s]\n",
      "layers: 100%|██████████| 1/1 [01:17<00:00, 77.52s/it]\n"
     ]
    },
    {
     "data": {
      "application/vnd.jupyter.widget-view+json": {
       "model_id": "1a9df4fec1364670bc224ad602e479db",
       "version_major": 2,
       "version_minor": 0
      },
      "text/plain": [
       "activations:   0%|          | 0/192 [00:00<?, ?it/s]"
      ]
     },
     "metadata": {},
     "output_type": "display_data"
    },
    {
     "data": {
      "application/vnd.jupyter.widget-view+json": {
       "model_id": "424add45e3c84d7caedbbccec09436ef",
       "version_major": 2,
       "version_minor": 0
      },
      "text/plain": [
       "layer packaging:   0%|          | 0/1 [00:00<?, ?it/s]"
      ]
     },
     "metadata": {},
     "output_type": "display_data"
    },
    {
     "name": "stderr",
     "output_type": "stream",
     "text": [
      "cross-validation: 100%|██████████| 10/10 [11:24<00:00, 68.42s/it]\n"
     ]
    },
    {
     "name": "stdout",
     "output_type": "stream",
     "text": [
      "<xarray.Score ()>\n",
      "array(0.14934045)\n",
      "Attributes:\n",
      "    error:    <xarray.Score ()>\\narray(0.00812534)\n",
      "    raw:      <xarray.Score ()>\\narray(0.34036698)\\nAttributes:\\n    raw:    ...\n",
      "    ceiling:  <xarray.DataArray ()>\\narray(0.88076227)\\nAttributes:\\n    raw:...\n",
      "Looking in indexes: https://pypi.org/simple, https://packagecloud.io/github/git-lfs/pypi/simple\n",
      "Requirement already satisfied: numpy in /gpfs01/berens/user/fseel/miniconda3/envs/receptive-fields/lib/python3.11/site-packages (from -r /gpfs01/berens/user/fseel/miniconda3/envs/receptive-fields/lib/python3.11/site-packages/brainscore_vision/metrics/regression_correlation/requirements.txt (line 1)) (1.24.3)\n",
      "Requirement already satisfied: scipy in /gpfs01/berens/user/fseel/miniconda3/envs/receptive-fields/lib/python3.11/site-packages (from -r /gpfs01/berens/user/fseel/miniconda3/envs/receptive-fields/lib/python3.11/site-packages/brainscore_vision/metrics/regression_correlation/requirements.txt (line 2)) (1.11.3)\n",
      "Requirement already satisfied: scikit-learn in /gpfs01/berens/user/fseel/miniconda3/envs/receptive-fields/lib/python3.11/site-packages (from -r /gpfs01/berens/user/fseel/miniconda3/envs/receptive-fields/lib/python3.11/site-packages/brainscore_vision/metrics/regression_correlation/requirements.txt (line 3)) (1.3.0)\n",
      "Requirement already satisfied: joblib>=1.1.1 in /gpfs01/berens/user/fseel/miniconda3/envs/receptive-fields/lib/python3.11/site-packages (from scikit-learn->-r /gpfs01/berens/user/fseel/miniconda3/envs/receptive-fields/lib/python3.11/site-packages/brainscore_vision/metrics/regression_correlation/requirements.txt (line 3)) (1.2.0)\n",
      "Requirement already satisfied: threadpoolctl>=2.0.0 in /gpfs01/berens/user/fseel/miniconda3/envs/receptive-fields/lib/python3.11/site-packages (from scikit-learn->-r /gpfs01/berens/user/fseel/miniconda3/envs/receptive-fields/lib/python3.11/site-packages/brainscore_vision/metrics/regression_correlation/requirements.txt (line 3)) (2.2.0)\n",
      "Looking in indexes: https://pypi.org/simple, https://packagecloud.io/github/git-lfs/pypi/simple\n",
      "Requirement already satisfied: scipy in /gpfs01/berens/user/fseel/miniconda3/envs/receptive-fields/lib/python3.11/site-packages (from -r /gpfs01/berens/user/fseel/miniconda3/envs/receptive-fields/lib/python3.11/site-packages/brainscore_vision/metrics/internal_consistency/requirements.txt (line 1)) (1.11.3)\n",
      "Requirement already satisfied: numpy<1.28.0,>=1.21.6 in /gpfs01/berens/user/fseel/miniconda3/envs/receptive-fields/lib/python3.11/site-packages (from scipy->-r /gpfs01/berens/user/fseel/miniconda3/envs/receptive-fields/lib/python3.11/site-packages/brainscore_vision/metrics/internal_consistency/requirements.txt (line 1)) (1.24.3)\n"
     ]
    },
    {
     "name": "stderr",
     "output_type": "stream",
     "text": [
      "layers:   0%|          | 0/1 [00:00<?, ?it/s]"
     ]
    },
    {
     "data": {
      "application/vnd.jupyter.widget-view+json": {
       "model_id": "c743ed32ac8a4ab9874823af67c1f8c6",
       "version_major": 2,
       "version_minor": 0
      },
      "text/plain": [
       "activations:   0%|          | 0/192 [00:00<?, ?it/s]"
      ]
     },
     "metadata": {},
     "output_type": "display_data"
    },
    {
     "data": {
      "application/vnd.jupyter.widget-view+json": {
       "model_id": "a64ae97ebd5e4d679a97030073273fc1",
       "version_major": 2,
       "version_minor": 0
      },
      "text/plain": [
       "activations:   0%|          | 0/1024 [00:00<?, ?it/s]"
      ]
     },
     "metadata": {},
     "output_type": "display_data"
    },
    {
     "data": {
      "application/vnd.jupyter.widget-view+json": {
       "model_id": "65a5f23adf4649c98909c0d79b7e5f8e",
       "version_major": 2,
       "version_minor": 0
      },
      "text/plain": [
       "layer packaging:   0%|          | 0/1 [00:00<?, ?it/s]"
      ]
     },
     "metadata": {},
     "output_type": "display_data"
    },
    {
     "name": "stderr",
     "output_type": "stream",
     "text": [
      "\n",
      "\u001b[A\n",
      "layer principal components: 100%|██████████| 1/1 [00:45<00:00, 45.65s/it]\n"
     ]
    },
    {
     "data": {
      "application/vnd.jupyter.widget-view+json": {
       "model_id": "18b14a98c01d472f82a97a3093e740ca",
       "version_major": 2,
       "version_minor": 0
      },
      "text/plain": [
       "layer packaging:   0%|          | 0/1 [00:00<?, ?it/s]"
      ]
     },
     "metadata": {},
     "output_type": "display_data"
    },
    {
     "name": "stderr",
     "output_type": "stream",
     "text": [
      "/gpfs01/berens/user/fseel/miniconda3/envs/receptive-fields/lib/python3.11/site-packages/sklearn/cross_decomposition/_pls.py:113: ConvergenceWarning: Maximum number of iterations reached\n",
      "  warnings.warn(\"Maximum number of iterations reached\", ConvergenceWarning)\n",
      "cross-validation: 100%|██████████| 10/10 [00:04<00:00,  2.04it/s]\n",
      "layers: 100%|██████████| 1/1 [01:35<00:00, 95.99s/it]\n"
     ]
    },
    {
     "data": {
      "application/vnd.jupyter.widget-view+json": {
       "model_id": "3cc2ebd356dd409c95b761ec1bcab5a5",
       "version_major": 2,
       "version_minor": 0
      },
      "text/plain": [
       "activations:   0%|          | 0/192 [00:00<?, ?it/s]"
      ]
     },
     "metadata": {},
     "output_type": "display_data"
    },
    {
     "data": {
      "application/vnd.jupyter.widget-view+json": {
       "model_id": "20bb0554bf4344889639e31f507032ba",
       "version_major": 2,
       "version_minor": 0
      },
      "text/plain": [
       "layer packaging:   0%|          | 0/1 [00:00<?, ?it/s]"
      ]
     },
     "metadata": {},
     "output_type": "display_data"
    },
    {
     "name": "stderr",
     "output_type": "stream",
     "text": [
      "cross-validation:  10%|█         | 1/10 [01:26<12:57, 86.34s/it]/gpfs01/berens/user/fseel/miniconda3/envs/receptive-fields/lib/python3.11/site-packages/sklearn/cross_decomposition/_pls.py:113: ConvergenceWarning: Maximum number of iterations reached\n",
      "  warnings.warn(\"Maximum number of iterations reached\", ConvergenceWarning)\n",
      "cross-validation: 100%|██████████| 10/10 [14:47<00:00, 88.76s/it]\n"
     ]
    },
    {
     "name": "stdout",
     "output_type": "stream",
     "text": [
      "<xarray.Score ()>\n",
      "array(0.13622651)\n",
      "Attributes:\n",
      "    error:    <xarray.Score ()>\\narray(0.00874186)\n",
      "    raw:      <xarray.Score ()>\\narray(0.32507946)\\nAttributes:\\n    raw:    ...\n",
      "    ceiling:  <xarray.DataArray ()>\\narray(0.88076227)\\nAttributes:\\n    raw:...\n",
      "Looking in indexes: https://pypi.org/simple, https://packagecloud.io/github/git-lfs/pypi/simple\n",
      "Requirement already satisfied: numpy in /gpfs01/berens/user/fseel/miniconda3/envs/receptive-fields/lib/python3.11/site-packages (from -r /gpfs01/berens/user/fseel/miniconda3/envs/receptive-fields/lib/python3.11/site-packages/brainscore_vision/metrics/regression_correlation/requirements.txt (line 1)) (1.24.3)\n",
      "Requirement already satisfied: scipy in /gpfs01/berens/user/fseel/miniconda3/envs/receptive-fields/lib/python3.11/site-packages (from -r /gpfs01/berens/user/fseel/miniconda3/envs/receptive-fields/lib/python3.11/site-packages/brainscore_vision/metrics/regression_correlation/requirements.txt (line 2)) (1.11.3)\n",
      "Requirement already satisfied: scikit-learn in /gpfs01/berens/user/fseel/miniconda3/envs/receptive-fields/lib/python3.11/site-packages (from -r /gpfs01/berens/user/fseel/miniconda3/envs/receptive-fields/lib/python3.11/site-packages/brainscore_vision/metrics/regression_correlation/requirements.txt (line 3)) (1.3.0)\n",
      "Requirement already satisfied: joblib>=1.1.1 in /gpfs01/berens/user/fseel/miniconda3/envs/receptive-fields/lib/python3.11/site-packages (from scikit-learn->-r /gpfs01/berens/user/fseel/miniconda3/envs/receptive-fields/lib/python3.11/site-packages/brainscore_vision/metrics/regression_correlation/requirements.txt (line 3)) (1.2.0)\n",
      "Requirement already satisfied: threadpoolctl>=2.0.0 in /gpfs01/berens/user/fseel/miniconda3/envs/receptive-fields/lib/python3.11/site-packages (from scikit-learn->-r /gpfs01/berens/user/fseel/miniconda3/envs/receptive-fields/lib/python3.11/site-packages/brainscore_vision/metrics/regression_correlation/requirements.txt (line 3)) (2.2.0)\n",
      "Looking in indexes: https://pypi.org/simple, https://packagecloud.io/github/git-lfs/pypi/simple\n",
      "Requirement already satisfied: scipy in /gpfs01/berens/user/fseel/miniconda3/envs/receptive-fields/lib/python3.11/site-packages (from -r /gpfs01/berens/user/fseel/miniconda3/envs/receptive-fields/lib/python3.11/site-packages/brainscore_vision/metrics/internal_consistency/requirements.txt (line 1)) (1.11.3)\n",
      "Requirement already satisfied: numpy<1.28.0,>=1.21.6 in /gpfs01/berens/user/fseel/miniconda3/envs/receptive-fields/lib/python3.11/site-packages (from scipy->-r /gpfs01/berens/user/fseel/miniconda3/envs/receptive-fields/lib/python3.11/site-packages/brainscore_vision/metrics/internal_consistency/requirements.txt (line 1)) (1.24.3)\n"
     ]
    },
    {
     "name": "stderr",
     "output_type": "stream",
     "text": [
      "layers:   0%|          | 0/1 [00:00<?, ?it/s]"
     ]
    },
    {
     "data": {
      "application/vnd.jupyter.widget-view+json": {
       "model_id": "a9cd59c843704b84b12587400f3d9d6b",
       "version_major": 2,
       "version_minor": 0
      },
      "text/plain": [
       "activations:   0%|          | 0/192 [00:00<?, ?it/s]"
      ]
     },
     "metadata": {},
     "output_type": "display_data"
    },
    {
     "data": {
      "application/vnd.jupyter.widget-view+json": {
       "model_id": "8c0763eac3ea4a16b1e05ba675b52f01",
       "version_major": 2,
       "version_minor": 0
      },
      "text/plain": [
       "activations:   0%|          | 0/1024 [00:00<?, ?it/s]"
      ]
     },
     "metadata": {},
     "output_type": "display_data"
    },
    {
     "data": {
      "application/vnd.jupyter.widget-view+json": {
       "model_id": "4ea3fd2f0dad4cdca399718469bc505e",
       "version_major": 2,
       "version_minor": 0
      },
      "text/plain": [
       "layer packaging:   0%|          | 0/1 [00:00<?, ?it/s]"
      ]
     },
     "metadata": {},
     "output_type": "display_data"
    },
    {
     "name": "stderr",
     "output_type": "stream",
     "text": [
      "\n",
      "\u001b[A\n",
      "layer principal components: 100%|██████████| 1/1 [00:13<00:00, 13.28s/it]\n"
     ]
    },
    {
     "data": {
      "application/vnd.jupyter.widget-view+json": {
       "model_id": "52ca595c2aab438c970795729c694e0d",
       "version_major": 2,
       "version_minor": 0
      },
      "text/plain": [
       "layer packaging:   0%|          | 0/1 [00:00<?, ?it/s]"
      ]
     },
     "metadata": {},
     "output_type": "display_data"
    },
    {
     "name": "stderr",
     "output_type": "stream",
     "text": [
      "cross-validation: 100%|██████████| 10/10 [00:04<00:00,  2.23it/s]\n",
      "layers: 100%|██████████| 1/1 [00:32<00:00, 32.41s/it]\n"
     ]
    },
    {
     "data": {
      "application/vnd.jupyter.widget-view+json": {
       "model_id": "e6970cfc57394df2be511ea9f892fb8e",
       "version_major": 2,
       "version_minor": 0
      },
      "text/plain": [
       "activations:   0%|          | 0/192 [00:00<?, ?it/s]"
      ]
     },
     "metadata": {},
     "output_type": "display_data"
    },
    {
     "data": {
      "application/vnd.jupyter.widget-view+json": {
       "model_id": "3396208582734cd1bf1639978f709ee1",
       "version_major": 2,
       "version_minor": 0
      },
      "text/plain": [
       "layer packaging:   0%|          | 0/1 [00:00<?, ?it/s]"
      ]
     },
     "metadata": {},
     "output_type": "display_data"
    },
    {
     "name": "stderr",
     "output_type": "stream",
     "text": [
      "cross-validation: 100%|██████████| 10/10 [03:50<00:00, 23.04s/it]\n"
     ]
    },
    {
     "name": "stdout",
     "output_type": "stream",
     "text": [
      "<xarray.Score ()>\n",
      "array(0.15084409)\n",
      "Attributes:\n",
      "    error:    <xarray.Score ()>\\narray(0.00862135)\n",
      "    raw:      <xarray.Score ()>\\narray(0.34207619)\\nAttributes:\\n    raw:    ...\n",
      "    ceiling:  <xarray.DataArray ()>\\narray(0.88076227)\\nAttributes:\\n    raw:...\n",
      "Looking in indexes: https://pypi.org/simple, https://packagecloud.io/github/git-lfs/pypi/simple\n",
      "Requirement already satisfied: numpy in /gpfs01/berens/user/fseel/miniconda3/envs/receptive-fields/lib/python3.11/site-packages (from -r /gpfs01/berens/user/fseel/miniconda3/envs/receptive-fields/lib/python3.11/site-packages/brainscore_vision/metrics/regression_correlation/requirements.txt (line 1)) (1.24.3)\n",
      "Requirement already satisfied: scipy in /gpfs01/berens/user/fseel/miniconda3/envs/receptive-fields/lib/python3.11/site-packages (from -r /gpfs01/berens/user/fseel/miniconda3/envs/receptive-fields/lib/python3.11/site-packages/brainscore_vision/metrics/regression_correlation/requirements.txt (line 2)) (1.11.3)\n",
      "Requirement already satisfied: scikit-learn in /gpfs01/berens/user/fseel/miniconda3/envs/receptive-fields/lib/python3.11/site-packages (from -r /gpfs01/berens/user/fseel/miniconda3/envs/receptive-fields/lib/python3.11/site-packages/brainscore_vision/metrics/regression_correlation/requirements.txt (line 3)) (1.3.0)\n",
      "Requirement already satisfied: joblib>=1.1.1 in /gpfs01/berens/user/fseel/miniconda3/envs/receptive-fields/lib/python3.11/site-packages (from scikit-learn->-r /gpfs01/berens/user/fseel/miniconda3/envs/receptive-fields/lib/python3.11/site-packages/brainscore_vision/metrics/regression_correlation/requirements.txt (line 3)) (1.2.0)\n",
      "Requirement already satisfied: threadpoolctl>=2.0.0 in /gpfs01/berens/user/fseel/miniconda3/envs/receptive-fields/lib/python3.11/site-packages (from scikit-learn->-r /gpfs01/berens/user/fseel/miniconda3/envs/receptive-fields/lib/python3.11/site-packages/brainscore_vision/metrics/regression_correlation/requirements.txt (line 3)) (2.2.0)\n",
      "Looking in indexes: https://pypi.org/simple, https://packagecloud.io/github/git-lfs/pypi/simple\n",
      "Requirement already satisfied: scipy in /gpfs01/berens/user/fseel/miniconda3/envs/receptive-fields/lib/python3.11/site-packages (from -r /gpfs01/berens/user/fseel/miniconda3/envs/receptive-fields/lib/python3.11/site-packages/brainscore_vision/metrics/internal_consistency/requirements.txt (line 1)) (1.11.3)\n",
      "Requirement already satisfied: numpy<1.28.0,>=1.21.6 in /gpfs01/berens/user/fseel/miniconda3/envs/receptive-fields/lib/python3.11/site-packages (from scipy->-r /gpfs01/berens/user/fseel/miniconda3/envs/receptive-fields/lib/python3.11/site-packages/brainscore_vision/metrics/internal_consistency/requirements.txt (line 1)) (1.24.3)\n"
     ]
    },
    {
     "name": "stderr",
     "output_type": "stream",
     "text": [
      "layers:   0%|          | 0/1 [00:00<?, ?it/s]"
     ]
    },
    {
     "data": {
      "application/vnd.jupyter.widget-view+json": {
       "model_id": "382cd8e4e1e9441d9aeef727d5f1e67b",
       "version_major": 2,
       "version_minor": 0
      },
      "text/plain": [
       "activations:   0%|          | 0/192 [00:00<?, ?it/s]"
      ]
     },
     "metadata": {},
     "output_type": "display_data"
    },
    {
     "data": {
      "application/vnd.jupyter.widget-view+json": {
       "model_id": "1896d08a54744e2589aa0e8495eef7c0",
       "version_major": 2,
       "version_minor": 0
      },
      "text/plain": [
       "activations:   0%|          | 0/1024 [00:00<?, ?it/s]"
      ]
     },
     "metadata": {},
     "output_type": "display_data"
    },
    {
     "data": {
      "application/vnd.jupyter.widget-view+json": {
       "model_id": "b2b36337b6894f4580eb5b29589d4920",
       "version_major": 2,
       "version_minor": 0
      },
      "text/plain": [
       "layer packaging:   0%|          | 0/1 [00:00<?, ?it/s]"
      ]
     },
     "metadata": {},
     "output_type": "display_data"
    },
    {
     "name": "stderr",
     "output_type": "stream",
     "text": [
      "\n",
      "\u001b[A\n",
      "layer principal components: 100%|██████████| 1/1 [00:20<00:00, 20.03s/it]\n"
     ]
    },
    {
     "data": {
      "application/vnd.jupyter.widget-view+json": {
       "model_id": "0888fe72b8744ef2976cd61194ea4140",
       "version_major": 2,
       "version_minor": 0
      },
      "text/plain": [
       "layer packaging:   0%|          | 0/1 [00:00<?, ?it/s]"
      ]
     },
     "metadata": {},
     "output_type": "display_data"
    },
    {
     "name": "stderr",
     "output_type": "stream",
     "text": [
      "cross-validation: 100%|██████████| 10/10 [00:04<00:00,  2.09it/s]\n",
      "layers: 100%|██████████| 1/1 [00:44<00:00, 44.85s/it]\n"
     ]
    },
    {
     "data": {
      "application/vnd.jupyter.widget-view+json": {
       "model_id": "aaf9490fa5e844d58787dab45e4b88bb",
       "version_major": 2,
       "version_minor": 0
      },
      "text/plain": [
       "activations:   0%|          | 0/192 [00:00<?, ?it/s]"
      ]
     },
     "metadata": {},
     "output_type": "display_data"
    },
    {
     "data": {
      "application/vnd.jupyter.widget-view+json": {
       "model_id": "f00011430848414b859dbbc040e9f883",
       "version_major": 2,
       "version_minor": 0
      },
      "text/plain": [
       "layer packaging:   0%|          | 0/1 [00:00<?, ?it/s]"
      ]
     },
     "metadata": {},
     "output_type": "display_data"
    },
    {
     "name": "stderr",
     "output_type": "stream",
     "text": [
      "cross-validation: 100%|██████████| 10/10 [05:56<00:00, 35.64s/it]\n"
     ]
    },
    {
     "name": "stdout",
     "output_type": "stream",
     "text": [
      "<xarray.Score ()>\n",
      "array(0.13895682)\n",
      "Attributes:\n",
      "    error:    <xarray.Score ()>\\narray(0.01127177)\n",
      "    raw:      <xarray.Score ()>\\narray(0.32832098)\\nAttributes:\\n    raw:    ...\n",
      "    ceiling:  <xarray.DataArray ()>\\narray(0.88076227)\\nAttributes:\\n    raw:...\n",
      "Looking in indexes: https://pypi.org/simple, https://packagecloud.io/github/git-lfs/pypi/simple\n",
      "Requirement already satisfied: numpy in /gpfs01/berens/user/fseel/miniconda3/envs/receptive-fields/lib/python3.11/site-packages (from -r /gpfs01/berens/user/fseel/miniconda3/envs/receptive-fields/lib/python3.11/site-packages/brainscore_vision/metrics/regression_correlation/requirements.txt (line 1)) (1.24.3)\n",
      "Requirement already satisfied: scipy in /gpfs01/berens/user/fseel/miniconda3/envs/receptive-fields/lib/python3.11/site-packages (from -r /gpfs01/berens/user/fseel/miniconda3/envs/receptive-fields/lib/python3.11/site-packages/brainscore_vision/metrics/regression_correlation/requirements.txt (line 2)) (1.11.3)\n",
      "Requirement already satisfied: scikit-learn in /gpfs01/berens/user/fseel/miniconda3/envs/receptive-fields/lib/python3.11/site-packages (from -r /gpfs01/berens/user/fseel/miniconda3/envs/receptive-fields/lib/python3.11/site-packages/brainscore_vision/metrics/regression_correlation/requirements.txt (line 3)) (1.3.0)\n",
      "Requirement already satisfied: joblib>=1.1.1 in /gpfs01/berens/user/fseel/miniconda3/envs/receptive-fields/lib/python3.11/site-packages (from scikit-learn->-r /gpfs01/berens/user/fseel/miniconda3/envs/receptive-fields/lib/python3.11/site-packages/brainscore_vision/metrics/regression_correlation/requirements.txt (line 3)) (1.2.0)\n",
      "Requirement already satisfied: threadpoolctl>=2.0.0 in /gpfs01/berens/user/fseel/miniconda3/envs/receptive-fields/lib/python3.11/site-packages (from scikit-learn->-r /gpfs01/berens/user/fseel/miniconda3/envs/receptive-fields/lib/python3.11/site-packages/brainscore_vision/metrics/regression_correlation/requirements.txt (line 3)) (2.2.0)\n",
      "Looking in indexes: https://pypi.org/simple, https://packagecloud.io/github/git-lfs/pypi/simple\n",
      "Requirement already satisfied: scipy in /gpfs01/berens/user/fseel/miniconda3/envs/receptive-fields/lib/python3.11/site-packages (from -r /gpfs01/berens/user/fseel/miniconda3/envs/receptive-fields/lib/python3.11/site-packages/brainscore_vision/metrics/internal_consistency/requirements.txt (line 1)) (1.11.3)\n",
      "Requirement already satisfied: numpy<1.28.0,>=1.21.6 in /gpfs01/berens/user/fseel/miniconda3/envs/receptive-fields/lib/python3.11/site-packages (from scipy->-r /gpfs01/berens/user/fseel/miniconda3/envs/receptive-fields/lib/python3.11/site-packages/brainscore_vision/metrics/internal_consistency/requirements.txt (line 1)) (1.24.3)\n"
     ]
    },
    {
     "name": "stderr",
     "output_type": "stream",
     "text": [
      "layers:   0%|          | 0/1 [00:00<?, ?it/s]"
     ]
    },
    {
     "data": {
      "application/vnd.jupyter.widget-view+json": {
       "model_id": "8cb7435160844407a40bf42e3218eeeb",
       "version_major": 2,
       "version_minor": 0
      },
      "text/plain": [
       "activations:   0%|          | 0/192 [00:00<?, ?it/s]"
      ]
     },
     "metadata": {},
     "output_type": "display_data"
    },
    {
     "data": {
      "application/vnd.jupyter.widget-view+json": {
       "model_id": "2e20ef1b394a4ee8af06b209023aafd9",
       "version_major": 2,
       "version_minor": 0
      },
      "text/plain": [
       "activations:   0%|          | 0/1024 [00:00<?, ?it/s]"
      ]
     },
     "metadata": {},
     "output_type": "display_data"
    },
    {
     "data": {
      "application/vnd.jupyter.widget-view+json": {
       "model_id": "7d00fe0aaaca4a3e98f4d9e8632e20a5",
       "version_major": 2,
       "version_minor": 0
      },
      "text/plain": [
       "layer packaging:   0%|          | 0/1 [00:00<?, ?it/s]"
      ]
     },
     "metadata": {},
     "output_type": "display_data"
    },
    {
     "name": "stderr",
     "output_type": "stream",
     "text": [
      "\n",
      "\u001b[A\n",
      "layer principal components: 100%|██████████| 1/1 [00:36<00:00, 36.72s/it]\n"
     ]
    },
    {
     "data": {
      "application/vnd.jupyter.widget-view+json": {
       "model_id": "7bd88dcfc694478c88991ce3066c316c",
       "version_major": 2,
       "version_minor": 0
      },
      "text/plain": [
       "layer packaging:   0%|          | 0/1 [00:00<?, ?it/s]"
      ]
     },
     "metadata": {},
     "output_type": "display_data"
    },
    {
     "name": "stderr",
     "output_type": "stream",
     "text": [
      "cross-validation: 100%|██████████| 10/10 [00:04<00:00,  2.18it/s]\n",
      "layers: 100%|██████████| 1/1 [01:10<00:00, 70.93s/it]\n"
     ]
    },
    {
     "data": {
      "application/vnd.jupyter.widget-view+json": {
       "model_id": "a052fef1f610478bbb631bf4a20bdec2",
       "version_major": 2,
       "version_minor": 0
      },
      "text/plain": [
       "activations:   0%|          | 0/192 [00:00<?, ?it/s]"
      ]
     },
     "metadata": {},
     "output_type": "display_data"
    },
    {
     "data": {
      "application/vnd.jupyter.widget-view+json": {
       "model_id": "7772dc3a9bbc43a18c2359d40268a49d",
       "version_major": 2,
       "version_minor": 0
      },
      "text/plain": [
       "layer packaging:   0%|          | 0/1 [00:00<?, ?it/s]"
      ]
     },
     "metadata": {},
     "output_type": "display_data"
    },
    {
     "name": "stderr",
     "output_type": "stream",
     "text": [
      "cross-validation: 100%|██████████| 10/10 [10:43<00:00, 64.36s/it]\n"
     ]
    },
    {
     "name": "stdout",
     "output_type": "stream",
     "text": [
      "<xarray.Score ()>\n",
      "array(0.1052845)\n",
      "Attributes:\n",
      "    error:    <xarray.Score ()>\\narray(0.01587068)\n",
      "    raw:      <xarray.Score ()>\\narray(0.28578598)\\nAttributes:\\n    raw:    ...\n",
      "    ceiling:  <xarray.DataArray ()>\\narray(0.88076227)\\nAttributes:\\n    raw:...\n",
      "Looking in indexes: https://pypi.org/simple, https://packagecloud.io/github/git-lfs/pypi/simple\n",
      "Requirement already satisfied: numpy in /gpfs01/berens/user/fseel/miniconda3/envs/receptive-fields/lib/python3.11/site-packages (from -r /gpfs01/berens/user/fseel/miniconda3/envs/receptive-fields/lib/python3.11/site-packages/brainscore_vision/metrics/regression_correlation/requirements.txt (line 1)) (1.24.3)\n",
      "Requirement already satisfied: scipy in /gpfs01/berens/user/fseel/miniconda3/envs/receptive-fields/lib/python3.11/site-packages (from -r /gpfs01/berens/user/fseel/miniconda3/envs/receptive-fields/lib/python3.11/site-packages/brainscore_vision/metrics/regression_correlation/requirements.txt (line 2)) (1.11.3)\n",
      "Requirement already satisfied: scikit-learn in /gpfs01/berens/user/fseel/miniconda3/envs/receptive-fields/lib/python3.11/site-packages (from -r /gpfs01/berens/user/fseel/miniconda3/envs/receptive-fields/lib/python3.11/site-packages/brainscore_vision/metrics/regression_correlation/requirements.txt (line 3)) (1.3.0)\n",
      "Requirement already satisfied: joblib>=1.1.1 in /gpfs01/berens/user/fseel/miniconda3/envs/receptive-fields/lib/python3.11/site-packages (from scikit-learn->-r /gpfs01/berens/user/fseel/miniconda3/envs/receptive-fields/lib/python3.11/site-packages/brainscore_vision/metrics/regression_correlation/requirements.txt (line 3)) (1.2.0)\n",
      "Requirement already satisfied: threadpoolctl>=2.0.0 in /gpfs01/berens/user/fseel/miniconda3/envs/receptive-fields/lib/python3.11/site-packages (from scikit-learn->-r /gpfs01/berens/user/fseel/miniconda3/envs/receptive-fields/lib/python3.11/site-packages/brainscore_vision/metrics/regression_correlation/requirements.txt (line 3)) (2.2.0)\n",
      "Looking in indexes: https://pypi.org/simple, https://packagecloud.io/github/git-lfs/pypi/simple\n",
      "Requirement already satisfied: scipy in /gpfs01/berens/user/fseel/miniconda3/envs/receptive-fields/lib/python3.11/site-packages (from -r /gpfs01/berens/user/fseel/miniconda3/envs/receptive-fields/lib/python3.11/site-packages/brainscore_vision/metrics/internal_consistency/requirements.txt (line 1)) (1.11.3)\n",
      "Requirement already satisfied: numpy<1.28.0,>=1.21.6 in /gpfs01/berens/user/fseel/miniconda3/envs/receptive-fields/lib/python3.11/site-packages (from scipy->-r /gpfs01/berens/user/fseel/miniconda3/envs/receptive-fields/lib/python3.11/site-packages/brainscore_vision/metrics/internal_consistency/requirements.txt (line 1)) (1.24.3)\n"
     ]
    },
    {
     "name": "stderr",
     "output_type": "stream",
     "text": [
      "layers:   0%|          | 0/1 [00:00<?, ?it/s]"
     ]
    },
    {
     "data": {
      "application/vnd.jupyter.widget-view+json": {
       "model_id": "35a48a99f2f4456eb1e6840204a2e353",
       "version_major": 2,
       "version_minor": 0
      },
      "text/plain": [
       "activations:   0%|          | 0/192 [00:00<?, ?it/s]"
      ]
     },
     "metadata": {},
     "output_type": "display_data"
    },
    {
     "data": {
      "application/vnd.jupyter.widget-view+json": {
       "model_id": "17193feea0544060b0c981b8433bc000",
       "version_major": 2,
       "version_minor": 0
      },
      "text/plain": [
       "activations:   0%|          | 0/1024 [00:00<?, ?it/s]"
      ]
     },
     "metadata": {},
     "output_type": "display_data"
    },
    {
     "data": {
      "application/vnd.jupyter.widget-view+json": {
       "model_id": "27becde8a5794673a48b2595421aff81",
       "version_major": 2,
       "version_minor": 0
      },
      "text/plain": [
       "layer packaging:   0%|          | 0/1 [00:00<?, ?it/s]"
      ]
     },
     "metadata": {},
     "output_type": "display_data"
    },
    {
     "name": "stderr",
     "output_type": "stream",
     "text": [
      "\n",
      "\u001b[A\n",
      "layer principal components: 100%|██████████| 1/1 [01:23<00:00, 83.02s/it]\n"
     ]
    },
    {
     "data": {
      "application/vnd.jupyter.widget-view+json": {
       "model_id": "7df3099343ca4079a93f60fad94c776c",
       "version_major": 2,
       "version_minor": 0
      },
      "text/plain": [
       "layer packaging:   0%|          | 0/1 [00:00<?, ?it/s]"
      ]
     },
     "metadata": {},
     "output_type": "display_data"
    },
    {
     "name": "stderr",
     "output_type": "stream",
     "text": [
      "cross-validation: 100%|██████████| 10/10 [00:04<00:00,  2.05it/s]\n",
      "layers: 100%|██████████| 1/1 [02:29<00:00, 149.21s/it]\n"
     ]
    },
    {
     "data": {
      "application/vnd.jupyter.widget-view+json": {
       "model_id": "4081b06f30c640cda25d0aba85654da1",
       "version_major": 2,
       "version_minor": 0
      },
      "text/plain": [
       "activations:   0%|          | 0/192 [00:00<?, ?it/s]"
      ]
     },
     "metadata": {},
     "output_type": "display_data"
    },
    {
     "data": {
      "application/vnd.jupyter.widget-view+json": {
       "model_id": "08c66e0edd6a4306817fcae13889010a",
       "version_major": 2,
       "version_minor": 0
      },
      "text/plain": [
       "layer packaging:   0%|          | 0/1 [00:00<?, ?it/s]"
      ]
     },
     "metadata": {},
     "output_type": "display_data"
    },
    {
     "name": "stderr",
     "output_type": "stream",
     "text": [
      "cross-validation: 100%|██████████| 10/10 [28:16<00:00, 169.66s/it]\n"
     ]
    },
    {
     "name": "stdout",
     "output_type": "stream",
     "text": [
      "<xarray.Score ()>\n",
      "array(0.06622425)\n",
      "Attributes:\n",
      "    error:    <xarray.Score ()>\\narray(0.01731933)\n",
      "    raw:      <xarray.Score ()>\\narray(0.226656)\\nAttributes:\\n    raw:      ...\n",
      "    ceiling:  <xarray.DataArray ()>\\narray(0.88076227)\\nAttributes:\\n    raw:...\n",
      "Looking in indexes: https://pypi.org/simple, https://packagecloud.io/github/git-lfs/pypi/simple\n",
      "Requirement already satisfied: numpy in /gpfs01/berens/user/fseel/miniconda3/envs/receptive-fields/lib/python3.11/site-packages (from -r /gpfs01/berens/user/fseel/miniconda3/envs/receptive-fields/lib/python3.11/site-packages/brainscore_vision/metrics/regression_correlation/requirements.txt (line 1)) (1.24.3)\n",
      "Requirement already satisfied: scipy in /gpfs01/berens/user/fseel/miniconda3/envs/receptive-fields/lib/python3.11/site-packages (from -r /gpfs01/berens/user/fseel/miniconda3/envs/receptive-fields/lib/python3.11/site-packages/brainscore_vision/metrics/regression_correlation/requirements.txt (line 2)) (1.11.3)\n",
      "Requirement already satisfied: scikit-learn in /gpfs01/berens/user/fseel/miniconda3/envs/receptive-fields/lib/python3.11/site-packages (from -r /gpfs01/berens/user/fseel/miniconda3/envs/receptive-fields/lib/python3.11/site-packages/brainscore_vision/metrics/regression_correlation/requirements.txt (line 3)) (1.3.0)\n",
      "Requirement already satisfied: joblib>=1.1.1 in /gpfs01/berens/user/fseel/miniconda3/envs/receptive-fields/lib/python3.11/site-packages (from scikit-learn->-r /gpfs01/berens/user/fseel/miniconda3/envs/receptive-fields/lib/python3.11/site-packages/brainscore_vision/metrics/regression_correlation/requirements.txt (line 3)) (1.2.0)\n",
      "Requirement already satisfied: threadpoolctl>=2.0.0 in /gpfs01/berens/user/fseel/miniconda3/envs/receptive-fields/lib/python3.11/site-packages (from scikit-learn->-r /gpfs01/berens/user/fseel/miniconda3/envs/receptive-fields/lib/python3.11/site-packages/brainscore_vision/metrics/regression_correlation/requirements.txt (line 3)) (2.2.0)\n",
      "Looking in indexes: https://pypi.org/simple, https://packagecloud.io/github/git-lfs/pypi/simple\n",
      "Requirement already satisfied: scipy in /gpfs01/berens/user/fseel/miniconda3/envs/receptive-fields/lib/python3.11/site-packages (from -r /gpfs01/berens/user/fseel/miniconda3/envs/receptive-fields/lib/python3.11/site-packages/brainscore_vision/metrics/internal_consistency/requirements.txt (line 1)) (1.11.3)\n",
      "Requirement already satisfied: numpy<1.28.0,>=1.21.6 in /gpfs01/berens/user/fseel/miniconda3/envs/receptive-fields/lib/python3.11/site-packages (from scipy->-r /gpfs01/berens/user/fseel/miniconda3/envs/receptive-fields/lib/python3.11/site-packages/brainscore_vision/metrics/internal_consistency/requirements.txt (line 1)) (1.24.3)\n"
     ]
    },
    {
     "name": "stderr",
     "output_type": "stream",
     "text": [
      "layers:   0%|          | 0/1 [00:00<?, ?it/s]"
     ]
    },
    {
     "data": {
      "application/vnd.jupyter.widget-view+json": {
       "model_id": "50d19e5316af43438add426a55833491",
       "version_major": 2,
       "version_minor": 0
      },
      "text/plain": [
       "activations:   0%|          | 0/192 [00:00<?, ?it/s]"
      ]
     },
     "metadata": {},
     "output_type": "display_data"
    },
    {
     "data": {
      "application/vnd.jupyter.widget-view+json": {
       "model_id": "03dd471197d24575851ecfeda70a36af",
       "version_major": 2,
       "version_minor": 0
      },
      "text/plain": [
       "activations:   0%|          | 0/1024 [00:00<?, ?it/s]"
      ]
     },
     "metadata": {},
     "output_type": "display_data"
    },
    {
     "data": {
      "application/vnd.jupyter.widget-view+json": {
       "model_id": "e6b4cd1855ca4f57be0d594a0eb8b6f0",
       "version_major": 2,
       "version_minor": 0
      },
      "text/plain": [
       "layer packaging:   0%|          | 0/1 [00:00<?, ?it/s]"
      ]
     },
     "metadata": {},
     "output_type": "display_data"
    },
    {
     "name": "stderr",
     "output_type": "stream",
     "text": [
      "\n",
      "\u001b[A\n",
      "layer principal components: 100%|██████████| 1/1 [02:32<00:00, 152.62s/it]\n"
     ]
    },
    {
     "data": {
      "application/vnd.jupyter.widget-view+json": {
       "model_id": "18fdba92e4c24fb3816298905db86320",
       "version_major": 2,
       "version_minor": 0
      },
      "text/plain": [
       "layer packaging:   0%|          | 0/1 [00:00<?, ?it/s]"
      ]
     },
     "metadata": {},
     "output_type": "display_data"
    },
    {
     "name": "stderr",
     "output_type": "stream",
     "text": [
      "cross-validation: 100%|██████████| 10/10 [00:04<00:00,  2.01it/s]\n",
      "layers: 100%|██████████| 1/1 [04:25<00:00, 265.36s/it]\n"
     ]
    },
    {
     "data": {
      "application/vnd.jupyter.widget-view+json": {
       "model_id": "d811f94d3bfe453583d49da29a10ab11",
       "version_major": 2,
       "version_minor": 0
      },
      "text/plain": [
       "activations:   0%|          | 0/192 [00:00<?, ?it/s]"
      ]
     },
     "metadata": {},
     "output_type": "display_data"
    },
    {
     "data": {
      "application/vnd.jupyter.widget-view+json": {
       "model_id": "f0e1484bb0d94342bbc1b38aad3253df",
       "version_major": 2,
       "version_minor": 0
      },
      "text/plain": [
       "layer packaging:   0%|          | 0/1 [00:00<?, ?it/s]"
      ]
     },
     "metadata": {},
     "output_type": "display_data"
    },
    {
     "name": "stderr",
     "output_type": "stream",
     "text": [
      "cross-validation: 100%|██████████| 10/10 [58:49<00:00, 352.97s/it]\n"
     ]
    },
    {
     "name": "stdout",
     "output_type": "stream",
     "text": [
      "<xarray.Score ()>\n",
      "array(0.0609514)\n",
      "Attributes:\n",
      "    error:    <xarray.Score ()>\\narray(0.01342039)\n",
      "    raw:      <xarray.Score ()>\\narray(0.21744556)\\nAttributes:\\n    raw:    ...\n",
      "    ceiling:  <xarray.DataArray ()>\\narray(0.88076227)\\nAttributes:\\n    raw:...\n",
      "Looking in indexes: https://pypi.org/simple, https://packagecloud.io/github/git-lfs/pypi/simple\n",
      "Requirement already satisfied: numpy in /gpfs01/berens/user/fseel/miniconda3/envs/receptive-fields/lib/python3.11/site-packages (from -r /gpfs01/berens/user/fseel/miniconda3/envs/receptive-fields/lib/python3.11/site-packages/brainscore_vision/metrics/regression_correlation/requirements.txt (line 1)) (1.24.3)\n",
      "Requirement already satisfied: scipy in /gpfs01/berens/user/fseel/miniconda3/envs/receptive-fields/lib/python3.11/site-packages (from -r /gpfs01/berens/user/fseel/miniconda3/envs/receptive-fields/lib/python3.11/site-packages/brainscore_vision/metrics/regression_correlation/requirements.txt (line 2)) (1.11.3)\n",
      "Requirement already satisfied: scikit-learn in /gpfs01/berens/user/fseel/miniconda3/envs/receptive-fields/lib/python3.11/site-packages (from -r /gpfs01/berens/user/fseel/miniconda3/envs/receptive-fields/lib/python3.11/site-packages/brainscore_vision/metrics/regression_correlation/requirements.txt (line 3)) (1.3.0)\n",
      "Requirement already satisfied: joblib>=1.1.1 in /gpfs01/berens/user/fseel/miniconda3/envs/receptive-fields/lib/python3.11/site-packages (from scikit-learn->-r /gpfs01/berens/user/fseel/miniconda3/envs/receptive-fields/lib/python3.11/site-packages/brainscore_vision/metrics/regression_correlation/requirements.txt (line 3)) (1.2.0)\n",
      "Requirement already satisfied: threadpoolctl>=2.0.0 in /gpfs01/berens/user/fseel/miniconda3/envs/receptive-fields/lib/python3.11/site-packages (from scikit-learn->-r /gpfs01/berens/user/fseel/miniconda3/envs/receptive-fields/lib/python3.11/site-packages/brainscore_vision/metrics/regression_correlation/requirements.txt (line 3)) (2.2.0)\n",
      "Looking in indexes: https://pypi.org/simple, https://packagecloud.io/github/git-lfs/pypi/simple\n",
      "Requirement already satisfied: scipy in /gpfs01/berens/user/fseel/miniconda3/envs/receptive-fields/lib/python3.11/site-packages (from -r /gpfs01/berens/user/fseel/miniconda3/envs/receptive-fields/lib/python3.11/site-packages/brainscore_vision/metrics/internal_consistency/requirements.txt (line 1)) (1.11.3)\n",
      "Requirement already satisfied: numpy<1.28.0,>=1.21.6 in /gpfs01/berens/user/fseel/miniconda3/envs/receptive-fields/lib/python3.11/site-packages (from scipy->-r /gpfs01/berens/user/fseel/miniconda3/envs/receptive-fields/lib/python3.11/site-packages/brainscore_vision/metrics/internal_consistency/requirements.txt (line 1)) (1.24.3)\n"
     ]
    },
    {
     "name": "stderr",
     "output_type": "stream",
     "text": [
      "layers:   0%|          | 0/1 [00:00<?, ?it/s]"
     ]
    },
    {
     "data": {
      "application/vnd.jupyter.widget-view+json": {
       "model_id": "253b617682344c839c92a0726849c89b",
       "version_major": 2,
       "version_minor": 0
      },
      "text/plain": [
       "activations:   0%|          | 0/192 [00:00<?, ?it/s]"
      ]
     },
     "metadata": {},
     "output_type": "display_data"
    },
    {
     "data": {
      "application/vnd.jupyter.widget-view+json": {
       "model_id": "4f18b99463834522a8192f49face0ea7",
       "version_major": 2,
       "version_minor": 0
      },
      "text/plain": [
       "activations:   0%|          | 0/1024 [00:00<?, ?it/s]"
      ]
     },
     "metadata": {},
     "output_type": "display_data"
    },
    {
     "data": {
      "application/vnd.jupyter.widget-view+json": {
       "model_id": "70fc53e8f7cf4b3995623bc9d569f884",
       "version_major": 2,
       "version_minor": 0
      },
      "text/plain": [
       "layer packaging:   0%|          | 0/1 [00:00<?, ?it/s]"
      ]
     },
     "metadata": {},
     "output_type": "display_data"
    },
    {
     "name": "stderr",
     "output_type": "stream",
     "text": [
      "\n",
      "\u001b[A\n",
      "layer principal components: 100%|██████████| 1/1 [03:06<00:00, 186.12s/it]\n"
     ]
    },
    {
     "data": {
      "application/vnd.jupyter.widget-view+json": {
       "model_id": "e73c6a62046d4674b0192d4e01931544",
       "version_major": 2,
       "version_minor": 0
      },
      "text/plain": [
       "layer packaging:   0%|          | 0/1 [00:00<?, ?it/s]"
      ]
     },
     "metadata": {},
     "output_type": "display_data"
    },
    {
     "name": "stderr",
     "output_type": "stream",
     "text": [
      "cross-validation: 100%|██████████| 10/10 [00:04<00:00,  2.07it/s]\n",
      "layers: 100%|██████████| 1/1 [05:30<00:00, 330.93s/it]\n"
     ]
    },
    {
     "data": {
      "application/vnd.jupyter.widget-view+json": {
       "model_id": "744014bb6d9e479c92027cdfa3a400ec",
       "version_major": 2,
       "version_minor": 0
      },
      "text/plain": [
       "activations:   0%|          | 0/192 [00:00<?, ?it/s]"
      ]
     },
     "metadata": {},
     "output_type": "display_data"
    },
    {
     "data": {
      "application/vnd.jupyter.widget-view+json": {
       "model_id": "97c81b11b9754dd79555b60584b79f94",
       "version_major": 2,
       "version_minor": 0
      },
      "text/plain": [
       "layer packaging:   0%|          | 0/1 [00:00<?, ?it/s]"
      ]
     },
     "metadata": {},
     "output_type": "display_data"
    },
    {
     "name": "stderr",
     "output_type": "stream",
     "text": [
      "cross-validation: 100%|██████████| 10/10 [1:11:49<00:00, 430.98s/it]"
     ]
    },
    {
     "name": "stdout",
     "output_type": "stream",
     "text": [
      "<xarray.Score ()>\n",
      "array(0.07325194)\n",
      "Attributes:\n",
      "    error:    <xarray.Score ()>\\narray(0.01107218)\n",
      "    raw:      <xarray.Score ()>\\narray(0.23837915)\\nAttributes:\\n    raw:    ...\n",
      "    ceiling:  <xarray.DataArray ()>\\narray(0.88076227)\\nAttributes:\\n    raw:...\n"
     ]
    },
    {
     "name": "stderr",
     "output_type": "stream",
     "text": [
      "\n"
     ]
    }
   ],
   "source": [
    "scores = {}\n",
    "for layer in [11,8,5,2]:\n",
    "    for image_size in [100, min(model.img_size), max(model.img_size), 240, 320, 360]:\n",
    "        new_model = NamedFromSequential(model.get_sequential()[:layer]).to(device)\n",
    "        _id = str(layer)+\"_\"+str(image_size)#str(random.randint(0,2**16))\n",
    "        preprocessing = functools.partial(load_preprocess_images, image_size=image_size)\n",
    "        activations_model = PytorchWrapper(identifier=_id, model=new_model, preprocessing=preprocessing)\n",
    "        brain_model = ModelCommitment(identifier=_id, activations_model=activations_model,\n",
    "                                # specify layers to consider\n",
    "                                layers=['ELU_0'])\n",
    "        benchm = FreemanZiembaV1PublicBenchmark()\n",
    "        model_score = benchm(brain_model)\n",
    "        scores[_id] = model_score\n",
    "        print(model_score)"
   ]
  },
  {
   "cell_type": "code",
   "execution_count": 66,
   "metadata": {},
   "outputs": [
    {
     "data": {
      "text/plain": [
       "{'11_100': <xarray.Score ()>\n",
       " array(0.05640346)\n",
       " Attributes:\n",
       "     error:    <xarray.Score ()>\\narray(0.01426026)\n",
       "     raw:      <xarray.Score ()>\\narray(0.20917586)\\nAttributes:\\n    raw:    ...\n",
       "     ceiling:  <xarray.DataArray ()>\\narray(0.88076227)\\nAttributes:\\n    raw:...,\n",
       " '11_120': <xarray.Score ()>\n",
       " array(0.10567959)\n",
       " Attributes:\n",
       "     error:    <xarray.Score ()>\\narray(0.01907618)\n",
       "     raw:      <xarray.Score ()>\\narray(0.2863217)\\nAttributes:\\n    raw:     ...\n",
       "     ceiling:  <xarray.DataArray ()>\\narray(0.88076227)\\nAttributes:\\n    raw:...,\n",
       " '11_160': <xarray.Score ()>\n",
       " array(0.15647697)\n",
       " Attributes:\n",
       "     error:    <xarray.Score ()>\\narray(0.01833733)\n",
       "     raw:      <xarray.Score ()>\\narray(0.34840462)\\nAttributes:\\n    raw:    ...\n",
       "     ceiling:  <xarray.DataArray ()>\\narray(0.88076227)\\nAttributes:\\n    raw:...,\n",
       " '11_240': <xarray.Score ()>\n",
       " array(0.12992226)\n",
       " Attributes:\n",
       "     error:    <xarray.Score ()>\\narray(0.01390241)\n",
       "     raw:      <xarray.Score ()>\\narray(0.31746839)\\nAttributes:\\n    raw:    ...\n",
       "     ceiling:  <xarray.DataArray ()>\\narray(0.88076227)\\nAttributes:\\n    raw:...,\n",
       " '11_320': <xarray.Score ()>\n",
       " array(0.13180664)\n",
       " Attributes:\n",
       "     error:    <xarray.Score ()>\\narray(0.01851145)\n",
       "     raw:      <xarray.Score ()>\\narray(0.31976236)\\nAttributes:\\n    raw:    ...\n",
       "     ceiling:  <xarray.DataArray ()>\\narray(0.88076227)\\nAttributes:\\n    raw:...,\n",
       " '11_360': <xarray.Score ()>\n",
       " array(0.13272778)\n",
       " Attributes:\n",
       "     error:    <xarray.Score ()>\\narray(0.0110127)\n",
       "     raw:      <xarray.Score ()>\\narray(0.32087776)\\nAttributes:\\n    raw:    ...\n",
       "     ceiling:  <xarray.DataArray ()>\\narray(0.88076227)\\nAttributes:\\n    raw:...,\n",
       " '8_100': <xarray.Score ()>\n",
       " array(0.20041181)\n",
       " Attributes:\n",
       "     error:    <xarray.Score ()>\\narray(0.01316096)\n",
       "     raw:      <xarray.Score ()>\\narray(0.39429417)\\nAttributes:\\n    raw:    ...\n",
       "     ceiling:  <xarray.DataArray ()>\\narray(0.88076227)\\nAttributes:\\n    raw:...,\n",
       " '8_120': <xarray.Score ()>\n",
       " array(0.20316539)\n",
       " Attributes:\n",
       "     error:    <xarray.Score ()>\\narray(0.01626362)\n",
       "     raw:      <xarray.Score ()>\\narray(0.39699366)\\nAttributes:\\n    raw:    ...\n",
       "     ceiling:  <xarray.DataArray ()>\\narray(0.88076227)\\nAttributes:\\n    raw:...,\n",
       " '8_160': <xarray.Score ()>\n",
       " array(0.18149221)\n",
       " Attributes:\n",
       "     error:    <xarray.Score ()>\\narray(0.0128514)\n",
       "     raw:      <xarray.Score ()>\\narray(0.37522148)\\nAttributes:\\n    raw:    ...\n",
       "     ceiling:  <xarray.DataArray ()>\\narray(0.88076227)\\nAttributes:\\n    raw:...,\n",
       " '8_240': <xarray.Score ()>\n",
       " array(0.15216684)\n",
       " Attributes:\n",
       "     error:    <xarray.Score ()>\\narray(0.0129538)\n",
       "     raw:      <xarray.Score ()>\\narray(0.34357275)\\nAttributes:\\n    raw:    ...\n",
       "     ceiling:  <xarray.DataArray ()>\\narray(0.88076227)\\nAttributes:\\n    raw:...,\n",
       " '8_320': <xarray.Score ()>\n",
       " array(0.130313)\n",
       " Attributes:\n",
       "     error:    <xarray.Score ()>\\narray(0.01260067)\n",
       "     raw:      <xarray.Score ()>\\narray(0.31794543)\\nAttributes:\\n    raw:    ...\n",
       "     ceiling:  <xarray.DataArray ()>\\narray(0.88076227)\\nAttributes:\\n    raw:...,\n",
       " '8_360': <xarray.Score ()>\n",
       " array(0.11893661)\n",
       " Attributes:\n",
       "     error:    <xarray.Score ()>\\narray(0.0089246)\n",
       "     raw:      <xarray.Score ()>\\narray(0.30375013)\\nAttributes:\\n    raw:    ...\n",
       "     ceiling:  <xarray.DataArray ()>\\narray(0.88076227)\\nAttributes:\\n    raw:...,\n",
       " '5_100': <xarray.Score ()>\n",
       " array(0.19333344)\n",
       " Attributes:\n",
       "     error:    <xarray.Score ()>\\narray(0.01042329)\n",
       "     raw:      <xarray.Score ()>\\narray(0.38726852)\\nAttributes:\\n    raw:    ...\n",
       "     ceiling:  <xarray.DataArray ()>\\narray(0.88076227)\\nAttributes:\\n    raw:...,\n",
       " '5_120': <xarray.Score ()>\n",
       " array(0.19787422)\n",
       " Attributes:\n",
       "     error:    <xarray.Score ()>\\narray(0.01249318)\n",
       "     raw:      <xarray.Score ()>\\narray(0.39178997)\\nAttributes:\\n    raw:    ...\n",
       "     ceiling:  <xarray.DataArray ()>\\narray(0.88076227)\\nAttributes:\\n    raw:...,\n",
       " '5_160': <xarray.Score ()>\n",
       " array(0.17020406)\n",
       " Attributes:\n",
       "     error:    <xarray.Score ()>\\narray(0.01259768)\n",
       "     raw:      <xarray.Score ()>\\narray(0.36336547)\\nAttributes:\\n    raw:    ...\n",
       "     ceiling:  <xarray.DataArray ()>\\narray(0.88076227)\\nAttributes:\\n    raw:...,\n",
       " '5_240': <xarray.Score ()>\n",
       " array(0.15123595)\n",
       " Attributes:\n",
       "     error:    <xarray.Score ()>\\narray(0.01079168)\n",
       "     raw:      <xarray.Score ()>\\narray(0.34252023)\\nAttributes:\\n    raw:    ...\n",
       "     ceiling:  <xarray.DataArray ()>\\narray(0.88076227)\\nAttributes:\\n    raw:...,\n",
       " '5_320': <xarray.Score ()>\n",
       " array(0.14934045)\n",
       " Attributes:\n",
       "     error:    <xarray.Score ()>\\narray(0.00812534)\n",
       "     raw:      <xarray.Score ()>\\narray(0.34036698)\\nAttributes:\\n    raw:    ...\n",
       "     ceiling:  <xarray.DataArray ()>\\narray(0.88076227)\\nAttributes:\\n    raw:...,\n",
       " '5_360': <xarray.Score ()>\n",
       " array(0.13622651)\n",
       " Attributes:\n",
       "     error:    <xarray.Score ()>\\narray(0.00874186)\n",
       "     raw:      <xarray.Score ()>\\narray(0.32507946)\\nAttributes:\\n    raw:    ...\n",
       "     ceiling:  <xarray.DataArray ()>\\narray(0.88076227)\\nAttributes:\\n    raw:...,\n",
       " '2_100': <xarray.Score ()>\n",
       " array(0.15084409)\n",
       " Attributes:\n",
       "     error:    <xarray.Score ()>\\narray(0.00862135)\n",
       "     raw:      <xarray.Score ()>\\narray(0.34207619)\\nAttributes:\\n    raw:    ...\n",
       "     ceiling:  <xarray.DataArray ()>\\narray(0.88076227)\\nAttributes:\\n    raw:...,\n",
       " '2_120': <xarray.Score ()>\n",
       " array(0.13895682)\n",
       " Attributes:\n",
       "     error:    <xarray.Score ()>\\narray(0.01127177)\n",
       "     raw:      <xarray.Score ()>\\narray(0.32832098)\\nAttributes:\\n    raw:    ...\n",
       "     ceiling:  <xarray.DataArray ()>\\narray(0.88076227)\\nAttributes:\\n    raw:...,\n",
       " '2_160': <xarray.Score ()>\n",
       " array(0.1052845)\n",
       " Attributes:\n",
       "     error:    <xarray.Score ()>\\narray(0.01587068)\n",
       "     raw:      <xarray.Score ()>\\narray(0.28578598)\\nAttributes:\\n    raw:    ...\n",
       "     ceiling:  <xarray.DataArray ()>\\narray(0.88076227)\\nAttributes:\\n    raw:...,\n",
       " '2_240': <xarray.Score ()>\n",
       " array(0.06622425)\n",
       " Attributes:\n",
       "     error:    <xarray.Score ()>\\narray(0.01731933)\n",
       "     raw:      <xarray.Score ()>\\narray(0.226656)\\nAttributes:\\n    raw:      ...\n",
       "     ceiling:  <xarray.DataArray ()>\\narray(0.88076227)\\nAttributes:\\n    raw:...,\n",
       " '2_320': <xarray.Score ()>\n",
       " array(0.0609514)\n",
       " Attributes:\n",
       "     error:    <xarray.Score ()>\\narray(0.01342039)\n",
       "     raw:      <xarray.Score ()>\\narray(0.21744556)\\nAttributes:\\n    raw:    ...\n",
       "     ceiling:  <xarray.DataArray ()>\\narray(0.88076227)\\nAttributes:\\n    raw:...,\n",
       " '2_360': <xarray.Score ()>\n",
       " array(0.07325194)\n",
       " Attributes:\n",
       "     error:    <xarray.Score ()>\\narray(0.01107218)\n",
       "     raw:      <xarray.Score ()>\\narray(0.23837915)\\nAttributes:\\n    raw:    ...\n",
       "     ceiling:  <xarray.DataArray ()>\\narray(0.88076227)\\nAttributes:\\n    raw:...}"
      ]
     },
     "execution_count": 66,
     "metadata": {},
     "output_type": "execute_result"
    }
   ],
   "source": [
    "scores"
   ]
  },
  {
   "cell_type": "code",
   "execution_count": 82,
   "metadata": {},
   "outputs": [],
   "source": [
    "res_array = torch.zeros((3, len(scores)))\n",
    "for i, elem in enumerate(scores):\n",
    "    layer, in_size = elem.split(\"_\")\n",
    "    res_array[0, i] = int(layer) \n",
    "    res_array[1, i] = int(in_size)\n",
    "    res_array[2, i] = torch.from_numpy(scores[elem].values)"
   ]
  },
  {
   "cell_type": "code",
   "execution_count": 95,
   "metadata": {},
   "outputs": [
    {
     "data": {
      "image/png": "[encoded data removed]",
      "text/plain": [
       "<Figure size 640x480 with 2 Axes>"
      ]
     },
     "metadata": {},
     "output_type": "display_data"
    }
   ],
   "source": [
    "from matplotlib import pyplot as plt\n",
    "\n",
    "plt.scatter(res_array[1], res_array[0], c=res_array[2])\n",
    "plt.ylabel(\"layer\")\n",
    "plt.xlabel(\"Image Size\")\n",
    "plt.colorbar(label=\"FreemanZiembaV1\")\n",
    "plt.yticks(torch.unique(res_array[0]), labels=[\"ELU \"+str(i) for i in range(4)])\n",
    "plt.show()"
   ]
  },
  {
   "cell_type": "code",
   "execution_count": 36,
   "metadata": {},
   "outputs": [
    {
     "ename": "NameError",
     "evalue": "name 'aaa' is not defined",
     "output_type": "error",
     "traceback": [
      "\u001b[0;31m---------------------------------------------------------------------------\u001b[0m",
      "\u001b[0;31mNameError\u001b[0m                                 Traceback (most recent call last)",
      "Cell \u001b[0;32mIn[36], line 1\u001b[0m\n\u001b[0;32m----> 1\u001b[0m aaa\n",
      "\u001b[0;31mNameError\u001b[0m: name 'aaa' is not defined"
     ]
    }
   ],
   "source": [
    "aaa"
   ]
  },
  {
   "cell_type": "code",
   "execution_count": null,
   "metadata": {},
   "outputs": [
    {
     "name": "stdout",
     "output_type": "stream",
     "text": [
      "Looking in indexes: https://pypi.org/simple, https://packagecloud.io/github/git-lfs/pypi/simple\n",
      "Requirement already satisfied: numpy in /gpfs01/berens/user/fseel/miniconda3/envs/receptive-fields/lib/python3.11/site-packages (from -r /gpfs01/berens/user/fseel/miniconda3/envs/receptive-fields/lib/python3.11/site-packages/brainscore_vision/metrics/regression_correlation/requirements.txt (line 1)) (1.24.3)\n",
      "Requirement already satisfied: scipy in /gpfs01/berens/user/fseel/miniconda3/envs/receptive-fields/lib/python3.11/site-packages (from -r /gpfs01/berens/user/fseel/miniconda3/envs/receptive-fields/lib/python3.11/site-packages/brainscore_vision/metrics/regression_correlation/requirements.txt (line 2)) (1.11.3)\n",
      "Requirement already satisfied: scikit-learn in /gpfs01/berens/user/fseel/miniconda3/envs/receptive-fields/lib/python3.11/site-packages (from -r /gpfs01/berens/user/fseel/miniconda3/envs/receptive-fields/lib/python3.11/site-packages/brainscore_vision/metrics/regression_correlation/requirements.txt (line 3)) (1.3.0)\n",
      "Requirement already satisfied: joblib>=1.1.1 in /gpfs01/berens/user/fseel/miniconda3/envs/receptive-fields/lib/python3.11/site-packages (from scikit-learn->-r /gpfs01/berens/user/fseel/miniconda3/envs/receptive-fields/lib/python3.11/site-packages/brainscore_vision/metrics/regression_correlation/requirements.txt (line 3)) (1.2.0)\n",
      "Requirement already satisfied: threadpoolctl>=2.0.0 in /gpfs01/berens/user/fseel/miniconda3/envs/receptive-fields/lib/python3.11/site-packages (from scikit-learn->-r /gpfs01/berens/user/fseel/miniconda3/envs/receptive-fields/lib/python3.11/site-packages/brainscore_vision/metrics/regression_correlation/requirements.txt (line 3)) (2.2.0)\n",
      "Looking in indexes: https://pypi.org/simple, https://packagecloud.io/github/git-lfs/pypi/simple\n",
      "Requirement already satisfied: scipy in /gpfs01/berens/user/fseel/miniconda3/envs/receptive-fields/lib/python3.11/site-packages (from -r /gpfs01/berens/user/fseel/miniconda3/envs/receptive-fields/lib/python3.11/site-packages/brainscore_vision/metrics/internal_consistency/requirements.txt (line 1)) (1.11.3)\n",
      "Requirement already satisfied: numpy<1.28.0,>=1.21.6 in /gpfs01/berens/user/fseel/miniconda3/envs/receptive-fields/lib/python3.11/site-packages (from scipy->-r /gpfs01/berens/user/fseel/miniconda3/envs/receptive-fields/lib/python3.11/site-packages/brainscore_vision/metrics/internal_consistency/requirements.txt (line 1)) (1.24.3)\n"
     ]
    },
    {
     "name": "stderr",
     "output_type": "stream",
     "text": [
      "layers:   0%|          | 0/1 [00:00<?, ?it/s]"
     ]
    },
    {
     "data": {
      "application/vnd.jupyter.widget-view+json": {
       "model_id": "724228250bd6431ea67bc6c0437ca9f6",
       "version_major": 2,
       "version_minor": 0
      },
      "text/plain": [
       "activations:   0%|          | 0/192 [00:00<?, ?it/s]"
      ]
     },
     "metadata": {},
     "output_type": "display_data"
    },
    {
     "data": {
      "application/vnd.jupyter.widget-view+json": {
       "model_id": "6f3bcc72031b476ca5c63d4d5e8c911b",
       "version_major": 2,
       "version_minor": 0
      },
      "text/plain": [
       "activations:   0%|          | 0/1024 [00:00<?, ?it/s]"
      ]
     },
     "metadata": {},
     "output_type": "display_data"
    },
    {
     "data": {
      "application/vnd.jupyter.widget-view+json": {
       "model_id": "afac9db2de264100b9ff3a6532d290cf",
       "version_major": 2,
       "version_minor": 0
      },
      "text/plain": [
       "layer packaging:   0%|          | 0/1 [00:00<?, ?it/s]"
      ]
     },
     "metadata": {},
     "output_type": "display_data"
    },
    {
     "name": "stderr",
     "output_type": "stream",
     "text": [
      "\n",
      "\u001b[A\n",
      "layer principal components: 100%|██████████| 1/1 [00:15<00:00, 15.43s/it]\n"
     ]
    },
    {
     "data": {
      "application/vnd.jupyter.widget-view+json": {
       "model_id": "38de5c6c03ee48dda0bbf4718ba36012",
       "version_major": 2,
       "version_minor": 0
      },
      "text/plain": [
       "layer packaging:   0%|          | 0/1 [00:00<?, ?it/s]"
      ]
     },
     "metadata": {},
     "output_type": "display_data"
    },
    {
     "name": "stderr",
     "output_type": "stream",
     "text": [
      "cross-validation: 100%|██████████| 10/10 [00:08<00:00,  1.15it/s]\n",
      "layers: 100%|██████████| 1/1 [00:37<00:00, 37.01s/it]\n"
     ]
    },
    {
     "data": {
      "application/vnd.jupyter.widget-view+json": {
       "model_id": "44b9b8fbaeb6415c93b65227f7458f1f",
       "version_major": 2,
       "version_minor": 0
      },
      "text/plain": [
       "activations:   0%|          | 0/192 [00:00<?, ?it/s]"
      ]
     },
     "metadata": {},
     "output_type": "display_data"
    },
    {
     "data": {
      "application/vnd.jupyter.widget-view+json": {
       "model_id": "9343033a4eca469cb60af9428a78be84",
       "version_major": 2,
       "version_minor": 0
      },
      "text/plain": [
       "layer packaging:   0%|          | 0/1 [00:00<?, ?it/s]"
      ]
     },
     "metadata": {},
     "output_type": "display_data"
    },
    {
     "name": "stderr",
     "output_type": "stream",
     "text": [
      "cross-validation: 100%|██████████| 10/10 [02:35<00:00, 15.55s/it]"
     ]
    },
    {
     "name": "stdout",
     "output_type": "stream",
     "text": [
      "<xarray.Score ()>\n",
      "array(0.04261842)\n",
      "Attributes:\n",
      "    error:                 <xarray.Score ()>\\narray(0.01319437)\n",
      "    raw:                   <xarray.Score ()>\\narray(0.18182658)\\nAttributes:\\...\n",
      "    ceiling:               <xarray.DataArray ()>\\narray(0.88076227)\\nAttribut...\n",
      "    model_identifier:      pixels\n",
      "    benchmark_identifier:  FreemanZiemba2013public.V1-pls\n",
      "    comment:               layers: {'V1': 'pixels'}\n"
     ]
    },
    {
     "name": "stderr",
     "output_type": "stream",
     "text": [
      "\n"
     ]
    }
   ],
   "source": [
    "from brainscore_vision import score\n",
    "model_score = score(model_identifier='pixels', benchmark_identifier='FreemanZiemba2013public.V1-pls')\n",
    "print(model_score)"
   ]
  }
 ],
 "metadata": {
  "kernelspec": {
   "display_name": "receptive-fields",
   "language": "python",
   "name": "python3"
  },
  "language_info": {
   "codemirror_mode": {
    "name": "ipython",
    "version": 3
   },
   "file_extension": ".py",
   "mimetype": "text/x-python",
   "name": "python",
   "nbconvert_exporter": "python",
   "pygments_lexer": "ipython3",
   "version": "3.1.undefined"
  }
 },
 "nbformat": 4,
 "nbformat_minor": 2
}
